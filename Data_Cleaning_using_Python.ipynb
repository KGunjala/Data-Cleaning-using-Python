{
 "cells": [
  {
   "cell_type": "markdown",
   "metadata": {},
   "source": [
    "## IMPORTING THE REQUIRED LIBRARIES"
   ]
  },
  {
   "cell_type": "code",
   "execution_count": 1,
   "metadata": {},
   "outputs": [],
   "source": [
    "import pandas as pd\n",
    "import numpy as np\n",
    "import math\n",
    "import os\n",
    "import requests\n",
    "import json\n",
    "import re"
   ]
  },
  {
   "cell_type": "markdown",
   "metadata": {},
   "source": [
    "## READING THE CSV FILE INTO A DATAFRAME"
   ]
  },
  {
   "cell_type": "code",
   "execution_count": 2,
   "metadata": {},
   "outputs": [],
   "source": [
    "df = pd.read_csv('Met_unclean_data.csv')"
   ]
  },
  {
   "cell_type": "code",
   "execution_count": 3,
   "metadata": {
    "scrolled": true
   },
   "outputs": [
    {
     "data": {
      "text/html": [
       "<div>\n",
       "<style scoped>\n",
       "    .dataframe tbody tr th:only-of-type {\n",
       "        vertical-align: middle;\n",
       "    }\n",
       "\n",
       "    .dataframe tbody tr th {\n",
       "        vertical-align: top;\n",
       "    }\n",
       "\n",
       "    .dataframe thead th {\n",
       "        text-align: right;\n",
       "    }\n",
       "</style>\n",
       "<table border=\"1\" class=\"dataframe\">\n",
       "  <thead>\n",
       "    <tr style=\"text-align: right;\">\n",
       "      <th></th>\n",
       "      <th>Object Number</th>\n",
       "      <th>Object ID</th>\n",
       "      <th>Department</th>\n",
       "      <th>Object Name</th>\n",
       "      <th>Title</th>\n",
       "      <th>Culture</th>\n",
       "      <th>Period</th>\n",
       "      <th>Dynasty</th>\n",
       "      <th>Reign</th>\n",
       "      <th>Portfolio</th>\n",
       "      <th>...</th>\n",
       "      <th>Locale</th>\n",
       "      <th>Locus</th>\n",
       "      <th>Excavation</th>\n",
       "      <th>River</th>\n",
       "      <th>Classification</th>\n",
       "      <th>Rights and Reproduction</th>\n",
       "      <th>Link Resource</th>\n",
       "      <th>Metadata Date</th>\n",
       "      <th>Repository</th>\n",
       "      <th>Tags</th>\n",
       "    </tr>\n",
       "  </thead>\n",
       "  <tbody>\n",
       "    <tr>\n",
       "      <th>0</th>\n",
       "      <td>62.16</td>\n",
       "      <td>1674</td>\n",
       "      <td>American Decorative Arts</td>\n",
       "      <td>Side Chair</td>\n",
       "      <td>Side Chair</td>\n",
       "      <td>American</td>\n",
       "      <td>NaN</td>\n",
       "      <td>NaN</td>\n",
       "      <td>NaN</td>\n",
       "      <td>NaN</td>\n",
       "      <td>...</td>\n",
       "      <td>NaN</td>\n",
       "      <td>NaN</td>\n",
       "      <td>NaN</td>\n",
       "      <td>NaN</td>\n",
       "      <td>Furniture</td>\n",
       "      <td>NaN</td>\n",
       "      <td>http://www.metmuseum.org/art/collection/search...</td>\n",
       "      <td>5/13/2019 8:00</td>\n",
       "      <td>Metropolitan Museum of Art, New York, NY</td>\n",
       "      <td>Chairs</td>\n",
       "    </tr>\n",
       "    <tr>\n",
       "      <th>1</th>\n",
       "      <td>13.7.17</td>\n",
       "      <td>2430</td>\n",
       "      <td>American Decorative Arts</td>\n",
       "      <td>Pitcher</td>\n",
       "      <td>Covered Pitcher</td>\n",
       "      <td>American</td>\n",
       "      <td>NaN</td>\n",
       "      <td>NaN</td>\n",
       "      <td>NaN</td>\n",
       "      <td>NaN</td>\n",
       "      <td>...</td>\n",
       "      <td>NaN</td>\n",
       "      <td>NaN</td>\n",
       "      <td>NaN</td>\n",
       "      <td>NaN</td>\n",
       "      <td>Ceramics</td>\n",
       "      <td>NaN</td>\n",
       "      <td>http://www.metmuseum.org/art/collection/search...</td>\n",
       "      <td>5/13/2019 8:00</td>\n",
       "      <td>Metropolitan Museum of Art, New York, NY</td>\n",
       "      <td>Pitchers</td>\n",
       "    </tr>\n",
       "    <tr>\n",
       "      <th>2</th>\n",
       "      <td>33.85.11</td>\n",
       "      <td>6406</td>\n",
       "      <td>American Decorative Arts</td>\n",
       "      <td>Plate</td>\n",
       "      <td>Plate</td>\n",
       "      <td>Dutch</td>\n",
       "      <td>NaN</td>\n",
       "      <td>NaN</td>\n",
       "      <td>NaN</td>\n",
       "      <td>NaN</td>\n",
       "      <td>...</td>\n",
       "      <td>NaN</td>\n",
       "      <td>NaN</td>\n",
       "      <td>NaN</td>\n",
       "      <td>NaN</td>\n",
       "      <td>Ceramics</td>\n",
       "      <td>NaN</td>\n",
       "      <td>http://www.metmuseum.org/art/collection/search...</td>\n",
       "      <td>5/13/2019 8:00</td>\n",
       "      <td>Metropolitan Museum of Art, New York, NY</td>\n",
       "      <td>NaN</td>\n",
       "    </tr>\n",
       "  </tbody>\n",
       "</table>\n",
       "<p>3 rows × 41 columns</p>\n",
       "</div>"
      ],
      "text/plain": [
       "  Object Number  Object ID                Department Object Name  \\\n",
       "0         62.16       1674  American Decorative Arts  Side Chair   \n",
       "1       13.7.17       2430  American Decorative Arts     Pitcher   \n",
       "2      33.85.11       6406  American Decorative Arts       Plate   \n",
       "\n",
       "             Title   Culture Period Dynasty Reign Portfolio  ... Locale Locus  \\\n",
       "0       Side Chair  American    NaN     NaN   NaN       NaN  ...    NaN   NaN   \n",
       "1  Covered Pitcher  American    NaN     NaN   NaN       NaN  ...    NaN   NaN   \n",
       "2            Plate     Dutch    NaN     NaN   NaN       NaN  ...    NaN   NaN   \n",
       "\n",
       "  Excavation River Classification Rights and Reproduction  \\\n",
       "0        NaN   NaN      Furniture                     NaN   \n",
       "1        NaN   NaN       Ceramics                     NaN   \n",
       "2        NaN   NaN       Ceramics                     NaN   \n",
       "\n",
       "                                       Link Resource   Metadata Date  \\\n",
       "0  http://www.metmuseum.org/art/collection/search...  5/13/2019 8:00   \n",
       "1  http://www.metmuseum.org/art/collection/search...  5/13/2019 8:00   \n",
       "2  http://www.metmuseum.org/art/collection/search...  5/13/2019 8:00   \n",
       "\n",
       "                                 Repository      Tags  \n",
       "0  Metropolitan Museum of Art, New York, NY    Chairs  \n",
       "1  Metropolitan Museum of Art, New York, NY  Pitchers  \n",
       "2  Metropolitan Museum of Art, New York, NY       NaN  \n",
       "\n",
       "[3 rows x 41 columns]"
      ]
     },
     "execution_count": 3,
     "metadata": {},
     "output_type": "execute_result"
    }
   ],
   "source": [
    "df.head(3)"
   ]
  },
  {
   "cell_type": "code",
   "execution_count": 4,
   "metadata": {},
   "outputs": [
    {
     "data": {
      "text/plain": [
       "(204, 41)"
      ]
     },
     "execution_count": 4,
     "metadata": {},
     "output_type": "execute_result"
    }
   ],
   "source": [
    "df.shape"
   ]
  },
  {
   "cell_type": "markdown",
   "metadata": {},
   "source": [
    " "
   ]
  },
  {
   "cell_type": "markdown",
   "metadata": {},
   "source": [
    "## SUBSETTING THE DATAFRAME TO INCLUDE ONLY THE REQUIRED COLUMNS"
   ]
  },
  {
   "cell_type": "code",
   "execution_count": 5,
   "metadata": {},
   "outputs": [],
   "source": [
    "req_data = df[['Object ID', 'Department', 'Object Name', 'Title', 'Culture', 'Artist Nationality', 'Object Begin Date', 'Object End Date',\n",
    "                'Medium', 'Credit Line', 'Country']]"
   ]
  },
  {
   "cell_type": "code",
   "execution_count": 6,
   "metadata": {},
   "outputs": [
    {
     "data": {
      "text/html": [
       "<div>\n",
       "<style scoped>\n",
       "    .dataframe tbody tr th:only-of-type {\n",
       "        vertical-align: middle;\n",
       "    }\n",
       "\n",
       "    .dataframe tbody tr th {\n",
       "        vertical-align: top;\n",
       "    }\n",
       "\n",
       "    .dataframe thead th {\n",
       "        text-align: right;\n",
       "    }\n",
       "</style>\n",
       "<table border=\"1\" class=\"dataframe\">\n",
       "  <thead>\n",
       "    <tr style=\"text-align: right;\">\n",
       "      <th></th>\n",
       "      <th>Object ID</th>\n",
       "      <th>Department</th>\n",
       "      <th>Object Name</th>\n",
       "      <th>Title</th>\n",
       "      <th>Culture</th>\n",
       "      <th>Artist Nationality</th>\n",
       "      <th>Object Begin Date</th>\n",
       "      <th>Object End Date</th>\n",
       "      <th>Medium</th>\n",
       "      <th>Credit Line</th>\n",
       "      <th>Country</th>\n",
       "    </tr>\n",
       "  </thead>\n",
       "  <tbody>\n",
       "    <tr>\n",
       "      <th>0</th>\n",
       "      <td>1674</td>\n",
       "      <td>American Decorative Arts</td>\n",
       "      <td>Side Chair</td>\n",
       "      <td>Side Chair</td>\n",
       "      <td>American</td>\n",
       "      <td>NaN</td>\n",
       "      <td>1794</td>\n",
       "      <td>1799.0</td>\n",
       "      <td>Mahogany, ebony, ash, birch, white pine</td>\n",
       "      <td>Friends of the American Wing Fund, 1962</td>\n",
       "      <td>United States</td>\n",
       "    </tr>\n",
       "    <tr>\n",
       "      <th>1</th>\n",
       "      <td>2430</td>\n",
       "      <td>American Decorative Arts</td>\n",
       "      <td>Pitcher</td>\n",
       "      <td>Covered Pitcher</td>\n",
       "      <td>American</td>\n",
       "      <td>NaN</td>\n",
       "      <td>1700</td>\n",
       "      <td>1900.0</td>\n",
       "      <td>Earthenware</td>\n",
       "      <td>Rogers Fund, 1913</td>\n",
       "      <td>United States</td>\n",
       "    </tr>\n",
       "    <tr>\n",
       "      <th>2</th>\n",
       "      <td>6406</td>\n",
       "      <td>American Decorative Arts</td>\n",
       "      <td>Plate</td>\n",
       "      <td>Plate</td>\n",
       "      <td>Dutch</td>\n",
       "      <td>NaN</td>\n",
       "      <td>1740</td>\n",
       "      <td>1760.0</td>\n",
       "      <td>Earthenware</td>\n",
       "      <td>Rogers Fund, 1933</td>\n",
       "      <td>Netherlands</td>\n",
       "    </tr>\n",
       "    <tr>\n",
       "      <th>3</th>\n",
       "      <td>7616</td>\n",
       "      <td>American Decorative Arts</td>\n",
       "      <td>Soup bowl</td>\n",
       "      <td>Soup Bowl</td>\n",
       "      <td>American</td>\n",
       "      <td>NaN</td>\n",
       "      <td>1885</td>\n",
       "      <td>1885.0</td>\n",
       "      <td>Porcelain</td>\n",
       "      <td>Gift of Mr. and Mrs. Franklin Chace, 1969</td>\n",
       "      <td>United States</td>\n",
       "    </tr>\n",
       "    <tr>\n",
       "      <th>4</th>\n",
       "      <td>15012</td>\n",
       "      <td>American Decorative Arts</td>\n",
       "      <td>Painting, miniature</td>\n",
       "      <td>Portrait of a Lady</td>\n",
       "      <td>American</td>\n",
       "      <td>NaN</td>\n",
       "      <td>1840</td>\n",
       "      <td>1840.0</td>\n",
       "      <td>Watercolor on ivory</td>\n",
       "      <td>Fletcher Fund, 2006</td>\n",
       "      <td>NaN</td>\n",
       "    </tr>\n",
       "  </tbody>\n",
       "</table>\n",
       "</div>"
      ],
      "text/plain": [
       "   Object ID                Department          Object Name  \\\n",
       "0       1674  American Decorative Arts           Side Chair   \n",
       "1       2430  American Decorative Arts              Pitcher   \n",
       "2       6406  American Decorative Arts                Plate   \n",
       "3       7616  American Decorative Arts            Soup bowl   \n",
       "4      15012  American Decorative Arts  Painting, miniature   \n",
       "\n",
       "                Title   Culture Artist Nationality  Object Begin Date  \\\n",
       "0          Side Chair  American                NaN               1794   \n",
       "1     Covered Pitcher  American                NaN               1700   \n",
       "2               Plate     Dutch                NaN               1740   \n",
       "3           Soup Bowl  American                NaN               1885   \n",
       "4  Portrait of a Lady  American                NaN               1840   \n",
       "\n",
       "   Object End Date                                   Medium  \\\n",
       "0           1799.0  Mahogany, ebony, ash, birch, white pine   \n",
       "1           1900.0                              Earthenware   \n",
       "2           1760.0                              Earthenware   \n",
       "3           1885.0                                Porcelain   \n",
       "4           1840.0                      Watercolor on ivory   \n",
       "\n",
       "                                 Credit Line        Country  \n",
       "0    Friends of the American Wing Fund, 1962  United States  \n",
       "1                          Rogers Fund, 1913  United States  \n",
       "2                          Rogers Fund, 1933    Netherlands  \n",
       "3  Gift of Mr. and Mrs. Franklin Chace, 1969  United States  \n",
       "4                        Fletcher Fund, 2006            NaN  "
      ]
     },
     "execution_count": 6,
     "metadata": {},
     "output_type": "execute_result"
    }
   ],
   "source": [
    "req_data.head(5)"
   ]
  },
  {
   "cell_type": "code",
   "execution_count": 7,
   "metadata": {},
   "outputs": [
    {
     "data": {
      "text/plain": [
       "(204, 11)"
      ]
     },
     "execution_count": 7,
     "metadata": {},
     "output_type": "execute_result"
    }
   ],
   "source": [
    "req_data.shape"
   ]
  },
  {
   "cell_type": "markdown",
   "metadata": {},
   "source": [
    "## CHECK THE NUMBER OF MISSING VALUES IN EACH COLUMN"
   ]
  },
  {
   "cell_type": "code",
   "execution_count": 8,
   "metadata": {},
   "outputs": [
    {
     "data": {
      "text/plain": [
       "Object ID               0\n",
       "Department              1\n",
       "Object Name             1\n",
       "Title                  10\n",
       "Culture               120\n",
       "Artist Nationality    117\n",
       "Object Begin Date       0\n",
       "Object End Date         2\n",
       "Medium                  2\n",
       "Credit Line             0\n",
       "Country               172\n",
       "dtype: int64"
      ]
     },
     "execution_count": 8,
     "metadata": {},
     "output_type": "execute_result"
    }
   ],
   "source": [
    "req_data.isna().sum()"
   ]
  },
  {
   "cell_type": "code",
   "execution_count": null,
   "metadata": {},
   "outputs": [],
   "source": []
  },
  {
   "cell_type": "markdown",
   "metadata": {},
   "source": [
    "## START WITH THE 'Department' COLUMN"
   ]
  },
  {
   "cell_type": "markdown",
   "metadata": {},
   "source": [
    "<I> First, we check the unique values present in the column. If any discrepancies - such as non standard form or leading/trailing spaces are found, we fix them. Later, we check the missing value and note how we can deal with it </I>"
   ]
  },
  {
   "cell_type": "code",
   "execution_count": 9,
   "metadata": {},
   "outputs": [
    {
     "data": {
      "text/plain": [
       "array(['American Decorative Arts', 'Arms and Armor', 'Asian Art',\n",
       "       'Costume Institute', 'European Sculpture and Decorative Arts',\n",
       "       'Greek and Roman Art', 'Photographs',\n",
       "       'Arts of Africa, Oceania, and the Americas', nan,\n",
       "       'Ancient Near Eastern Art', 'Drawings and Prints', 'Islamic Art',\n",
       "       'Robert Lehman Collection', 'Medieval Art', 'The Cloisters',\n",
       "       'Modern and Contemporary Art', 'Egyptian Art'], dtype=object)"
      ]
     },
     "execution_count": 9,
     "metadata": {},
     "output_type": "execute_result"
    }
   ],
   "source": [
    "req_data['Department'].unique()"
   ]
  },
  {
   "cell_type": "markdown",
   "metadata": {},
   "source": [
    "<I> next, we take a look at the row with the missing Dept value. The original dataframe also contains a link to the object's museum page. We can navigate to this page and identiy the Department's name to impute this missing value </I>"
   ]
  },
  {
   "cell_type": "code",
   "execution_count": 10,
   "metadata": {
    "scrolled": true
   },
   "outputs": [
    {
     "data": {
      "text/plain": [
       "Object Number                                                    1994.35.185\n",
       "Object ID                                                             317005\n",
       "Department                                                               NaN\n",
       "Object Name                                                            Cloth\n",
       "Title                                                         Carrying Cloth\n",
       "Culture                                                              Quechua\n",
       "Period                                                                   NaN\n",
       "Dynasty                                                                  NaN\n",
       "Reign                                                                    NaN\n",
       "Portfolio                                                                NaN\n",
       "Artist Role                                                              NaN\n",
       "Artist Prefix                                                            NaN\n",
       "Artist Display Name                                                      NaN\n",
       "Artist Display Bio                                                       NaN\n",
       "Artist Suffix                                                            NaN\n",
       "Artist Nationality                                                       NaN\n",
       "Artist Begin Date                                                        NaN\n",
       "Artist End Date                                                          NaN\n",
       "Object Date                                                     20th century\n",
       "Object Begin Date                                                       1900\n",
       "Object End Date                                                         2000\n",
       "Medium                                                          Camelid hair\n",
       "Dimensions                                H. 27 x W. 22 in. (68.6 x 55.9 cm)\n",
       "Credit Line                             Bequest of Arthur M. Bullowa, 1993  \n",
       "Geography Type                                                           NaN\n",
       "City                                                                     NaN\n",
       "State                                                                    NaN\n",
       "County                                                                   NaN\n",
       "Country                                                                 Peru\n",
       "Region                                                                   NaN\n",
       "Subregion                                                                NaN\n",
       "Locale                                                                   NaN\n",
       "Locus                                                                    NaN\n",
       "Excavation                                                               NaN\n",
       "River                                                                    NaN\n",
       "Classification                                                Textiles-Woven\n",
       "Rights and Reproduction                                                  NaN\n",
       "Link Resource              http://www.metmuseum.org/art/collection/search...\n",
       "Metadata Date                                                 5/13/2019 8:00\n",
       "Repository                          Metropolitan Museum of Art, New York, NY\n",
       "Tags                                                                Textiles\n",
       "Name: 76, dtype: object"
      ]
     },
     "execution_count": 10,
     "metadata": {},
     "output_type": "execute_result"
    }
   ],
   "source": [
    "df.loc[76]"
   ]
  },
  {
   "cell_type": "code",
   "execution_count": 11,
   "metadata": {},
   "outputs": [],
   "source": [
    "# Search for the object in the museum using the Object Number - Also known as the Accession Number on the museum's page"
   ]
  },
  {
   "cell_type": "code",
   "execution_count": 12,
   "metadata": {},
   "outputs": [
    {
     "data": {
      "text/plain": [
       "'1994.35.185'"
      ]
     },
     "execution_count": 12,
     "metadata": {},
     "output_type": "execute_result"
    }
   ],
   "source": [
    "df.loc[76]['Object Number']"
   ]
  },
  {
   "cell_type": "markdown",
   "metadata": {},
   "source": [
    "<I> Having identified the Department, we plug it into our data </I>"
   ]
  },
  {
   "cell_type": "code",
   "execution_count": 13,
   "metadata": {},
   "outputs": [
    {
     "name": "stderr",
     "output_type": "stream",
     "text": [
      "<ipython-input-13-219b34d17d30>:1: SettingWithCopyWarning: \n",
      "A value is trying to be set on a copy of a slice from a DataFrame\n",
      "\n",
      "See the caveats in the documentation: https://pandas.pydata.org/pandas-docs/stable/user_guide/indexing.html#returning-a-view-versus-a-copy\n",
      "  req_data['Department'][76] = 'The Michael C. Rockefeller Wing'\n",
      "C:\\Users\\sidew\\AppData\\Roaming\\Python\\Python38\\site-packages\\IPython\\core\\interactiveshell.py:3417: SettingWithCopyWarning: \n",
      "A value is trying to be set on a copy of a slice from a DataFrame\n",
      "\n",
      "See the caveats in the documentation: https://pandas.pydata.org/pandas-docs/stable/user_guide/indexing.html#returning-a-view-versus-a-copy\n",
      "  exec(code_obj, self.user_global_ns, self.user_ns)\n"
     ]
    }
   ],
   "source": [
    "req_data['Department'][76] = 'The Michael C. Rockefeller Wing'"
   ]
  },
  {
   "cell_type": "code",
   "execution_count": 14,
   "metadata": {},
   "outputs": [
    {
     "data": {
      "text/plain": [
       "array(['American Decorative Arts', 'Arms and Armor', 'Asian Art',\n",
       "       'Costume Institute', 'European Sculpture and Decorative Arts',\n",
       "       'Greek and Roman Art', 'Photographs',\n",
       "       'Arts of Africa, Oceania, and the Americas',\n",
       "       'The Michael C. Rockefeller Wing', 'Ancient Near Eastern Art',\n",
       "       'Drawings and Prints', 'Islamic Art', 'Robert Lehman Collection',\n",
       "       'Medieval Art', 'The Cloisters', 'Modern and Contemporary Art',\n",
       "       'Egyptian Art'], dtype=object)"
      ]
     },
     "execution_count": 14,
     "metadata": {},
     "output_type": "execute_result"
    }
   ],
   "source": [
    "req_data['Department'].unique()"
   ]
  },
  {
   "cell_type": "markdown",
   "metadata": {},
   "source": [
    "<I> Since we can't be sure of the entries, its better to trim any unwanted spaces for all entries, if they exist. We can use the <B>strip()</B> function for this </I>"
   ]
  },
  {
   "cell_type": "code",
   "execution_count": 15,
   "metadata": {},
   "outputs": [
    {
     "name": "stderr",
     "output_type": "stream",
     "text": [
      "<ipython-input-15-8602ba4dfd78>:2: SettingWithCopyWarning: \n",
      "A value is trying to be set on a copy of a slice from a DataFrame\n",
      "\n",
      "See the caveats in the documentation: https://pandas.pydata.org/pandas-docs/stable/user_guide/indexing.html#returning-a-view-versus-a-copy\n",
      "  req_data['Department'][i] = req_data['Department'][i].strip()\n"
     ]
    }
   ],
   "source": [
    "for i in range(req_data.shape[0]):\n",
    "    req_data['Department'][i] = req_data['Department'][i].strip()"
   ]
  },
  {
   "cell_type": "code",
   "execution_count": null,
   "metadata": {},
   "outputs": [],
   "source": []
  },
  {
   "cell_type": "code",
   "execution_count": 16,
   "metadata": {},
   "outputs": [
    {
     "data": {
      "text/plain": [
       "Object ID               0\n",
       "Department              0\n",
       "Object Name             1\n",
       "Title                  10\n",
       "Culture               120\n",
       "Artist Nationality    117\n",
       "Object Begin Date       0\n",
       "Object End Date         2\n",
       "Medium                  2\n",
       "Credit Line             0\n",
       "Country               172\n",
       "dtype: int64"
      ]
     },
     "execution_count": 16,
     "metadata": {},
     "output_type": "execute_result"
    }
   ],
   "source": [
    "req_data.isna().sum()"
   ]
  },
  {
   "cell_type": "code",
   "execution_count": null,
   "metadata": {},
   "outputs": [],
   "source": []
  },
  {
   "cell_type": "code",
   "execution_count": null,
   "metadata": {},
   "outputs": [],
   "source": []
  },
  {
   "cell_type": "markdown",
   "metadata": {},
   "source": [
    "## 'Object Name' COLUMN'S MISSING VALUE"
   ]
  },
  {
   "cell_type": "code",
   "execution_count": 17,
   "metadata": {
    "scrolled": true
   },
   "outputs": [
    {
     "data": {
      "text/plain": [
       "Object Number                                                 SL.6.2016.88.1\n",
       "Object ID                                                             656878\n",
       "Department                                       Modern and Contemporary Art\n",
       "Object Name                                                              NaN\n",
       "Title                      New York City 2[unfinished, formerly New York ...\n",
       "Culture                                                                  NaN\n",
       "Period                                                                   NaN\n",
       "Dynasty                                                                  NaN\n",
       "Reign                                                                    NaN\n",
       "Portfolio                                                                NaN\n",
       "Artist Role                                                           Artist\n",
       "Artist Prefix                                                            NaN\n",
       "Artist Display Name                                            Piet Mondrian\n",
       "Artist Display Bio                      Dutch, Amersfoort 1872–1944 New York\n",
       "Artist Suffix                                                            NaN\n",
       "Artist Nationality                                                       NaN\n",
       "Artist Begin Date                                                       1872\n",
       "Artist End Date                                                         1944\n",
       "Object Date                                                             1941\n",
       "Object Begin Date                                                       1941\n",
       "Object End Date                                                         1941\n",
       "Medium                                                Oil and tape on canvas\n",
       "Dimensions                             45 1/4 × 38 7/8 in. (114.9 × 98.7 cm)\n",
       "Credit Line                San Francisco Museum of Modern Art, Purchase t...\n",
       "Geography Type                                             Country of Origin\n",
       "City                                                                     NaN\n",
       "State                                                                    NaN\n",
       "County                                                                   NaN\n",
       "Country                                                                  USA\n",
       "Region                                                                   NaN\n",
       "Subregion                                                                NaN\n",
       "Locale                                                                   NaN\n",
       "Locus                                                                    NaN\n",
       "Excavation                                                               NaN\n",
       "River                                                                    NaN\n",
       "Classification                                                     Paintings\n",
       "Rights and Reproduction                 © San Francisco Museum of Modern Art\n",
       "Link Resource              http://www.metmuseum.org/art/collection/search...\n",
       "Metadata Date                                                 5/13/2019 8:00\n",
       "Repository                          Metropolitan Museum of Art, New York, NY\n",
       "Tags                                                                     NaN\n",
       "Name: 165, dtype: object"
      ]
     },
     "execution_count": 17,
     "metadata": {},
     "output_type": "execute_result"
    }
   ],
   "source": [
    "df.loc[165]"
   ]
  },
  {
   "cell_type": "markdown",
   "metadata": {},
   "source": [
    "<I> we adopt a similar approach of navigating to the page in the museum's website. </I> <B>However, no such record seems to exist in the museum's page. </B> <I>So we delete this record which contains false/incorrect/outdated information</I>"
   ]
  },
  {
   "cell_type": "code",
   "execution_count": 18,
   "metadata": {},
   "outputs": [
    {
     "data": {
      "text/plain": [
       "'SL.6.2016.88.1'"
      ]
     },
     "execution_count": 18,
     "metadata": {},
     "output_type": "execute_result"
    }
   ],
   "source": [
    "df.loc[165]['Object Number']"
   ]
  },
  {
   "cell_type": "markdown",
   "metadata": {},
   "source": [
    "#### Moving forward, the strip function will be applied to all the columns containing string type values"
   ]
  },
  {
   "cell_type": "code",
   "execution_count": 19,
   "metadata": {},
   "outputs": [
    {
     "name": "stderr",
     "output_type": "stream",
     "text": [
      "<ipython-input-19-8b5295514134>:3: SettingWithCopyWarning: \n",
      "A value is trying to be set on a copy of a slice from a DataFrame\n",
      "\n",
      "See the caveats in the documentation: https://pandas.pydata.org/pandas-docs/stable/user_guide/indexing.html#returning-a-view-versus-a-copy\n",
      "  req_data['Object Name'][i] = req_data['Object Name'][i].strip()\n"
     ]
    }
   ],
   "source": [
    "for i in range(req_data.shape[0]):\n",
    "    if not req_data['Object Name'][i] != req_data['Object Name'][i]:\n",
    "        req_data['Object Name'][i] = req_data['Object Name'][i].strip()"
   ]
  },
  {
   "cell_type": "markdown",
   "metadata": {},
   "source": [
    "### DROP THE RECORD BEARING INDEX NUMBER 165 FROM OUR SUBSET DATAFRAME"
   ]
  },
  {
   "cell_type": "code",
   "execution_count": 20,
   "metadata": {},
   "outputs": [],
   "source": [
    "req_data = req_data.drop(165)\n",
    "req_data = req_data.reset_index(drop = True)"
   ]
  },
  {
   "cell_type": "markdown",
   "metadata": {},
   "source": [
    "### WE ALSO NOTICE THAT THE VALUES ARE IN NON STANDARDISED FORM, SO WE FIX THEM"
   ]
  },
  {
   "cell_type": "code",
   "execution_count": 21,
   "metadata": {
    "scrolled": true
   },
   "outputs": [
    {
     "data": {
      "text/plain": [
       "array(['Side Chair', 'Pitcher', 'Plate', 'Soup bowl',\n",
       "       'Painting, miniature', 'Arrowhead (Yanonē)',\n",
       "       'Knife handle (Kozuka)', 'Coin (Thaler)', 'Two drawings',\n",
       "       'Partisan', 'Sword guard (Tsuba)', 'Dirk with sheath',\n",
       "       'Hanging scroll mounted as handscroll', 'Girdle ornament',\n",
       "       'Bracelet', 'Print', 'Album leaf', 'Inrō', 'Basket', 'Piece',\n",
       "       'Hanging scroll', 'Drawing', 'Belt', 'Pumps', 'Evening dress',\n",
       "       'Shoes', 'Earrings', 'Cap', 'Hat', 'Mules', 'Gloves', 'Ensemble',\n",
       "       'Necklace', 'Jacket', 'Chemisette', 'Fan', 'Undersleeves',\n",
       "       'Evening shoes', 'Knife and fork with case', 'Swags',\n",
       "       'Jug with cover', 'Plaque', 'Snuffbox', 'Chess set', 'Toy',\n",
       "       'Souvenir spoon', 'Border', 'Fragment', 'Borders', 'Panel',\n",
       "       'Statuette of a seated goddess', 'Axehead',\n",
       "       'Fibula, boat-shaped type', 'Statuette of a woman, seated', 'Seal',\n",
       "       'Photograph', 'Glass positive', 'Negative', 'Horn', 'Snake figure',\n",
       "       'Pendant', 'Painting', 'Cloth', 'Ritual stone', 'Costume element',\n",
       "       'Sherd', 'Sculpture', 'Bead', 'Print; Poster', 'Book',\n",
       "       'Drawing Ornament & Architecture',\n",
       "       'Drawing ; Ornament and architecture', 'Baseball card',\n",
       "       'Baseball card, print', 'Dado panel',\n",
       "       'Folio from an illustrated manuscript', 'Hilt', 'Capital',\n",
       "       'Roundel', 'Glass', 'Design', 'Bowl',\n",
       "       'Figurine, female, fragmentary', 'Ostracon, hieratic',\n",
       "       'Figurine, seated woman', 'Beaker, white cross-lined ware', 'Club',\n",
       "       'Basket, coil, lid', 'Jar Label', 'Jar Label, meat',\n",
       "       'Relief fragment', \"Linen, from Wah's Mummy\",\n",
       "       'Print, baseball card', 'Books Prints Ornament & Architecture',\n",
       "       'Photograph; Photomicrograph', 'Album', 'Kylix fragment',\n",
       "       'Prints Ornament & Architecture', 'Column-krater fragment',\n",
       "       'Ephemera', 'Oinochoe fragment',\n",
       "       'Book Print Ornament & Architecture', 'Skyphos fragment',\n",
       "       'Print, baseball', 'Vase', 'Dish', 'Trade card', 'Print; ephemera'],\n",
       "      dtype=object)"
      ]
     },
     "execution_count": 21,
     "metadata": {},
     "output_type": "execute_result"
    }
   ],
   "source": [
    "req_data['Object Name'].unique()"
   ]
  },
  {
   "cell_type": "markdown",
   "metadata": {},
   "source": [
    " "
   ]
  },
  {
   "cell_type": "markdown",
   "metadata": {},
   "source": [
    "The value <B>'Drawing Ornament & Architecture' </B>and <B>'Drawing ; Ornament and Architecture' </B>represent the same entry level. However, they have been represented differently.\n",
    "\n",
    "* <U>We fix such cases across the column's values</U>.\n",
    " \n",
    "* Note that some values, though they seem similar, have not been modified since we have no clear idea of what the object actually is."
   ]
  },
  {
   "cell_type": "code",
   "execution_count": 22,
   "metadata": {},
   "outputs": [
    {
     "data": {
      "text/html": [
       "<div>\n",
       "<style scoped>\n",
       "    .dataframe tbody tr th:only-of-type {\n",
       "        vertical-align: middle;\n",
       "    }\n",
       "\n",
       "    .dataframe tbody tr th {\n",
       "        vertical-align: top;\n",
       "    }\n",
       "\n",
       "    .dataframe thead th {\n",
       "        text-align: right;\n",
       "    }\n",
       "</style>\n",
       "<table border=\"1\" class=\"dataframe\">\n",
       "  <thead>\n",
       "    <tr style=\"text-align: right;\">\n",
       "      <th></th>\n",
       "      <th>Object ID</th>\n",
       "      <th>Department</th>\n",
       "      <th>Object Name</th>\n",
       "      <th>Title</th>\n",
       "      <th>Culture</th>\n",
       "      <th>Artist Nationality</th>\n",
       "      <th>Object Begin Date</th>\n",
       "      <th>Object End Date</th>\n",
       "      <th>Medium</th>\n",
       "      <th>Credit Line</th>\n",
       "      <th>Country</th>\n",
       "    </tr>\n",
       "  </thead>\n",
       "  <tbody>\n",
       "    <tr>\n",
       "      <th>99</th>\n",
       "      <td>367617</td>\n",
       "      <td>Drawings and Prints</td>\n",
       "      <td>Drawing Ornament &amp; Architecture</td>\n",
       "      <td>Francis W. Little House: Furniture Plan</td>\n",
       "      <td>NaN</td>\n",
       "      <td>American</td>\n",
       "      <td>1908</td>\n",
       "      <td>1914.0</td>\n",
       "      <td>Graphite and orange and brown pencil</td>\n",
       "      <td>Purchase, Emily Crane Chadborne Bequest, 1972</td>\n",
       "      <td>NaN</td>\n",
       "    </tr>\n",
       "    <tr>\n",
       "      <th>104</th>\n",
       "      <td>386510</td>\n",
       "      <td>Drawings and Prints</td>\n",
       "      <td>Drawing ; Ornament and architecture</td>\n",
       "      <td>Ceiling Design, Half of a Circle</td>\n",
       "      <td>NaN</td>\n",
       "      <td>British</td>\n",
       "      <td>1800</td>\n",
       "      <td>1899.0</td>\n",
       "      <td>Watercolor with gold</td>\n",
       "      <td>Gift of the Royal Institute of British Archite...</td>\n",
       "      <td>NaN</td>\n",
       "    </tr>\n",
       "  </tbody>\n",
       "</table>\n",
       "</div>"
      ],
      "text/plain": [
       "     Object ID           Department                          Object Name  \\\n",
       "99      367617  Drawings and Prints      Drawing Ornament & Architecture   \n",
       "104     386510  Drawings and Prints  Drawing ; Ornament and architecture   \n",
       "\n",
       "                                       Title Culture Artist Nationality  \\\n",
       "99   Francis W. Little House: Furniture Plan     NaN           American   \n",
       "104         Ceiling Design, Half of a Circle     NaN            British   \n",
       "\n",
       "     Object Begin Date  Object End Date                                Medium  \\\n",
       "99                1908           1914.0  Graphite and orange and brown pencil   \n",
       "104               1800           1899.0                  Watercolor with gold   \n",
       "\n",
       "                                           Credit Line Country  \n",
       "99       Purchase, Emily Crane Chadborne Bequest, 1972     NaN  \n",
       "104  Gift of the Royal Institute of British Archite...     NaN  "
      ]
     },
     "execution_count": 22,
     "metadata": {},
     "output_type": "execute_result"
    }
   ],
   "source": [
    "req_data[(req_data['Object Name'] == 'Drawing Ornament & Architecture') | \n",
    "         (req_data['Object Name'] == 'Drawing ; Ornament and architecture')]"
   ]
  },
  {
   "cell_type": "code",
   "execution_count": 23,
   "metadata": {},
   "outputs": [
    {
     "name": "stderr",
     "output_type": "stream",
     "text": [
      "<ipython-input-23-30f415174fb3>:1: SettingWithCopyWarning: \n",
      "A value is trying to be set on a copy of a slice from a DataFrame\n",
      "\n",
      "See the caveats in the documentation: https://pandas.pydata.org/pandas-docs/stable/user_guide/indexing.html#returning-a-view-versus-a-copy\n",
      "  req_data['Object Name'][99] = 'Drawing Ornament & Architecture'\n",
      "<ipython-input-23-30f415174fb3>:2: SettingWithCopyWarning: \n",
      "A value is trying to be set on a copy of a slice from a DataFrame\n",
      "\n",
      "See the caveats in the documentation: https://pandas.pydata.org/pandas-docs/stable/user_guide/indexing.html#returning-a-view-versus-a-copy\n",
      "  req_data['Object Name'][104] = 'Drawing Ornament & Architecture'\n"
     ]
    }
   ],
   "source": [
    "req_data['Object Name'][99] = 'Drawing Ornament & Architecture'\n",
    "req_data['Object Name'][104] = 'Drawing Ornament & Architecture'"
   ]
  },
  {
   "cell_type": "code",
   "execution_count": null,
   "metadata": {},
   "outputs": [],
   "source": []
  },
  {
   "cell_type": "markdown",
   "metadata": {},
   "source": [
    "Standardising the <B>Bowl</B> entries"
   ]
  },
  {
   "cell_type": "code",
   "execution_count": 24,
   "metadata": {},
   "outputs": [
    {
     "data": {
      "text/html": [
       "<div>\n",
       "<style scoped>\n",
       "    .dataframe tbody tr th:only-of-type {\n",
       "        vertical-align: middle;\n",
       "    }\n",
       "\n",
       "    .dataframe tbody tr th {\n",
       "        vertical-align: top;\n",
       "    }\n",
       "\n",
       "    .dataframe thead th {\n",
       "        text-align: right;\n",
       "    }\n",
       "</style>\n",
       "<table border=\"1\" class=\"dataframe\">\n",
       "  <thead>\n",
       "    <tr style=\"text-align: right;\">\n",
       "      <th></th>\n",
       "      <th>Object ID</th>\n",
       "      <th>Department</th>\n",
       "      <th>Object Name</th>\n",
       "      <th>Title</th>\n",
       "      <th>Culture</th>\n",
       "      <th>Artist Nationality</th>\n",
       "      <th>Object Begin Date</th>\n",
       "      <th>Object End Date</th>\n",
       "      <th>Medium</th>\n",
       "      <th>Credit Line</th>\n",
       "      <th>Country</th>\n",
       "    </tr>\n",
       "  </thead>\n",
       "  <tbody>\n",
       "    <tr>\n",
       "      <th>3</th>\n",
       "      <td>7616</td>\n",
       "      <td>American Decorative Arts</td>\n",
       "      <td>Soup bowl</td>\n",
       "      <td>Soup Bowl</td>\n",
       "      <td>American</td>\n",
       "      <td>NaN</td>\n",
       "      <td>1885</td>\n",
       "      <td>1885.0</td>\n",
       "      <td>Porcelain</td>\n",
       "      <td>Gift of Mr. and Mrs. Franklin Chace, 1969</td>\n",
       "      <td>United States</td>\n",
       "    </tr>\n",
       "    <tr>\n",
       "      <th>138</th>\n",
       "      <td>486599</td>\n",
       "      <td>Modern and Contemporary Art</td>\n",
       "      <td>Bowl</td>\n",
       "      <td>\"Tard la Nuit\" Bowl</td>\n",
       "      <td>NaN</td>\n",
       "      <td>Italian</td>\n",
       "      <td>1989</td>\n",
       "      <td>1989.0</td>\n",
       "      <td>Glass</td>\n",
       "      <td>Gift of Peter T. Joseph, 1995</td>\n",
       "      <td>NaN</td>\n",
       "    </tr>\n",
       "    <tr>\n",
       "      <th>139</th>\n",
       "      <td>486599</td>\n",
       "      <td>Modern and Contemporary Art</td>\n",
       "      <td>Bowl</td>\n",
       "      <td>\"Tard la Nuit\" Bowl</td>\n",
       "      <td>NaN</td>\n",
       "      <td>Italian</td>\n",
       "      <td>1989</td>\n",
       "      <td>1989.0</td>\n",
       "      <td>Glass</td>\n",
       "      <td>Gift of Peter T. Joseph, 1995</td>\n",
       "      <td>NaN</td>\n",
       "    </tr>\n",
       "  </tbody>\n",
       "</table>\n",
       "</div>"
      ],
      "text/plain": [
       "     Object ID                   Department Object Name                Title  \\\n",
       "3         7616     American Decorative Arts   Soup bowl            Soup Bowl   \n",
       "138     486599  Modern and Contemporary Art        Bowl  \"Tard la Nuit\" Bowl   \n",
       "139     486599  Modern and Contemporary Art        Bowl  \"Tard la Nuit\" Bowl   \n",
       "\n",
       "      Culture Artist Nationality  Object Begin Date  Object End Date  \\\n",
       "3    American                NaN               1885           1885.0   \n",
       "138       NaN            Italian               1989           1989.0   \n",
       "139       NaN            Italian               1989           1989.0   \n",
       "\n",
       "        Medium                                Credit Line        Country  \n",
       "3    Porcelain  Gift of Mr. and Mrs. Franklin Chace, 1969  United States  \n",
       "138      Glass              Gift of Peter T. Joseph, 1995            NaN  \n",
       "139      Glass              Gift of Peter T. Joseph, 1995            NaN  "
      ]
     },
     "execution_count": 24,
     "metadata": {},
     "output_type": "execute_result"
    }
   ],
   "source": [
    "req_data[(req_data['Object Name'] == 'Soup bowl') | (req_data['Object Name'] == 'Bowl')]"
   ]
  },
  {
   "cell_type": "code",
   "execution_count": 25,
   "metadata": {},
   "outputs": [
    {
     "name": "stderr",
     "output_type": "stream",
     "text": [
      "<ipython-input-25-71c497cb3dda>:1: SettingWithCopyWarning: \n",
      "A value is trying to be set on a copy of a slice from a DataFrame\n",
      "\n",
      "See the caveats in the documentation: https://pandas.pydata.org/pandas-docs/stable/user_guide/indexing.html#returning-a-view-versus-a-copy\n",
      "  req_data['Object Name'][3] = 'Bowl'\n",
      "<ipython-input-25-71c497cb3dda>:2: SettingWithCopyWarning: \n",
      "A value is trying to be set on a copy of a slice from a DataFrame\n",
      "\n",
      "See the caveats in the documentation: https://pandas.pydata.org/pandas-docs/stable/user_guide/indexing.html#returning-a-view-versus-a-copy\n",
      "  req_data['Object Name'][138] = 'Bowl'\n",
      "<ipython-input-25-71c497cb3dda>:3: SettingWithCopyWarning: \n",
      "A value is trying to be set on a copy of a slice from a DataFrame\n",
      "\n",
      "See the caveats in the documentation: https://pandas.pydata.org/pandas-docs/stable/user_guide/indexing.html#returning-a-view-versus-a-copy\n",
      "  req_data['Object Name'][139] = 'Bowl'\n"
     ]
    }
   ],
   "source": [
    "req_data['Object Name'][3] = 'Bowl'\n",
    "req_data['Object Name'][138] = 'Bowl'\n",
    "req_data['Object Name'][139] = 'Bowl'"
   ]
  },
  {
   "cell_type": "code",
   "execution_count": null,
   "metadata": {},
   "outputs": [],
   "source": []
  },
  {
   "cell_type": "markdown",
   "metadata": {},
   "source": [
    "Standardising the <B>Baseball Card</B> entries"
   ]
  },
  {
   "cell_type": "code",
   "execution_count": 26,
   "metadata": {
    "scrolled": true
   },
   "outputs": [
    {
     "data": {
      "text/html": [
       "<div>\n",
       "<style scoped>\n",
       "    .dataframe tbody tr th:only-of-type {\n",
       "        vertical-align: middle;\n",
       "    }\n",
       "\n",
       "    .dataframe tbody tr th {\n",
       "        vertical-align: top;\n",
       "    }\n",
       "\n",
       "    .dataframe thead th {\n",
       "        text-align: right;\n",
       "    }\n",
       "</style>\n",
       "<table border=\"1\" class=\"dataframe\">\n",
       "  <thead>\n",
       "    <tr style=\"text-align: right;\">\n",
       "      <th></th>\n",
       "      <th>Object ID</th>\n",
       "      <th>Department</th>\n",
       "      <th>Object Name</th>\n",
       "      <th>Title</th>\n",
       "      <th>Culture</th>\n",
       "      <th>Artist Nationality</th>\n",
       "      <th>Object Begin Date</th>\n",
       "      <th>Object End Date</th>\n",
       "      <th>Medium</th>\n",
       "      <th>Credit Line</th>\n",
       "      <th>Country</th>\n",
       "    </tr>\n",
       "  </thead>\n",
       "  <tbody>\n",
       "    <tr>\n",
       "      <th>111</th>\n",
       "      <td>400013</td>\n",
       "      <td>Drawings and Prints</td>\n",
       "      <td>Baseball card</td>\n",
       "      <td>Sullivan, Left Field, Chicago, from the Gold C...</td>\n",
       "      <td>NaN</td>\n",
       "      <td>NaN</td>\n",
       "      <td>1887</td>\n",
       "      <td>1887.0</td>\n",
       "      <td>Commercial color lithography reproducing drawings</td>\n",
       "      <td>The Jefferson R. Burdick Collection, Gift of J...</td>\n",
       "      <td>NaN</td>\n",
       "    </tr>\n",
       "    <tr>\n",
       "      <th>115</th>\n",
       "      <td>410683</td>\n",
       "      <td>Drawings and Prints</td>\n",
       "      <td>Baseball card</td>\n",
       "      <td>Louis Chiozza; verso: Diamond Stars, No. 80 (1...</td>\n",
       "      <td>NaN</td>\n",
       "      <td>NaN</td>\n",
       "      <td>1935</td>\n",
       "      <td>1935.0</td>\n",
       "      <td>Commercial color lithograph</td>\n",
       "      <td>The Jefferson R. Burdick Collection, Gift of J...</td>\n",
       "      <td>NaN</td>\n",
       "    </tr>\n",
       "    <tr>\n",
       "      <th>123</th>\n",
       "      <td>433636</td>\n",
       "      <td>Drawings and Prints</td>\n",
       "      <td>Baseball card, print</td>\n",
       "      <td>Fitzgerald, Sacramento, Pacific Coast League, ...</td>\n",
       "      <td>NaN</td>\n",
       "      <td>NaN</td>\n",
       "      <td>1910</td>\n",
       "      <td>1910.0</td>\n",
       "      <td>Commercial color lithograph</td>\n",
       "      <td>The Jefferson R. Burdick Collection, Gift of J...</td>\n",
       "      <td>NaN</td>\n",
       "    </tr>\n",
       "    <tr>\n",
       "      <th>124</th>\n",
       "      <td>434286</td>\n",
       "      <td>Drawings and Prints</td>\n",
       "      <td>Baseball card, print</td>\n",
       "      <td>Spencer, Catcher, Boston, American League, fro...</td>\n",
       "      <td>NaN</td>\n",
       "      <td>NaN</td>\n",
       "      <td>1909</td>\n",
       "      <td>1909.0</td>\n",
       "      <td>Photolithograph</td>\n",
       "      <td>The Jefferson R. Burdick Collection, Gift of J...</td>\n",
       "      <td>NaN</td>\n",
       "    </tr>\n",
       "    <tr>\n",
       "      <th>156</th>\n",
       "      <td>634643</td>\n",
       "      <td>Drawings and Prints</td>\n",
       "      <td>Print, baseball card</td>\n",
       "      <td>Card Number 28, Harry \"The Cat\" Brecheen, Pitc...</td>\n",
       "      <td>NaN</td>\n",
       "      <td>American</td>\n",
       "      <td>1951</td>\n",
       "      <td>1951.0</td>\n",
       "      <td>Commercial color lithograph</td>\n",
       "      <td>The Jefferson R. Burdick Collection, Gift of J...</td>\n",
       "      <td>NaN</td>\n",
       "    </tr>\n",
       "    <tr>\n",
       "      <th>159</th>\n",
       "      <td>642712</td>\n",
       "      <td>Drawings and Prints</td>\n",
       "      <td>Baseball card, print</td>\n",
       "      <td>Card Number 22, Jim Greengrass, Outfield, Cinc...</td>\n",
       "      <td>NaN</td>\n",
       "      <td>American</td>\n",
       "      <td>1954</td>\n",
       "      <td>1954.0</td>\n",
       "      <td>Commercial color lithograph</td>\n",
       "      <td>The Jefferson R. Burdick Collection, Gift of J...</td>\n",
       "      <td>NaN</td>\n",
       "    </tr>\n",
       "    <tr>\n",
       "      <th>178</th>\n",
       "      <td>705128</td>\n",
       "      <td>Drawings and Prints</td>\n",
       "      <td>Baseball card, print</td>\n",
       "      <td>Jo-Jo White, from the Goudey Wide Pen Premiums...</td>\n",
       "      <td>NaN</td>\n",
       "      <td>NaN</td>\n",
       "      <td>1936</td>\n",
       "      <td>1936.0</td>\n",
       "      <td>Photolithograph</td>\n",
       "      <td>The Jefferson R. Burdick Collection, Gift of J...</td>\n",
       "      <td>NaN</td>\n",
       "    </tr>\n",
       "    <tr>\n",
       "      <th>179</th>\n",
       "      <td>705189</td>\n",
       "      <td>Drawings and Prints</td>\n",
       "      <td>Baseball card, print</td>\n",
       "      <td>\"Cy\" Blanton, from the National Chicle Fine Pe...</td>\n",
       "      <td>NaN</td>\n",
       "      <td>NaN</td>\n",
       "      <td>1936</td>\n",
       "      <td>1936.0</td>\n",
       "      <td>Photolithograph</td>\n",
       "      <td>The Jefferson R. Burdick Collection, Gift of J...</td>\n",
       "      <td>NaN</td>\n",
       "    </tr>\n",
       "    <tr>\n",
       "      <th>180</th>\n",
       "      <td>708376</td>\n",
       "      <td>Drawings and Prints</td>\n",
       "      <td>Baseball card, print</td>\n",
       "      <td>Album 324, Page 86</td>\n",
       "      <td>NaN</td>\n",
       "      <td>NaN</td>\n",
       "      <td>1936</td>\n",
       "      <td>1936.0</td>\n",
       "      <td>Commercial Lithographs</td>\n",
       "      <td>The Jefferson R. Burdick Collection, Gift of J...</td>\n",
       "      <td>NaN</td>\n",
       "    </tr>\n",
       "    <tr>\n",
       "      <th>193</th>\n",
       "      <td>751829</td>\n",
       "      <td>Drawings and Prints</td>\n",
       "      <td>Print, baseball</td>\n",
       "      <td>Silas K. Johnson, Cincinnati Reds, from the Ba...</td>\n",
       "      <td>NaN</td>\n",
       "      <td>NaN</td>\n",
       "      <td>1934</td>\n",
       "      <td>1934.0</td>\n",
       "      <td>Printed matchbook</td>\n",
       "      <td>The Jefferson R. Burdick Collection, Gift of J...</td>\n",
       "      <td>NaN</td>\n",
       "    </tr>\n",
       "    <tr>\n",
       "      <th>197</th>\n",
       "      <td>778279</td>\n",
       "      <td>Drawings and Prints</td>\n",
       "      <td>Baseball card, print</td>\n",
       "      <td>Card Number 164, Bob Owchinko, San Diego Padres</td>\n",
       "      <td>NaN</td>\n",
       "      <td>NaN</td>\n",
       "      <td>1978</td>\n",
       "      <td>1978.0</td>\n",
       "      <td>Commercial Color Lithograph</td>\n",
       "      <td>Gift of George R. Goldner, in honor of Stewart...</td>\n",
       "      <td>NaN</td>\n",
       "    </tr>\n",
       "  </tbody>\n",
       "</table>\n",
       "</div>"
      ],
      "text/plain": [
       "     Object ID           Department           Object Name  \\\n",
       "111     400013  Drawings and Prints         Baseball card   \n",
       "115     410683  Drawings and Prints         Baseball card   \n",
       "123     433636  Drawings and Prints  Baseball card, print   \n",
       "124     434286  Drawings and Prints  Baseball card, print   \n",
       "156     634643  Drawings and Prints  Print, baseball card   \n",
       "159     642712  Drawings and Prints  Baseball card, print   \n",
       "178     705128  Drawings and Prints  Baseball card, print   \n",
       "179     705189  Drawings and Prints  Baseball card, print   \n",
       "180     708376  Drawings and Prints  Baseball card, print   \n",
       "193     751829  Drawings and Prints       Print, baseball   \n",
       "197     778279  Drawings and Prints  Baseball card, print   \n",
       "\n",
       "                                                 Title Culture  \\\n",
       "111  Sullivan, Left Field, Chicago, from the Gold C...     NaN   \n",
       "115  Louis Chiozza; verso: Diamond Stars, No. 80 (1...     NaN   \n",
       "123  Fitzgerald, Sacramento, Pacific Coast League, ...     NaN   \n",
       "124  Spencer, Catcher, Boston, American League, fro...     NaN   \n",
       "156  Card Number 28, Harry \"The Cat\" Brecheen, Pitc...     NaN   \n",
       "159  Card Number 22, Jim Greengrass, Outfield, Cinc...     NaN   \n",
       "178  Jo-Jo White, from the Goudey Wide Pen Premiums...     NaN   \n",
       "179  \"Cy\" Blanton, from the National Chicle Fine Pe...     NaN   \n",
       "180                                 Album 324, Page 86     NaN   \n",
       "193  Silas K. Johnson, Cincinnati Reds, from the Ba...     NaN   \n",
       "197    Card Number 164, Bob Owchinko, San Diego Padres     NaN   \n",
       "\n",
       "    Artist Nationality  Object Begin Date  Object End Date  \\\n",
       "111                NaN               1887           1887.0   \n",
       "115                NaN               1935           1935.0   \n",
       "123                NaN               1910           1910.0   \n",
       "124                NaN               1909           1909.0   \n",
       "156           American               1951           1951.0   \n",
       "159           American               1954           1954.0   \n",
       "178                NaN               1936           1936.0   \n",
       "179                NaN               1936           1936.0   \n",
       "180                NaN               1936           1936.0   \n",
       "193                NaN               1934           1934.0   \n",
       "197                NaN               1978           1978.0   \n",
       "\n",
       "                                                Medium  \\\n",
       "111  Commercial color lithography reproducing drawings   \n",
       "115                        Commercial color lithograph   \n",
       "123                        Commercial color lithograph   \n",
       "124                                    Photolithograph   \n",
       "156                        Commercial color lithograph   \n",
       "159                        Commercial color lithograph   \n",
       "178                                    Photolithograph   \n",
       "179                                    Photolithograph   \n",
       "180                             Commercial Lithographs   \n",
       "193                                  Printed matchbook   \n",
       "197                        Commercial Color Lithograph   \n",
       "\n",
       "                                           Credit Line Country  \n",
       "111  The Jefferson R. Burdick Collection, Gift of J...     NaN  \n",
       "115  The Jefferson R. Burdick Collection, Gift of J...     NaN  \n",
       "123  The Jefferson R. Burdick Collection, Gift of J...     NaN  \n",
       "124  The Jefferson R. Burdick Collection, Gift of J...     NaN  \n",
       "156  The Jefferson R. Burdick Collection, Gift of J...     NaN  \n",
       "159  The Jefferson R. Burdick Collection, Gift of J...     NaN  \n",
       "178  The Jefferson R. Burdick Collection, Gift of J...     NaN  \n",
       "179  The Jefferson R. Burdick Collection, Gift of J...     NaN  \n",
       "180  The Jefferson R. Burdick Collection, Gift of J...     NaN  \n",
       "193  The Jefferson R. Burdick Collection, Gift of J...     NaN  \n",
       "197  Gift of George R. Goldner, in honor of Stewart...     NaN  "
      ]
     },
     "execution_count": 26,
     "metadata": {},
     "output_type": "execute_result"
    }
   ],
   "source": [
    "req_data[(req_data['Object Name'] == 'Baseball card') | (req_data['Object Name'] == 'Baseball card, print') |\n",
    "         (req_data['Object Name'] == 'Print, baseball card') | (req_data['Object Name'] == 'Print, baseball')]"
   ]
  },
  {
   "cell_type": "code",
   "execution_count": 27,
   "metadata": {},
   "outputs": [
    {
     "name": "stderr",
     "output_type": "stream",
     "text": [
      "<ipython-input-27-4f7d96898999>:7: SettingWithCopyWarning: \n",
      "A value is trying to be set on a copy of a slice from a DataFrame\n",
      "\n",
      "See the caveats in the documentation: https://pandas.pydata.org/pandas-docs/stable/user_guide/indexing.html#returning-a-view-versus-a-copy\n",
      "  req_data['Object Name'][idx] = 'Baseball card'\n"
     ]
    }
   ],
   "source": [
    "for i in req_data[(req_data['Object Name'] == 'Baseball card') | (req_data['Object Name'] == 'Baseball card, print') |\n",
    "         (req_data['Object Name'] == 'Print, baseball card') | (req_data['Object Name'] == 'Print, baseball')]['Object ID']:\n",
    "    \n",
    "    \n",
    "    idx = req_data.index[req_data['Object ID'] == i][0]\n",
    "    \n",
    "    req_data['Object Name'][idx] = 'Baseball card'"
   ]
  },
  {
   "cell_type": "code",
   "execution_count": null,
   "metadata": {},
   "outputs": [],
   "source": []
  },
  {
   "cell_type": "markdown",
   "metadata": {},
   "source": [
    "#### CHECKING THE UNIQUE VALUES AFTER STANDARDISING"
   ]
  },
  {
   "cell_type": "code",
   "execution_count": 28,
   "metadata": {
    "scrolled": true
   },
   "outputs": [
    {
     "data": {
      "text/plain": [
       "array(['Side Chair', 'Pitcher', 'Plate', 'Bowl', 'Painting, miniature',\n",
       "       'Arrowhead (Yanonē)', 'Knife handle (Kozuka)', 'Coin (Thaler)',\n",
       "       'Two drawings', 'Partisan', 'Sword guard (Tsuba)',\n",
       "       'Dirk with sheath', 'Hanging scroll mounted as handscroll',\n",
       "       'Girdle ornament', 'Bracelet', 'Print', 'Album leaf', 'Inrō',\n",
       "       'Basket', 'Piece', 'Hanging scroll', 'Drawing', 'Belt', 'Pumps',\n",
       "       'Evening dress', 'Shoes', 'Earrings', 'Cap', 'Hat', 'Mules',\n",
       "       'Gloves', 'Ensemble', 'Necklace', 'Jacket', 'Chemisette', 'Fan',\n",
       "       'Undersleeves', 'Evening shoes', 'Knife and fork with case',\n",
       "       'Swags', 'Jug with cover', 'Plaque', 'Snuffbox', 'Chess set',\n",
       "       'Toy', 'Souvenir spoon', 'Border', 'Fragment', 'Borders', 'Panel',\n",
       "       'Statuette of a seated goddess', 'Axehead',\n",
       "       'Fibula, boat-shaped type', 'Statuette of a woman, seated', 'Seal',\n",
       "       'Photograph', 'Glass positive', 'Negative', 'Horn', 'Snake figure',\n",
       "       'Pendant', 'Painting', 'Cloth', 'Ritual stone', 'Costume element',\n",
       "       'Sherd', 'Sculpture', 'Bead', 'Print; Poster', 'Book',\n",
       "       'Drawing Ornament & Architecture', 'Baseball card', 'Dado panel',\n",
       "       'Folio from an illustrated manuscript', 'Hilt', 'Capital',\n",
       "       'Roundel', 'Glass', 'Design', 'Figurine, female, fragmentary',\n",
       "       'Ostracon, hieratic', 'Figurine, seated woman',\n",
       "       'Beaker, white cross-lined ware', 'Club', 'Basket, coil, lid',\n",
       "       'Jar Label', 'Jar Label, meat', 'Relief fragment',\n",
       "       \"Linen, from Wah's Mummy\", 'Books Prints Ornament & Architecture',\n",
       "       'Photograph; Photomicrograph', 'Album', 'Kylix fragment',\n",
       "       'Prints Ornament & Architecture', 'Column-krater fragment',\n",
       "       'Ephemera', 'Oinochoe fragment',\n",
       "       'Book Print Ornament & Architecture', 'Skyphos fragment', 'Vase',\n",
       "       'Dish', 'Trade card', 'Print; ephemera'], dtype=object)"
      ]
     },
     "execution_count": 28,
     "metadata": {},
     "output_type": "execute_result"
    }
   ],
   "source": [
    "req_data['Object Name'].unique()"
   ]
  },
  {
   "cell_type": "code",
   "execution_count": null,
   "metadata": {},
   "outputs": [],
   "source": []
  },
  {
   "cell_type": "code",
   "execution_count": 29,
   "metadata": {},
   "outputs": [
    {
     "data": {
      "text/plain": [
       "Object ID               0\n",
       "Department              0\n",
       "Object Name             0\n",
       "Title                  10\n",
       "Culture               119\n",
       "Artist Nationality    116\n",
       "Object Begin Date       0\n",
       "Object End Date         2\n",
       "Medium                  2\n",
       "Credit Line             0\n",
       "Country               172\n",
       "dtype: int64"
      ]
     },
     "execution_count": 29,
     "metadata": {},
     "output_type": "execute_result"
    }
   ],
   "source": [
    "req_data.isna().sum()"
   ]
  },
  {
   "cell_type": "code",
   "execution_count": null,
   "metadata": {},
   "outputs": [],
   "source": []
  },
  {
   "cell_type": "code",
   "execution_count": null,
   "metadata": {},
   "outputs": [],
   "source": []
  },
  {
   "cell_type": "markdown",
   "metadata": {},
   "source": [
    "## MISSING VALUES IN THE 'Title' COLUMN"
   ]
  },
  {
   "cell_type": "code",
   "execution_count": null,
   "metadata": {},
   "outputs": [],
   "source": []
  },
  {
   "cell_type": "markdown",
   "metadata": {},
   "source": [
    "So far, we tried to navigate to the Museum's website and extract information - all of this done manually.\n",
    "<B>We can see that this task would become tedious as the number of missing entries increases.</B>\n",
    "  \n",
    "So, instead of manually going to the website, we use the <B>museum's API to extract missing values in our dataset</B>\n",
    "  \n",
    "* <U>Note that we extract only those values that are missing in our dataset.</U>\n",
    " \n",
    "* These missing values may or may not be present in the museum's website.\n",
    " \n",
    "* If they are not present, we make a note of such records and deal with them later"
   ]
  },
  {
   "cell_type": "markdown",
   "metadata": {},
   "source": [
    "The museum's api can be found here :\n",
    "\n",
    "<a>https://collectionapi.metmuseum.org/public/collection/v1/objects/[ObjectID]</a>\n",
    "\n",
    "Replace the [ObjectID] with the object id of the row with the missing value"
   ]
  },
  {
   "cell_type": "code",
   "execution_count": 30,
   "metadata": {},
   "outputs": [
    {
     "name": "stderr",
     "output_type": "stream",
     "text": [
      "<ipython-input-30-922c27498abe>:9: SettingWithCopyWarning: \n",
      "A value is trying to be set on a copy of a slice from a DataFrame\n",
      "\n",
      "See the caveats in the documentation: https://pandas.pydata.org/pandas-docs/stable/user_guide/indexing.html#returning-a-view-versus-a-copy\n",
      "  req_data['Title'][idx] = parse_json['title']\n"
     ]
    }
   ],
   "source": [
    "for i in req_data[req_data['Title'].isnull()]['Object ID']:\n",
    "    \n",
    "    idx = req_data.index[req_data['Object ID'] == i][0]\n",
    "    url = 'https://collectionapi.metmuseum.org/public/collection/v1/objects/' + str(i)\n",
    "    response_API = requests.get(url)\n",
    "    data = response_API.text\n",
    "    parse_json = json.loads(data)\n",
    "    \n",
    "    req_data['Title'][idx] = parse_json['title']"
   ]
  },
  {
   "cell_type": "code",
   "execution_count": null,
   "metadata": {},
   "outputs": [],
   "source": []
  },
  {
   "cell_type": "markdown",
   "metadata": {},
   "source": [
    "Having extracted the missing titles, we want to make sure that they are actual text, and not just empty spaces. So we replace empty spaces in the column with 'Nan' values"
   ]
  },
  {
   "cell_type": "code",
   "execution_count": 31,
   "metadata": {},
   "outputs": [],
   "source": [
    "req_data['Title'] = req_data['Title'].replace(r'^\\s*$', np.nan, regex=True)"
   ]
  },
  {
   "cell_type": "code",
   "execution_count": null,
   "metadata": {},
   "outputs": [],
   "source": []
  },
  {
   "cell_type": "code",
   "execution_count": 32,
   "metadata": {},
   "outputs": [
    {
     "name": "stderr",
     "output_type": "stream",
     "text": [
      "<ipython-input-32-4a510629b8ae>:3: SettingWithCopyWarning: \n",
      "A value is trying to be set on a copy of a slice from a DataFrame\n",
      "\n",
      "See the caveats in the documentation: https://pandas.pydata.org/pandas-docs/stable/user_guide/indexing.html#returning-a-view-versus-a-copy\n",
      "  req_data['Title'][i] = req_data['Title'][i].strip()\n"
     ]
    }
   ],
   "source": [
    "for i in range(req_data.shape[0]):\n",
    "    if not req_data['Title'][i] != req_data['Title'][i]:\n",
    "        req_data['Title'][i] = req_data['Title'][i].strip()"
   ]
  },
  {
   "cell_type": "code",
   "execution_count": null,
   "metadata": {},
   "outputs": [],
   "source": []
  },
  {
   "cell_type": "markdown",
   "metadata": {},
   "source": [
    "Since each title is unique and cannot be combined together for a smaller number of levels/factors, we persist with the existing titles"
   ]
  },
  {
   "cell_type": "code",
   "execution_count": 33,
   "metadata": {
    "scrolled": true
   },
   "outputs": [
    {
     "data": {
      "text/plain": [
       "array(['Side Chair', 'Covered Pitcher', 'Plate', 'Soup Bowl',\n",
       "       'Portrait of a Lady', 'Arrowhead (Yanonē)',\n",
       "       'Knife Handle (Kozuka)',\n",
       "       'Coin (Thaler) Showing August I (The Pious) of Saxony',\n",
       "       'Drawings Showing Combat on Foot (Champ Clos)', 'Partisan',\n",
       "       'Sword Guard (Tsuba)', 'Dirk with Sheath', 'Bamboo',\n",
       "       'Girdle ornament', 'Open Bracelet',\n",
       "       'Furuichi Dance (No. 2 of a Set of Four)', 'Cat Catching a Frog',\n",
       "       'Moonlight View of Suihiro Bridge, Tempozan',\n",
       "       'Case (Inrō) with Design of Samurai Helmet and Face Mask (obverse); Samurai Arm Guard and Silver Glove (reverse)',\n",
       "       'Basket', 'Piece', '近代  蟬竹圖      軸|Bamboo and Cicada',\n",
       "       'Skirmish with an Elephant', 'Belt', 'Pumps', 'Evening dress',\n",
       "       'Shoes', 'Earrings', 'Cap', 'Hat', 'Mules', 'Gloves', 'Ensemble',\n",
       "       'Necklace', 'Jacket', 'Chemisette', 'Fan', 'Undersleeves',\n",
       "       'Evening shoes', 'Knife and fork with case', 'Set of five swags',\n",
       "       'Jug with cover', 'Marriage of Peleus and Thetis', 'Snuffbox',\n",
       "       'Chess set', 'Partridges in wheatsheaf', 'Souvenir spoon',\n",
       "       'Border', 'Fragment', 'Borders', 'Panel',\n",
       "       'Head described as that of Saint James the Elder',\n",
       "       'Terracotta statuette of a seated goddess', 'Axehead',\n",
       "       'Fibula, boat-shaped type',\n",
       "       'Terracotta statuette of a seated woman', 'Jasper amygdaloid seal',\n",
       "       'Seal',\n",
       "       '[Detail of Vanitas Figures Carved on the Choir Stalls at Amiens Cathedral]',\n",
       "       'Robert Motherwell',\n",
       "       '[Graffiti on Backstage Door of the School of American Ballet]',\n",
       "       '[Study of Australian Grapes]', 'Sous bois', 'Margaret Eakins',\n",
       "       '[Peggy Bacon]',\n",
       "       '[Two 35mm Film Frames: Boys Playing on Stoop Near Elevated Train Tracks, New York City]',\n",
       "       'Rouen, Place Eau-de-Robec', 'Horn', 'Coiled Serpent',\n",
       "       'Figure Pendant', 'Painting', 'Carrying Cloth', 'Stone Pulidor',\n",
       "       'Ceremonial Costume Element', 'Sherd', 'Bird standard', 'Bead',\n",
       "       'New York Ledger: Bicycle Number', 'Figure Studies',\n",
       "       'Reciprocated Love',\n",
       "       'Rest on the flight into Egypt, Mary holding and looking at the infant Christ while St. Joseph reads',\n",
       "       'Meubles Modernes', 'Blossoms of Childhood',\n",
       "       'The Comical History of Lord Flutter, Lord Spindle and Sir Harry Hopscotch; or, the Bee, the Wasp, and the Ant',\n",
       "       \"Seamless Plain Solid Gold Rings, Engraved Rings, Diamond Rings, Mountings, Ladies' Stone Rings, Chains, Diamond Cutters\",\n",
       "       'Performing Tea Ceremony, The Miyako Odori for 1935, and eight stage sets',\n",
       "       'Plates in Missel de Notre-Dame de France',\n",
       "       \"Exposition Lorraine. L'École de Nancy au Musée de l'Union Centrale des Arts Décoratifs. Pavillon de Marsan, A Paris. Ier Série: Le Moblier\",\n",
       "       'Enoch Arden',\n",
       "       \"St. Peter's, exterior, tabernacle, elevation and section at base with details of pedestal and railing, (recto)St. Peter's, exterior, tabernacle, elevation and section at arched opening (verso)\",\n",
       "       'Head of a muscular old man in profile to left with flowing hair',\n",
       "       'View of the Basilica of San Sebastiano fuori delle mura [St. Sebastian outside the Walls] on the Appian Way, from Vedute di Roma (Roman Views)',\n",
       "       'Design for Pointed Utensil with an Egyptian Style Figure on the Handle',\n",
       "       'Saint Paul', 'Francis W. Little House: Furniture Plan',\n",
       "       'Theodoric IV from the series Counts and Countesses of Holland, Zeeland, and West-Frisia',\n",
       "       \"L'Art de bâtir des maisons de Campagne\",\n",
       "       'Design for Vis-à-vis, no. 3223',\n",
       "       'Design for Pony Phaeton, no. 3162',\n",
       "       'Ceiling Design, Half of a Circle',\n",
       "       'Canal with an Angler and Two Swans', 'GERYON',\n",
       "       'Syzygy or the Conjunction of the Macrocosmic Unity with the Microcosmic Triunity from Heinrich Khunrath, Amphiteatrum sapientiae aeternae',\n",
       "       'Horse Group #17', 'Whither Mankind',\n",
       "       'The dream of St Joseph, who is sleeping at the right, the Virgin and Child by a cross surrounded by angels and many putti and with God the Father above',\n",
       "       'Sullivan, Left Field, Chicago, from the Gold Coin series (N284) for Gold Coin Chewing Tobacco',\n",
       "       'Section and elevation of the Colosseum in Rome',\n",
       "       'Chairing the Members, Plate IV: Four Prints of an Election',\n",
       "       \"George Bubear, Oarsman, from World's Champions, Series 1 (N28) for Allen & Ginter Cigarettes\",\n",
       "       'Louis Chiozza; verso: Diamond Stars, No. 80 (1934 Averages)',\n",
       "       \"Prise de la Ville de Bone (Capture of the City of Bonne), from La Vie de Ferdinand Ier de Médicis série appelée aussi Les Batailles des Médicis (The Life of Ferdinand I de'Medici also called The Medici Battles)\",\n",
       "       'The Impossibility',\n",
       "       \"S. Antioche, médecin (St. Antiochus, Doctor), July 15th, from Les Images De Tous Les Saincts et Saintes de L'Année (Images of All of the Saints and Religious Events of the Year)\",\n",
       "       'Sea-Bass Fisherman',\n",
       "       'Reverse Copy of Madame Bouthillier (Marie de Bragelogne)',\n",
       "       'Reconnoitering, from the Boy Scouts series (E42) for the Fisher Candy Co.',\n",
       "       'Vues de St. Petersbourg',\n",
       "       'Fitzgerald, Sacramento, Pacific Coast League, from the \"Obak Baseball Players\" set (T212), issued by the American Tobacco Company to promote Obak Mouthpiece Cigarettes',\n",
       "       'Spencer, Catcher, Boston, American League, from the Baseball Players (Ramlys) series (T204) issued by the Mentor Company to promote Ramly and T.T.T. Turkish Cigarettes',\n",
       "       'Fragment of a Bowl', 'Dado Panel',\n",
       "       '\"Yusuf and Zulaikha\", Folio 51r from a Bustan of Sa`di',\n",
       "       'Head of a Man in Profile', 'Glass Fragment', 'Eagle-Headed Hilt',\n",
       "       'Grisaille Panel', 'Capital',\n",
       "       'Roundel with Saint John the Baptist', 'Untitled', 'Glass',\n",
       "       \"Design for a Washstand for the Blue Bedroom, Hous'hill\",\n",
       "       '\"Tard la Nuit\" Bowl', 'Alvin Langdon Coburn',\n",
       "       'Upper Half of a Female Figurine', 'Hieratic ostracon',\n",
       "       'Figurine of a Seated Woman',\n",
       "       'White cross-lined ware beaker decorated with zigzags', 'Club',\n",
       "       'Cylindrical Coil Basket with Lid', 'Jar label fragments',\n",
       "       'Jar Label', 'Relief fragment', \"Linen, from Wah's Mummy\",\n",
       "       'Discover Dry Dock Country: Madison Avenue between 63rd and 65th',\n",
       "       \"St. Agatha, from 'Di Tutti gli Affresco del Correggio e di Quattro del Parmigianino'\",\n",
       "       'Walter Switzer, Cornell Quarterback shown being grounded by three Columbia Players, from the \"Baseball and Football\" set (R311), issued by the National Chicle Company to promote Diamond Stars Gum',\n",
       "       'The Virgin and Child with St. John the Baptist, St. Francis, and St. Catherine of Siena',\n",
       "       'Card Number 28, Harry \"The Cat\" Brecheen, Pitcher, St. Louis Cardinals, from the Topps Red/ Blue Backs series (R414-5) issued by Topps Chewing Gum Company',\n",
       "       'Card No. 145, U.S. Luscombe \"Silvaire,\" from the Aviation Gum series (V356), issued by World Wide Gum Company, Ltd.',\n",
       "       'Officer Gordon F. Wilson Shows Mug Pictures to a Woman',\n",
       "       'Card Number 22, Jim Greengrass, Outfield, Cincinnati Redlegs, from \"1954 Topps Regular Issue\" series (R414-8), issued by Topps Chewing Gum Company.',\n",
       "       'Mary, Queen of Scots at the execution block (from The History of England)',\n",
       "       'Happy Easter (Frohe Ostern)', 'Portrait, bust-length, with bow',\n",
       "       'Stripper with bare breasts sitting in her dressing room, Atlantic City, N.J.',\n",
       "       'Virginia Hurned, from the Actresses series (N245) issued by Kinney Brothers to promote Sweet Caporal Cigarettes',\n",
       "       'The woodcutter',\n",
       "       'Ornamento delle belle & virtuose donne, page 8 (verso)',\n",
       "       'Souvenir of New York with Manhattan from West Hoboken, New Jersey',\n",
       "       '[Snow Crystal]', '[Album]',\n",
       "       'Scene 14, from Jack and the Giant Killer, Scenes for a Toy Theater',\n",
       "       'The Boston Tea Party, bakery card from the Frontiers of Freedom series (D39-4), issued by the Gordon Bread Company',\n",
       "       'Honduras, bakery card from the Flags series (D34), issued by the Ward-Mackey Company',\n",
       "       'Terracotta rim fragment of a kylix (drinking cup)',\n",
       "       'Frederick II The Great, King of Prussia (1712–1786)',\n",
       "       'Desert near Alexandria',\n",
       "       'Terracotta fragment of a kylix (drinking cup)',\n",
       "       'Jo-Jo White, from the Goudey Wide Pen Premiums series (R314) issued by the Goudey Gum Company',\n",
       "       '\"Cy\" Blanton, from the National Chicle Fine Pen Premiums series (R313) issued by the National Chicle Gum Company',\n",
       "       'Album 324, Page 86',\n",
       "       'Silenus being carried by Satyrs, after Mantegna',\n",
       "       'Coupé/Brougham #3887', 'Ancient Temple',\n",
       "       'Terracotta fragment of a column-krater (bowl for mixing wine and water)',\n",
       "       'An indulgence with an image of Our Lord of Chalma',\n",
       "       'Card 44, John Morrissey, from the Prizefighters series (N269) issued by P. Lorillard Company to promote Mechanics Delight Long Cut Tobacco',\n",
       "       '[Rusted Metal Sign: \"Slow, Children\"]',\n",
       "       'Terracotta fragment of an oinochoe (jug)',\n",
       "       'The Historian Animating The Mind of A Young Painter',\n",
       "       'Robes Modèles Historiques, Viennoise',\n",
       "       'Terracotta fragment of a skyphos (deep drinking cup)',\n",
       "       'Silas K. Johnson, Cincinnati Reds, from the Baseball Players Match Cover design series (U1) issued by Diamond Match Company',\n",
       "       \"Thrifty villagers, satisfied watching the presentation from the outside, from 'A celebration in the neighboring village,' published in Le Petit Journal pour Rire, June 24, 1865\",\n",
       "       'Vase with flowering branch motif (one of a pair)', 'Metal Dish',\n",
       "       'Card Number 164, Bob Owchinko, San Diego Padres',\n",
       "       'Packard-Tourist, from the \"Antique Autos\" series (R701-1), issued by Bowman Gum Company',\n",
       "       'Norwegian Air Force In Canada Patrol Bomber (Northrup N3PB), from the \"Modern Airplanes\" series (T87), issued with Wings Cigarettes by Brown and Williamson Tobacco Company',\n",
       "       'Stonehenge',\n",
       "       'Psyche, holding the flask of beauty being transported by three putti',\n",
       "       'Landscape and Cattle'], dtype=object)"
      ]
     },
     "execution_count": 33,
     "metadata": {},
     "output_type": "execute_result"
    }
   ],
   "source": [
    "req_data['Title'].unique()"
   ]
  },
  {
   "cell_type": "code",
   "execution_count": null,
   "metadata": {},
   "outputs": [],
   "source": []
  },
  {
   "cell_type": "markdown",
   "metadata": {},
   "source": [
    "#### We notice that the Title column has its missing values filled with proper entries from the Museum's API"
   ]
  },
  {
   "cell_type": "code",
   "execution_count": 34,
   "metadata": {},
   "outputs": [
    {
     "data": {
      "text/plain": [
       "Object ID               0\n",
       "Department              0\n",
       "Object Name             0\n",
       "Title                   0\n",
       "Culture               119\n",
       "Artist Nationality    116\n",
       "Object Begin Date       0\n",
       "Object End Date         2\n",
       "Medium                  2\n",
       "Credit Line             0\n",
       "Country               172\n",
       "dtype: int64"
      ]
     },
     "execution_count": 34,
     "metadata": {},
     "output_type": "execute_result"
    }
   ],
   "source": [
    "req_data.isna().sum()"
   ]
  },
  {
   "cell_type": "code",
   "execution_count": null,
   "metadata": {},
   "outputs": [],
   "source": []
  },
  {
   "cell_type": "code",
   "execution_count": null,
   "metadata": {},
   "outputs": [],
   "source": []
  },
  {
   "cell_type": "markdown",
   "metadata": {},
   "source": [
    "## DEALING WITH DISCREPANCIES IN THE 'Culture' COLUMN"
   ]
  },
  {
   "cell_type": "markdown",
   "metadata": {},
   "source": [
    "Similar to what we did with the <B>'Title'</B> Column, we use the API to fill in the missing values in the <B>'Culture'</B> Column"
   ]
  },
  {
   "cell_type": "code",
   "execution_count": 35,
   "metadata": {},
   "outputs": [
    {
     "name": "stderr",
     "output_type": "stream",
     "text": [
      "<ipython-input-35-fb87f86ec5f2>:11: SettingWithCopyWarning: \n",
      "A value is trying to be set on a copy of a slice from a DataFrame\n",
      "\n",
      "See the caveats in the documentation: https://pandas.pydata.org/pandas-docs/stable/user_guide/indexing.html#returning-a-view-versus-a-copy\n",
      "  req_data['Culture'][idx] = parse_json['culture']\n"
     ]
    }
   ],
   "source": [
    "catch_Culture = []\n",
    "for i in req_data[req_data['Culture'].isnull()]['Object ID']:\n",
    "    \n",
    "    try:\n",
    "        idx = req_data.index[req_data['Object ID'] == i][0]\n",
    "        url = 'https://collectionapi.metmuseum.org/public/collection/v1/objects/' + str(i)\n",
    "        response_API = requests.get(url)\n",
    "        data = response_API.text\n",
    "        parse_json = json.loads(data)\n",
    "        \n",
    "        req_data['Culture'][idx] = parse_json['culture']\n",
    "    \n",
    "    except :\n",
    "        catch_Culture.append(i)\n",
    "    \n",
    "    else:\n",
    "        continue"
   ]
  },
  {
   "cell_type": "markdown",
   "metadata": {},
   "source": [
    "As stated earlier, all those records that don't have an entry in the museum's webpage are noted and will be dealt with later"
   ]
  },
  {
   "cell_type": "code",
   "execution_count": 36,
   "metadata": {},
   "outputs": [
    {
     "data": {
      "text/plain": [
       "[410683,\n",
       " 430474,\n",
       " 632372,\n",
       " 634643,\n",
       " 638012,\n",
       " 642712,\n",
       " 705128,\n",
       " 705189,\n",
       " 708376,\n",
       " 751829]"
      ]
     },
     "execution_count": 36,
     "metadata": {},
     "output_type": "execute_result"
    }
   ],
   "source": [
    "catch_Culture"
   ]
  },
  {
   "cell_type": "markdown",
   "metadata": {},
   "source": [
    "#### THE IMPUTED VALUES ARE THEN CHECKED IF THEY CONTAIN EMPTY SPACES INSTEAD OF PROPER VALUES\n",
    "#### SUCH VALUES ARE REPLACED WITH Nan VALUES\n",
    "#### THIS OPERATION WILL BE CARRIED OUT FOR ALL COLUMNS THAT ARE IMPUTED USING THE MUSEUM'S API"
   ]
  },
  {
   "cell_type": "code",
   "execution_count": 37,
   "metadata": {},
   "outputs": [],
   "source": [
    "req_data['Culture'] = req_data['Culture'].replace(r'^\\s*$', np.nan, regex=True)"
   ]
  },
  {
   "cell_type": "code",
   "execution_count": null,
   "metadata": {},
   "outputs": [],
   "source": []
  },
  {
   "cell_type": "code",
   "execution_count": 38,
   "metadata": {},
   "outputs": [
    {
     "name": "stderr",
     "output_type": "stream",
     "text": [
      "<ipython-input-38-169e8355628a>:3: SettingWithCopyWarning: \n",
      "A value is trying to be set on a copy of a slice from a DataFrame\n",
      "\n",
      "See the caveats in the documentation: https://pandas.pydata.org/pandas-docs/stable/user_guide/indexing.html#returning-a-view-versus-a-copy\n",
      "  req_data['Culture'][i] = req_data['Culture'][i].strip()\n"
     ]
    }
   ],
   "source": [
    "for i in range(req_data.shape[0]):\n",
    "    if not req_data['Culture'][i] != req_data['Culture'][i]:\n",
    "        req_data['Culture'][i] = req_data['Culture'][i].strip()"
   ]
  },
  {
   "cell_type": "code",
   "execution_count": null,
   "metadata": {},
   "outputs": [],
   "source": []
  },
  {
   "cell_type": "markdown",
   "metadata": {},
   "source": [
    "Again, we notice that the column values are unstandardised. They also have multiple entries referring to a single entity.\n",
    "\n",
    "* For example, we have the <B>Japanese</B> and <B>Japan</B> cultures, both denoting the same culture.\n",
    "* Ideally, we would have one single level that captures one culture uniformly, across all recorded data points"
   ]
  },
  {
   "cell_type": "code",
   "execution_count": 39,
   "metadata": {},
   "outputs": [
    {
     "data": {
      "text/plain": [
       "array(['American', 'Dutch', 'Japanese', 'German', 'possibly Spanish',\n",
       "       'China', 'Thailand', 'Japan', 'India (Guler, Punjab Hills)',\n",
       "       'British', 'Italian', 'European, Eastern', 'French',\n",
       "       'probably French', 'Romanian', 'European', 'possibly Greek',\n",
       "       'German, Silesia (Bunzlau)', 'Italian, Venice', 'German, Hanau',\n",
       "       'probably German', 'British, Chelsea', 'Spanish', 'Cypriot',\n",
       "       'Italic', 'Greek, Attic', 'Minoan', 'Minoan, Crete', nan,\n",
       "       'Asmat people', 'Aztec', 'Atlantic Watershed', 'Abelam people',\n",
       "       'Quechua', 'Mexican', 'Timor', 'Iran', 'Byzantine', 'Catalan',\n",
       "       'South Netherlandish', 'European or Middle Eastern',\n",
       "       'British, Stoke-on-Trent, Staffordshire'], dtype=object)"
      ]
     },
     "execution_count": 39,
     "metadata": {},
     "output_type": "execute_result"
    }
   ],
   "source": [
    "req_data['Culture'].unique()"
   ]
  },
  {
   "cell_type": "markdown",
   "metadata": {},
   "source": [
    " "
   ]
  },
  {
   "cell_type": "markdown",
   "metadata": {},
   "source": [
    "So we go ahead and manually change the existing levels in the column to a common level, such that each culture is denoted by one particular level.\n",
    "\n",
    "Here, 'Japanese' and 'Japan' are replaced with one common term - 'Japanese' "
   ]
  },
  {
   "cell_type": "code",
   "execution_count": 40,
   "metadata": {},
   "outputs": [
    {
     "name": "stderr",
     "output_type": "stream",
     "text": [
      "<ipython-input-40-5485dc501cfa>:5: SettingWithCopyWarning: \n",
      "A value is trying to be set on a copy of a slice from a DataFrame\n",
      "\n",
      "See the caveats in the documentation: https://pandas.pydata.org/pandas-docs/stable/user_guide/indexing.html#returning-a-view-versus-a-copy\n",
      "  req_data['Culture'][idx] = 'Japanese'\n"
     ]
    }
   ],
   "source": [
    "for i in req_data[(req_data['Culture'] == 'Japanese') | (req_data['Culture'] == 'Japan')]['Object ID']:\n",
    "    \n",
    "    idx = req_data.index[req_data['Object ID'] == i][0]\n",
    "    \n",
    "    req_data['Culture'][idx] = 'Japanese'"
   ]
  },
  {
   "cell_type": "code",
   "execution_count": 41,
   "metadata": {},
   "outputs": [
    {
     "data": {
      "text/plain": [
       "array(['American', 'Dutch', 'Japanese', 'German', 'possibly Spanish',\n",
       "       'China', 'Thailand', 'India (Guler, Punjab Hills)', 'British',\n",
       "       'Italian', 'European, Eastern', 'French', 'probably French',\n",
       "       'Romanian', 'European', 'possibly Greek',\n",
       "       'German, Silesia (Bunzlau)', 'Italian, Venice', 'German, Hanau',\n",
       "       'probably German', 'British, Chelsea', 'Spanish', 'Cypriot',\n",
       "       'Italic', 'Greek, Attic', 'Minoan', 'Minoan, Crete', nan,\n",
       "       'Asmat people', 'Aztec', 'Atlantic Watershed', 'Abelam people',\n",
       "       'Quechua', 'Mexican', 'Timor', 'Iran', 'Byzantine', 'Catalan',\n",
       "       'South Netherlandish', 'European or Middle Eastern',\n",
       "       'British, Stoke-on-Trent, Staffordshire'], dtype=object)"
      ]
     },
     "execution_count": 41,
     "metadata": {},
     "output_type": "execute_result"
    }
   ],
   "source": [
    "req_data['Culture'].unique()"
   ]
  },
  {
   "cell_type": "markdown",
   "metadata": {},
   "source": [
    "A similar combining of levels is done for all <B>German</B> cultures"
   ]
  },
  {
   "cell_type": "code",
   "execution_count": 42,
   "metadata": {},
   "outputs": [
    {
     "name": "stderr",
     "output_type": "stream",
     "text": [
      "<ipython-input-42-b4b09a974498>:7: SettingWithCopyWarning: \n",
      "A value is trying to be set on a copy of a slice from a DataFrame\n",
      "\n",
      "See the caveats in the documentation: https://pandas.pydata.org/pandas-docs/stable/user_guide/indexing.html#returning-a-view-versus-a-copy\n",
      "  req_data['Culture'][idx] = 'German'\n"
     ]
    }
   ],
   "source": [
    "for i in req_data[(req_data['Culture'] == 'German') | (req_data['Culture'] == 'German, Silesia (Bunzlau)') |\n",
    "         (req_data['Culture'] == 'German, Hanau') | (req_data['Culture'] == 'probably German')]['Object ID']:\n",
    "    \n",
    "    \n",
    "    idx = req_data.index[req_data['Object ID'] == i][0]\n",
    "    \n",
    "    req_data['Culture'][idx] = 'German'"
   ]
  },
  {
   "cell_type": "markdown",
   "metadata": {},
   "source": [
    "Combining levels for <B>Dutch</B> cultures"
   ]
  },
  {
   "cell_type": "code",
   "execution_count": 43,
   "metadata": {},
   "outputs": [
    {
     "name": "stderr",
     "output_type": "stream",
     "text": [
      "<ipython-input-43-72f88cc73eea>:6: SettingWithCopyWarning: \n",
      "A value is trying to be set on a copy of a slice from a DataFrame\n",
      "\n",
      "See the caveats in the documentation: https://pandas.pydata.org/pandas-docs/stable/user_guide/indexing.html#returning-a-view-versus-a-copy\n",
      "  req_data['Culture'][idx] = 'Dutch'\n"
     ]
    }
   ],
   "source": [
    "for i in req_data[(req_data['Culture'] == 'Dutch') | (req_data['Culture'] == 'South Netherlandish')]['Object ID']:\n",
    "    \n",
    "    \n",
    "    idx = req_data.index[req_data['Object ID'] == i][0]\n",
    "    \n",
    "    req_data['Culture'][idx] = 'Dutch'"
   ]
  },
  {
   "cell_type": "markdown",
   "metadata": {},
   "source": [
    "...And so on"
   ]
  },
  {
   "cell_type": "code",
   "execution_count": 44,
   "metadata": {},
   "outputs": [
    {
     "name": "stderr",
     "output_type": "stream",
     "text": [
      "<ipython-input-44-064d897b7c05>:6: SettingWithCopyWarning: \n",
      "A value is trying to be set on a copy of a slice from a DataFrame\n",
      "\n",
      "See the caveats in the documentation: https://pandas.pydata.org/pandas-docs/stable/user_guide/indexing.html#returning-a-view-versus-a-copy\n",
      "  req_data['Culture'][idx] = 'Spanish'\n"
     ]
    }
   ],
   "source": [
    "for i in req_data[(req_data['Culture'] == 'possibly Spanish') | (req_data['Culture'] == 'Spanish')]['Object ID']:\n",
    "    \n",
    "    \n",
    "    idx = req_data.index[req_data['Object ID'] == i][0]\n",
    "    \n",
    "    req_data['Culture'][idx] = 'Spanish'"
   ]
  },
  {
   "cell_type": "code",
   "execution_count": 45,
   "metadata": {
    "scrolled": true
   },
   "outputs": [
    {
     "name": "stderr",
     "output_type": "stream",
     "text": [
      "<ipython-input-45-b13162b47965>:7: SettingWithCopyWarning: \n",
      "A value is trying to be set on a copy of a slice from a DataFrame\n",
      "\n",
      "See the caveats in the documentation: https://pandas.pydata.org/pandas-docs/stable/user_guide/indexing.html#returning-a-view-versus-a-copy\n",
      "  req_data['Culture'][idx] = 'British'\n",
      "<ipython-input-45-b13162b47965>:19: SettingWithCopyWarning: \n",
      "A value is trying to be set on a copy of a slice from a DataFrame\n",
      "\n",
      "See the caveats in the documentation: https://pandas.pydata.org/pandas-docs/stable/user_guide/indexing.html#returning-a-view-versus-a-copy\n",
      "  req_data['Culture'][idx] = 'Italian'\n",
      "<ipython-input-45-b13162b47965>:32: SettingWithCopyWarning: \n",
      "A value is trying to be set on a copy of a slice from a DataFrame\n",
      "\n",
      "See the caveats in the documentation: https://pandas.pydata.org/pandas-docs/stable/user_guide/indexing.html#returning-a-view-versus-a-copy\n",
      "  req_data['Culture'][idx] = 'European'\n",
      "<ipython-input-45-b13162b47965>:43: SettingWithCopyWarning: \n",
      "A value is trying to be set on a copy of a slice from a DataFrame\n",
      "\n",
      "See the caveats in the documentation: https://pandas.pydata.org/pandas-docs/stable/user_guide/indexing.html#returning-a-view-versus-a-copy\n",
      "  req_data['Culture'][idx] = 'French'\n",
      "<ipython-input-45-b13162b47965>:54: SettingWithCopyWarning: \n",
      "A value is trying to be set on a copy of a slice from a DataFrame\n",
      "\n",
      "See the caveats in the documentation: https://pandas.pydata.org/pandas-docs/stable/user_guide/indexing.html#returning-a-view-versus-a-copy\n",
      "  req_data['Culture'][idx] = 'Greek'\n",
      "<ipython-input-45-b13162b47965>:66: SettingWithCopyWarning: \n",
      "A value is trying to be set on a copy of a slice from a DataFrame\n",
      "\n",
      "See the caveats in the documentation: https://pandas.pydata.org/pandas-docs/stable/user_guide/indexing.html#returning-a-view-versus-a-copy\n",
      "  req_data['Culture'][idx] = 'Minoan'\n"
     ]
    }
   ],
   "source": [
    "for i in req_data[(req_data['Culture'] == 'British') | (req_data['Culture'] == 'British, Chelsea') |\n",
    "         (req_data['Culture'] == 'British, Stoke-on-Trent, Staffordshire')]['Object ID']:\n",
    "    \n",
    "    \n",
    "    idx = req_data.index[req_data['Object ID'] == i][0]\n",
    "    \n",
    "    req_data['Culture'][idx] = 'British'\n",
    "\n",
    "\n",
    "    \n",
    "    \n",
    "\n",
    "for i in req_data[(req_data['Culture'] == 'Italian') | (req_data['Culture'] == 'Italic') |\n",
    "         (req_data['Culture'] == 'Italian, Venice')]['Object ID']:\n",
    "    \n",
    "    \n",
    "    idx = req_data.index[req_data['Object ID'] == i][0]\n",
    "    \n",
    "    req_data['Culture'][idx] = 'Italian'\n",
    "\n",
    "\n",
    "    \n",
    "    \n",
    "    \n",
    "    \n",
    "for i in req_data[(req_data['Culture'] == 'European') | (req_data['Culture'] == 'European, Eastern') |\n",
    "         (req_data['Culture'] == 'European or Middle Eastern')]['Object ID']:\n",
    "    \n",
    "    \n",
    "    idx = req_data.index[req_data['Object ID'] == i][0]\n",
    "    \n",
    "    req_data['Culture'][idx] = 'European'\n",
    "\n",
    "    \n",
    "    \n",
    "    \n",
    "\n",
    "for i in req_data[(req_data['Culture'] == 'French') | (req_data['Culture'] == 'probably French')]['Object ID']:\n",
    "    \n",
    "    \n",
    "    idx = req_data.index[req_data['Object ID'] == i][0]\n",
    "    \n",
    "    req_data['Culture'][idx] = 'French'\n",
    "    \n",
    "    \n",
    "\n",
    "    \n",
    "\n",
    "for i in req_data[(req_data['Culture'] == 'possibly Greek') | (req_data['Culture'] == 'Greek, Attic')]['Object ID']:\n",
    "    \n",
    "    \n",
    "    idx = req_data.index[req_data['Object ID'] == i][0]\n",
    "    \n",
    "    req_data['Culture'][idx] = 'Greek'\n",
    "\n",
    "    \n",
    "    \n",
    "    \n",
    "    \n",
    "    \n",
    "for i in req_data[(req_data['Culture'] == 'Minoan') | (req_data['Culture'] == 'Minoan, Crete')]['Object ID']:\n",
    "    \n",
    "    \n",
    "    idx = req_data.index[req_data['Object ID'] == i][0]\n",
    "    \n",
    "    req_data['Culture'][idx] = 'Minoan'"
   ]
  },
  {
   "cell_type": "code",
   "execution_count": null,
   "metadata": {},
   "outputs": [],
   "source": []
  },
  {
   "cell_type": "markdown",
   "metadata": {},
   "source": [
    "<B>After cleaning the data, the values look much better</B>"
   ]
  },
  {
   "cell_type": "code",
   "execution_count": 46,
   "metadata": {},
   "outputs": [
    {
     "data": {
      "text/plain": [
       "array(['American', 'Dutch', 'Japanese', 'German', 'Spanish', 'China',\n",
       "       'Thailand', 'India (Guler, Punjab Hills)', 'British', 'Italian',\n",
       "       'European', 'French', 'Romanian', 'Greek', 'Cypriot', 'Minoan',\n",
       "       nan, 'Asmat people', 'Aztec', 'Atlantic Watershed',\n",
       "       'Abelam people', 'Quechua', 'Mexican', 'Timor', 'Iran',\n",
       "       'Byzantine', 'Catalan'], dtype=object)"
      ]
     },
     "execution_count": 46,
     "metadata": {},
     "output_type": "execute_result"
    }
   ],
   "source": [
    "req_data['Culture'].unique()"
   ]
  },
  {
   "cell_type": "code",
   "execution_count": null,
   "metadata": {},
   "outputs": [],
   "source": []
  },
  {
   "cell_type": "code",
   "execution_count": null,
   "metadata": {},
   "outputs": [],
   "source": []
  },
  {
   "cell_type": "markdown",
   "metadata": {},
   "source": [
    "#### HOWEVER, THE NUMBER OF MISSING VALUES HASN'T GONE DOWN. THE MUSEUM'S API ALSO HAS MISSING VALUES FOR THESE ENTRIES. \n",
    "#### WE DEAL WITH THESE LATER"
   ]
  },
  {
   "cell_type": "code",
   "execution_count": 47,
   "metadata": {},
   "outputs": [
    {
     "data": {
      "text/plain": [
       "Object ID               0\n",
       "Department              0\n",
       "Object Name             0\n",
       "Title                   0\n",
       "Culture               119\n",
       "Artist Nationality    116\n",
       "Object Begin Date       0\n",
       "Object End Date         2\n",
       "Medium                  2\n",
       "Credit Line             0\n",
       "Country               172\n",
       "dtype: int64"
      ]
     },
     "execution_count": 47,
     "metadata": {},
     "output_type": "execute_result"
    }
   ],
   "source": [
    "req_data.isna().sum()"
   ]
  },
  {
   "cell_type": "code",
   "execution_count": null,
   "metadata": {},
   "outputs": [],
   "source": []
  },
  {
   "cell_type": "code",
   "execution_count": null,
   "metadata": {},
   "outputs": [],
   "source": []
  },
  {
   "cell_type": "markdown",
   "metadata": {},
   "source": [
    "## DEALING WITH THE COLUMN 'Artist Nationality'"
   ]
  },
  {
   "cell_type": "markdown",
   "metadata": {},
   "source": [
    "Using the Museum's API, we look to impute missing values with their actual values as recorded in the museum's web page"
   ]
  },
  {
   "cell_type": "code",
   "execution_count": 48,
   "metadata": {},
   "outputs": [
    {
     "name": "stderr",
     "output_type": "stream",
     "text": [
      "<ipython-input-48-78ef10f821eb>:10: SettingWithCopyWarning: \n",
      "A value is trying to be set on a copy of a slice from a DataFrame\n",
      "\n",
      "See the caveats in the documentation: https://pandas.pydata.org/pandas-docs/stable/user_guide/indexing.html#returning-a-view-versus-a-copy\n",
      "  req_data['Artist Nationality'][idx] = parse_json['artistNationality']\n"
     ]
    }
   ],
   "source": [
    "catch_ArtistNationality = []\n",
    "for i in req_data[req_data['Artist Nationality'].isnull()]['Object ID']:\n",
    "    \n",
    "    idx = req_data.index[req_data['Object ID'] == i][0]\n",
    "    url = 'https://collectionapi.metmuseum.org/public/collection/v1/objects/' + str(i)\n",
    "    response_API = requests.get(url)\n",
    "    data = response_API.text\n",
    "    parse_json = json.loads(data)\n",
    "    try:\n",
    "        req_data['Artist Nationality'][idx] = parse_json['artistNationality']\n",
    "    except:\n",
    "        catch_ArtistNationality.append(i)\n",
    "    else:\n",
    "        continue"
   ]
  },
  {
   "cell_type": "markdown",
   "metadata": {},
   "source": [
    "Again, we record the Object IDs of the data points that do not have an associated record in the web-page"
   ]
  },
  {
   "cell_type": "code",
   "execution_count": 49,
   "metadata": {},
   "outputs": [
    {
     "data": {
      "text/plain": [
       "[410683, 632372, 705128, 705189, 708376, 751829]"
      ]
     },
     "execution_count": 49,
     "metadata": {},
     "output_type": "execute_result"
    }
   ],
   "source": [
    "catch_ArtistNationality"
   ]
  },
  {
   "cell_type": "markdown",
   "metadata": {},
   "source": [
    " "
   ]
  },
  {
   "cell_type": "markdown",
   "metadata": {},
   "source": [
    "replacing any empty spaces that might have been written in from the Museum's API with Nan values, and later trimming any leading or trailing spaces from all entries:"
   ]
  },
  {
   "cell_type": "code",
   "execution_count": 50,
   "metadata": {},
   "outputs": [],
   "source": [
    "req_data['Artist Nationality'] = req_data['Artist Nationality'].replace(r'^\\s*$', np.nan, regex=True)"
   ]
  },
  {
   "cell_type": "code",
   "execution_count": 51,
   "metadata": {},
   "outputs": [
    {
     "name": "stderr",
     "output_type": "stream",
     "text": [
      "<ipython-input-51-9a1c5455ff30>:3: SettingWithCopyWarning: \n",
      "A value is trying to be set on a copy of a slice from a DataFrame\n",
      "\n",
      "See the caveats in the documentation: https://pandas.pydata.org/pandas-docs/stable/user_guide/indexing.html#returning-a-view-versus-a-copy\n",
      "  req_data['Artist Nationality'][i] = req_data['Artist Nationality'][i].strip()\n"
     ]
    }
   ],
   "source": [
    "for i in range(req_data.shape[0]):\n",
    "    if not req_data['Artist Nationality'][i] != req_data['Artist Nationality'][i]:\n",
    "        req_data['Artist Nationality'][i] = req_data['Artist Nationality'][i].strip()"
   ]
  },
  {
   "cell_type": "markdown",
   "metadata": {},
   "source": [
    " "
   ]
  },
  {
   "cell_type": "markdown",
   "metadata": {},
   "source": [
    "Finally, we take a look at the values contained in the column. We see a lot of non standardised values, and repeated inconsistencies.\n",
    "* So we fix that by modifying each entry - remove duplicates, trailing/leading spaces"
   ]
  },
  {
   "cell_type": "code",
   "execution_count": 52,
   "metadata": {},
   "outputs": [
    {
     "data": {
      "text/plain": [
       "array([nan, 'Chinese', 'Japanese', 'Japanese|Japanese', 'British',\n",
       "       'American|American', 'Italian', 'French, born Italy',\n",
       "       'French|French', 'American', 'British|British', 'Belgian',\n",
       "       'French', 'French|French|French|French|French|French',\n",
       "       'American|American|American', 'French|French?|French',\n",
       "       'British|British|British|British|British|British|British',\n",
       "       'Italian|Bohemian', 'Dutch|Dutch|Dutch',\n",
       "       'French|French|French|French|French', 'Dutch',\n",
       "       'Netherlandish|German', 'Italian|Italian', 'French|British',\n",
       "       'French|Italian', 'German', 'American, born Russia',\n",
       "       'Finnish|Finnish', 'British, Scottish', 'Mexican',\n",
       "       'Italian|Italian|Italian|Italian|Italian',\n",
       "       'Italian|Italian|German', 'Canadian',\n",
       "       'Scottish|British|British, Scottish|British|British', 'Austrian',\n",
       "       'Italian|British', 'German|American|American|American'],\n",
       "      dtype=object)"
      ]
     },
     "execution_count": 52,
     "metadata": {},
     "output_type": "execute_result"
    }
   ],
   "source": [
    "req_data['Artist Nationality'].unique()"
   ]
  },
  {
   "cell_type": "code",
   "execution_count": 53,
   "metadata": {},
   "outputs": [
    {
     "name": "stderr",
     "output_type": "stream",
     "text": [
      "<ipython-input-53-f0bddf7c4d7e>:16: SettingWithCopyWarning: \n",
      "A value is trying to be set on a copy of a slice from a DataFrame\n",
      "\n",
      "See the caveats in the documentation: https://pandas.pydata.org/pandas-docs/stable/user_guide/indexing.html#returning-a-view-versus-a-copy\n",
      "  req_data['Artist Nationality'][k_idx] = k\n"
     ]
    }
   ],
   "source": [
    "for k in req_data['Artist Nationality']:\n",
    "    if not k != k:\n",
    "        k_idx = req_data.index[req_data['Artist Nationality'] == k][0]\n",
    "        k = k.split(', ')\n",
    "        k = list(set(k))\n",
    "        for word in k:\n",
    "            w_idx = k.index(word)\n",
    "            word = word.split('|')\n",
    "            for word_n in word:\n",
    "                word_ne = re.sub('[^A-Za-z, ]+', '', word_n)\n",
    "                word[word.index(word_n)] = word_ne.strip()\n",
    "            word = list(set(word))\n",
    "            word = (', ').join(word)\n",
    "            k[w_idx] = word\n",
    "        k = (', ').join(k)\n",
    "        req_data['Artist Nationality'][k_idx] = k"
   ]
  },
  {
   "cell_type": "markdown",
   "metadata": {},
   "source": [
    "We notice that the data looks much cleaner now"
   ]
  },
  {
   "cell_type": "code",
   "execution_count": 54,
   "metadata": {},
   "outputs": [
    {
     "data": {
      "text/plain": [
       "array([nan, 'Chinese', 'Japanese', 'British', 'American', 'Italian',\n",
       "       'French, born Italy', 'French', 'Belgian', 'Italian, Bohemian',\n",
       "       'Dutch', 'Netherlandish, German', 'French, British',\n",
       "       'French, Italian', 'German', 'American, born Russia', 'Finnish',\n",
       "       'Scottish, British', 'Mexican', 'German, Italian', 'Canadian',\n",
       "       'British, Scottish', 'Austrian', 'Italian, British',\n",
       "       'German, American'], dtype=object)"
      ]
     },
     "execution_count": 54,
     "metadata": {},
     "output_type": "execute_result"
    }
   ],
   "source": [
    "req_data['Artist Nationality'].unique()"
   ]
  },
  {
   "cell_type": "code",
   "execution_count": null,
   "metadata": {},
   "outputs": [],
   "source": []
  },
  {
   "cell_type": "markdown",
   "metadata": {},
   "source": [
    "#### ONCE AGAIN, WE NOTICE THAT THE NUMBER OF MISSING VALUES IS UNCHANGED"
   ]
  },
  {
   "cell_type": "code",
   "execution_count": 55,
   "metadata": {},
   "outputs": [
    {
     "data": {
      "text/plain": [
       "Object ID               0\n",
       "Department              0\n",
       "Object Name             0\n",
       "Title                   0\n",
       "Culture               119\n",
       "Artist Nationality    116\n",
       "Object Begin Date       0\n",
       "Object End Date         2\n",
       "Medium                  2\n",
       "Credit Line             0\n",
       "Country               172\n",
       "dtype: int64"
      ]
     },
     "execution_count": 55,
     "metadata": {},
     "output_type": "execute_result"
    }
   ],
   "source": [
    "req_data.isna().sum()"
   ]
  },
  {
   "cell_type": "code",
   "execution_count": null,
   "metadata": {},
   "outputs": [],
   "source": []
  },
  {
   "cell_type": "code",
   "execution_count": null,
   "metadata": {},
   "outputs": [],
   "source": []
  },
  {
   "cell_type": "markdown",
   "metadata": {},
   "source": [
    "## DEALING WITH THE 'Object Begin Date' AND 'Object End Date' COLUMNS"
   ]
  },
  {
   "cell_type": "markdown",
   "metadata": {},
   "source": [
    "<I>Object Begin Date </I>does not have any missing values, but the recorded values are a little intriguing, as some of the years are recorded using negative numbers - this is done to indicate the eras (BC, AD)"
   ]
  },
  {
   "cell_type": "markdown",
   "metadata": {},
   "source": [
    "To avoid confusion, we rectify this by adding a huge value to all dates - ensuring that all recorded dates are positive"
   ]
  },
  {
   "cell_type": "code",
   "execution_count": 56,
   "metadata": {},
   "outputs": [
    {
     "data": {
      "text/plain": [
       "-7000"
      ]
     },
     "execution_count": 56,
     "metadata": {},
     "output_type": "execute_result"
    }
   ],
   "source": [
    "min(req_data['Object Begin Date'])"
   ]
  },
  {
   "cell_type": "code",
   "execution_count": 57,
   "metadata": {},
   "outputs": [
    {
     "data": {
      "text/plain": [
       "2003"
      ]
     },
     "execution_count": 57,
     "metadata": {},
     "output_type": "execute_result"
    }
   ],
   "source": [
    "max(req_data['Object Begin Date'])"
   ]
  },
  {
   "cell_type": "markdown",
   "metadata": {},
   "source": [
    "We add a value of 100000 to each date to ensure no negative numbers are used to store dates. This can easily be corrected for in later analyses to obtain the proper years"
   ]
  },
  {
   "cell_type": "code",
   "execution_count": 58,
   "metadata": {},
   "outputs": [],
   "source": [
    "req_data['Object Begin Date'] = req_data['Object Begin Date'].add(100000)"
   ]
  },
  {
   "cell_type": "code",
   "execution_count": null,
   "metadata": {},
   "outputs": [],
   "source": []
  },
  {
   "cell_type": "markdown",
   "metadata": {},
   "source": [
    "<I>Object End Date</I> has two missing values. We try to impute them using the Museum's API"
   ]
  },
  {
   "cell_type": "code",
   "execution_count": 59,
   "metadata": {},
   "outputs": [
    {
     "name": "stderr",
     "output_type": "stream",
     "text": [
      "<ipython-input-59-2a62f3e5643a>:9: SettingWithCopyWarning: \n",
      "A value is trying to be set on a copy of a slice from a DataFrame\n",
      "\n",
      "See the caveats in the documentation: https://pandas.pydata.org/pandas-docs/stable/user_guide/indexing.html#returning-a-view-versus-a-copy\n",
      "  req_data['Object End Date'][idx] = parse_json['objectEndDate']\n"
     ]
    }
   ],
   "source": [
    "for i in req_data[req_data['Object End Date'].isnull()]['Object ID']:\n",
    "    \n",
    "    idx = req_data.index[req_data['Object ID'] == i][0]\n",
    "    url = 'https://collectionapi.metmuseum.org/public/collection/v1/objects/' + str(i)\n",
    "    response_API = requests.get(url)\n",
    "    data = response_API.text\n",
    "    parse_json = json.loads(data)\n",
    "    \n",
    "    req_data['Object End Date'][idx] = parse_json['objectEndDate']"
   ]
  },
  {
   "cell_type": "markdown",
   "metadata": {},
   "source": [
    "These dates are also recorded as floating point values (float64 datatype). Since years are all whole numbers, and we want to ensure that the data types of Begin Date and End Date match, we convert the float64 data type into an int64 type"
   ]
  },
  {
   "cell_type": "code",
   "execution_count": 60,
   "metadata": {},
   "outputs": [],
   "source": [
    "req_data['Object End Date'] = req_data['Object End Date'].astype(np.int64)"
   ]
  },
  {
   "cell_type": "markdown",
   "metadata": {},
   "source": [
    "Again, some of the dates contain negative integers to represent the BC era. We correct for this the same way we dealt with Begin Dates - by adding a huge number to all dates"
   ]
  },
  {
   "cell_type": "code",
   "execution_count": 61,
   "metadata": {},
   "outputs": [
    {
     "data": {
      "text/plain": [
       "-5000"
      ]
     },
     "execution_count": 61,
     "metadata": {},
     "output_type": "execute_result"
    }
   ],
   "source": [
    "min(req_data['Object End Date'])"
   ]
  },
  {
   "cell_type": "code",
   "execution_count": 62,
   "metadata": {},
   "outputs": [
    {
     "data": {
      "text/plain": [
       "2004"
      ]
     },
     "execution_count": 62,
     "metadata": {},
     "output_type": "execute_result"
    }
   ],
   "source": [
    "max(req_data['Object End Date'])"
   ]
  },
  {
   "cell_type": "markdown",
   "metadata": {},
   "source": [
    "We add a value of 100000 to each date to ensure no negative numbers are used to store dates. This can easily be corrected for in later analyses to obtain the proper years"
   ]
  },
  {
   "cell_type": "code",
   "execution_count": 63,
   "metadata": {},
   "outputs": [],
   "source": [
    "req_data['Object End Date'] = req_data['Object End Date'].add(100000)"
   ]
  },
  {
   "cell_type": "code",
   "execution_count": null,
   "metadata": {},
   "outputs": [],
   "source": []
  },
  {
   "cell_type": "markdown",
   "metadata": {},
   "source": [
    "#### WE NOTICE THAT ALL THE DATE VALUES HAVE BEEN IMPUTED PROPERLY AND CORRECTED TO AVOID NEGATIVE YEARS"
   ]
  },
  {
   "cell_type": "code",
   "execution_count": 64,
   "metadata": {},
   "outputs": [
    {
     "data": {
      "text/plain": [
       "Object ID               0\n",
       "Department              0\n",
       "Object Name             0\n",
       "Title                   0\n",
       "Culture               119\n",
       "Artist Nationality    116\n",
       "Object Begin Date       0\n",
       "Object End Date         0\n",
       "Medium                  2\n",
       "Credit Line             0\n",
       "Country               172\n",
       "dtype: int64"
      ]
     },
     "execution_count": 64,
     "metadata": {},
     "output_type": "execute_result"
    }
   ],
   "source": [
    "req_data.isna().sum()"
   ]
  },
  {
   "cell_type": "code",
   "execution_count": null,
   "metadata": {},
   "outputs": [],
   "source": []
  },
  {
   "cell_type": "code",
   "execution_count": null,
   "metadata": {},
   "outputs": [],
   "source": []
  },
  {
   "cell_type": "markdown",
   "metadata": {},
   "source": [
    "## DEALING WITH THE 'Medium' COLUMN"
   ]
  },
  {
   "cell_type": "code",
   "execution_count": 65,
   "metadata": {
    "scrolled": true
   },
   "outputs": [
    {
     "data": {
      "text/plain": [
       "array(['Mahogany, ebony, ash, birch, white pine', 'Earthenware',\n",
       "       'Porcelain', 'Watercolor on ivory', 'Steel',\n",
       "       'Copper-gold alloy (shakudō), copper-silver alloy (shibuichi), gold',\n",
       "       'Silver', 'Pen, ink and watercolor on paper',\n",
       "       'Steel, wood, textile, metallic thread',\n",
       "       'Iron, gold, silver, copper',\n",
       "       'Steel, horn, brass, leather, copper wire',\n",
       "       'Hanging scroll mounted as a handscroll; ink on paper', 'Jade',\n",
       "       'Bronze',\n",
       "       'Polychrome woodblock print (surimono); ink and color on paper',\n",
       "       'Album leaf; ink and color on silk',\n",
       "       'Polychrome woodblock print; ink and color on paper',\n",
       "       'Lacquer, hirame ground, gold, red, silver and brown hiramakie, raden inlay; Interior: nashiji and fundame',\n",
       "       'Bamboo', 'Silk / Brocaded',\n",
       "       'Hanging scroll; ink and color on paper', 'Ink on paper',\n",
       "       'leather, metal', 'leather', 'rayon', 'synthetic', 'metal',\n",
       "       '[no medium available]', 'wool', 'wool, cotton',\n",
       "       'leather, wood, metal glass', 'linen, wool',\n",
       "       'a) leather; b) leather, metal', 'synthetic, metal',\n",
       "       'leather, wool', 'Cotton', 'Ivory, paper', 'Linen',\n",
       "       'Leather, metallic', 'Wool',\n",
       "       'Steel, silver, niello; case:  leather, silver, niello',\n",
       "       'Gilt bronze', 'Stoneware', 'Gold', 'Metal',\n",
       "       'Soft-paste porcelain', 'Gilt and enamel', 'Needle lace',\n",
       "       'Machine net', 'Silk', 'Iron', 'Terracotta', 'Jasper',\n",
       "       'Haemaetite', 'Albumen silver print from glass negative',\n",
       "       'Gelatin silver print', 'Bromoil print', 'Glass positive ',\n",
       "       'Film negative', 'Matte albumen silver print from glass negative',\n",
       "       'Stone, pigment', 'Jadeite', 'Paper, paint', 'Camelid hair',\n",
       "       'Stone', 'Cotton, glass beads', 'Ceramic, paint', 'Copper alloy',\n",
       "       'Calcite', 'Lithograph',\n",
       "       'Pen and brown ink, over black chalk, on beige paper', 'Engraving',\n",
       "       'Etching', 'Chromolithography', 'Illustrations: wood engraving',\n",
       "       'Wood engraving, hand colored',\n",
       "       'Illustrations: photomechanical process',\n",
       "       'Illustrations: photographic method and color prints', nan,\n",
       "       'Heliotype print',\n",
       "       'Dark brown ink, black chalk, and incised lines',\n",
       "       'Etching; only state', 'Etching; first state of four (Hind)',\n",
       "       'Pen and brown ink, brush and brown wash, over black chalk.',\n",
       "       'Pen and brown ink, brush and brown ink, over lead point or graphite.',\n",
       "       'Graphite and orange and brown pencil',\n",
       "       'Engraving and etching; second state of three',\n",
       "       'Printed book with engraved illustrations',\n",
       "       'Pen and black ink, watercolor and gouache with gum arabic',\n",
       "       'Pen and black ink, watercolor and gouache',\n",
       "       'Watercolor with gold',\n",
       "       'Etching and drypoint; second of two states',\n",
       "       'Etching, aquatint and drypoint; states 1-8',\n",
       "       'Engraving from a circular plate', 'Silkscreen',\n",
       "       'Commercial color lithography reproducing drawings',\n",
       "       'Etching and engraving; third state of three',\n",
       "       'Commercial color lithograph',\n",
       "       'Engraving; first state of two (Lieure)',\n",
       "       'Etching; second state of two (Lieure)',\n",
       "       'Lithography, hand-colored', 'Photolithograph',\n",
       "       'Earthenware; incised decoration through a white slip and coloring under a transparent glaze.',\n",
       "       'Cotton; painted', 'Plaster; cast',\n",
       "       'Ink, opaque watercolor, and gold on paper',\n",
       "       'Black chalk, pen and brown ink, heightened with white.',\n",
       "       'Colorless glass', 'White and pot-metal glass with vitreous paint',\n",
       "       'Marble', 'Colorless glass, silver stain, vitreous paint',\n",
       "       'Graphite on paper', 'Glass', 'Watercolor and graphite on paper',\n",
       "       'Ink, watercolor, metallic paint, and graphite on paper',\n",
       "       'Pottery', 'Limestone, ink, paint',\n",
       "       'Limestone, organic material, paint, malachite', 'Pottery, paint',\n",
       "       'Wood', 'Grasses', 'Pottery and ink, paint', 'Granite',\n",
       "       'Commercial printing in color', 'Albumen print (glossy finish)',\n",
       "       'Chiaroscuro woodcut from four blocks printed in orange',\n",
       "       'Etching and engraving', 'Color lithograph', 'Drypoint',\n",
       "       'Albumen photograph', 'Woodcut',\n",
       "       'Hand-colored lithograph with tint stone', 'Glass, ceramic',\n",
       "       'Etching and stipple', 'Daguerreotype', 'Commercial Lithographs',\n",
       "       'Graphite and red crayon  on wove paper with perforated linen tape adhered to left edge for binding',\n",
       "       'Photo-relief and letterpress on buff paper', 'Painted metal',\n",
       "       'Hand-colored etching', 'Design: Lithography', 'Printed matchbook',\n",
       "       'Lithograph on newsprint; third state of three (Delteil)',\n",
       "       'Bone china', 'Commercial Color Lithograph',\n",
       "       'Sugar-lift aquatint with roulette'], dtype=object)"
      ]
     },
     "execution_count": 65,
     "metadata": {},
     "output_type": "execute_result"
    }
   ],
   "source": [
    "req_data['Medium'].unique()"
   ]
  },
  {
   "cell_type": "markdown",
   "metadata": {},
   "source": [
    "We notice that one of the values contained in the 'Medium' column corresponds to '[no medium available]'. We replace this value with a Nan value"
   ]
  },
  {
   "cell_type": "code",
   "execution_count": 66,
   "metadata": {},
   "outputs": [
    {
     "name": "stderr",
     "output_type": "stream",
     "text": [
      "<ipython-input-66-612b11de860d>:3: SettingWithCopyWarning: \n",
      "A value is trying to be set on a copy of a slice from a DataFrame\n",
      "\n",
      "See the caveats in the documentation: https://pandas.pydata.org/pandas-docs/stable/user_guide/indexing.html#returning-a-view-versus-a-copy\n",
      "  req_data['Medium'][m_idx] = np.nan\n"
     ]
    }
   ],
   "source": [
    "m_idx = req_data.index[req_data['Medium'] == '[no medium available]'][0]\n",
    "\n",
    "req_data['Medium'][m_idx] = np.nan"
   ]
  },
  {
   "cell_type": "markdown",
   "metadata": {},
   "source": [
    "We use the Museum API to impute the 3 missing values"
   ]
  },
  {
   "cell_type": "code",
   "execution_count": 67,
   "metadata": {},
   "outputs": [
    {
     "name": "stderr",
     "output_type": "stream",
     "text": [
      "<ipython-input-67-49e4edd56fa5>:9: SettingWithCopyWarning: \n",
      "A value is trying to be set on a copy of a slice from a DataFrame\n",
      "\n",
      "See the caveats in the documentation: https://pandas.pydata.org/pandas-docs/stable/user_guide/indexing.html#returning-a-view-versus-a-copy\n",
      "  req_data['Medium'][idx] = parse_json['medium']\n"
     ]
    }
   ],
   "source": [
    "for i in req_data[req_data['Medium'].isnull()]['Object ID']:\n",
    "    \n",
    "    idx = req_data.index[req_data['Object ID'] == i][0]\n",
    "    url = 'https://collectionapi.metmuseum.org/public/collection/v1/objects/' + str(i)\n",
    "    response_API = requests.get(url)\n",
    "    data = response_API.text\n",
    "    parse_json = json.loads(data)\n",
    "    \n",
    "    req_data['Medium'][idx] = parse_json['medium']"
   ]
  },
  {
   "cell_type": "markdown",
   "metadata": {},
   "source": [
    "Replace any empty strings written in from Museum API with a Nan value"
   ]
  },
  {
   "cell_type": "code",
   "execution_count": 68,
   "metadata": {},
   "outputs": [],
   "source": [
    "req_data['Medium'] = req_data['Medium'].replace(r'^\\s*$', np.nan, regex=True)"
   ]
  },
  {
   "cell_type": "code",
   "execution_count": 69,
   "metadata": {},
   "outputs": [
    {
     "name": "stderr",
     "output_type": "stream",
     "text": [
      "<ipython-input-69-612b11de860d>:3: SettingWithCopyWarning: \n",
      "A value is trying to be set on a copy of a slice from a DataFrame\n",
      "\n",
      "See the caveats in the documentation: https://pandas.pydata.org/pandas-docs/stable/user_guide/indexing.html#returning-a-view-versus-a-copy\n",
      "  req_data['Medium'][m_idx] = np.nan\n"
     ]
    }
   ],
   "source": [
    "m_idx = req_data.index[req_data['Medium'] == '[no medium available]'][0]\n",
    "\n",
    "req_data['Medium'][m_idx] = np.nan"
   ]
  },
  {
   "cell_type": "markdown",
   "metadata": {},
   "source": [
    "Trim any leading/trailing spaces from each one of the entries"
   ]
  },
  {
   "cell_type": "code",
   "execution_count": 70,
   "metadata": {},
   "outputs": [
    {
     "name": "stderr",
     "output_type": "stream",
     "text": [
      "<ipython-input-70-60fad760d9e3>:3: SettingWithCopyWarning: \n",
      "A value is trying to be set on a copy of a slice from a DataFrame\n",
      "\n",
      "See the caveats in the documentation: https://pandas.pydata.org/pandas-docs/stable/user_guide/indexing.html#returning-a-view-versus-a-copy\n",
      "  req_data['Medium'][i] = req_data['Medium'][i].strip()\n"
     ]
    }
   ],
   "source": [
    "for i in range(req_data.shape[0]):\n",
    "    if not req_data['Medium'][i] != req_data['Medium'][i]:\n",
    "        req_data['Medium'][i] = req_data['Medium'][i].strip()"
   ]
  },
  {
   "cell_type": "markdown",
   "metadata": {},
   "source": [
    "<B>Although there are a variety of values included in the 'Medium' column, we do not try to combine them into common values as the medium itself depends heavily on the object it corresponds to. Each object could be vastly different from each other. </B>\n",
    "\n",
    "* As such, making assumptions about the medium that corresponds to each object, without having looked at the object itself would be very wrong.\n",
    "* Hence, we do not make any changes to this column's values"
   ]
  },
  {
   "cell_type": "code",
   "execution_count": 71,
   "metadata": {
    "scrolled": true
   },
   "outputs": [
    {
     "data": {
      "text/plain": [
       "array(['Mahogany, ebony, ash, birch, white pine', 'Earthenware',\n",
       "       'Porcelain', 'Watercolor on ivory', 'Steel',\n",
       "       'Copper-gold alloy (shakudō), copper-silver alloy (shibuichi), gold',\n",
       "       'Silver', 'Pen, ink and watercolor on paper',\n",
       "       'Steel, wood, textile, metallic thread',\n",
       "       'Iron, gold, silver, copper',\n",
       "       'Steel, horn, brass, leather, copper wire',\n",
       "       'Hanging scroll mounted as a handscroll; ink on paper', 'Jade',\n",
       "       'Bronze',\n",
       "       'Polychrome woodblock print (surimono); ink and color on paper',\n",
       "       'Album leaf; ink and color on silk',\n",
       "       'Polychrome woodblock print; ink and color on paper',\n",
       "       'Lacquer, hirame ground, gold, red, silver and brown hiramakie, raden inlay; Interior: nashiji and fundame',\n",
       "       'Bamboo', 'Silk / Brocaded',\n",
       "       'Hanging scroll; ink and color on paper', 'Ink on paper',\n",
       "       'leather, metal', 'leather', 'rayon', 'synthetic', 'metal', nan,\n",
       "       'wool', 'wool, cotton', 'leather, wood, metal glass',\n",
       "       'linen, wool', 'a) leather; b) leather, metal', 'synthetic, metal',\n",
       "       'leather, wool', 'Cotton', 'Ivory, paper', 'Linen',\n",
       "       'Leather, metallic', 'Wool',\n",
       "       'Steel, silver, niello; case:  leather, silver, niello',\n",
       "       'Gilt bronze', 'Stoneware', 'Gold', 'Metal',\n",
       "       'Soft-paste porcelain', 'Gilt and enamel', 'Needle lace',\n",
       "       'Machine net', 'Silk', 'Iron', 'Terracotta', 'Jasper',\n",
       "       'Haemaetite', 'Albumen silver print from glass negative',\n",
       "       'Gelatin silver print', 'Bromoil print', 'Glass positive',\n",
       "       'Film negative', 'Matte albumen silver print from glass negative',\n",
       "       'Stone, pigment', 'Jadeite', 'Paper, paint', 'Camelid hair',\n",
       "       'Stone', 'Cotton, glass beads', 'Ceramic, paint', 'Copper alloy',\n",
       "       'Calcite', 'Lithograph',\n",
       "       'Pen and brown ink, over black chalk, on beige paper', 'Engraving',\n",
       "       'Etching', 'Chromolithography', 'Illustrations: wood engraving',\n",
       "       'Wood engraving, hand colored',\n",
       "       'Illustrations: photomechanical process',\n",
       "       'Illustrations: photographic method and color prints',\n",
       "       'Heliotype print',\n",
       "       'Dark brown ink, black chalk, and incised lines',\n",
       "       'Etching; only state', 'Etching; first state of four (Hind)',\n",
       "       'Pen and brown ink, brush and brown wash, over black chalk.',\n",
       "       'Pen and brown ink, brush and brown ink, over lead point or graphite.',\n",
       "       'Graphite and orange and brown pencil',\n",
       "       'Engraving and etching; second state of three',\n",
       "       'Printed book with engraved illustrations',\n",
       "       'Pen and black ink, watercolor and gouache with gum arabic',\n",
       "       'Pen and black ink, watercolor and gouache',\n",
       "       'Watercolor with gold',\n",
       "       'Etching and drypoint; second of two states',\n",
       "       'Etching, aquatint and drypoint; states 1-8',\n",
       "       'Engraving from a circular plate', 'Silkscreen',\n",
       "       'Commercial color lithography reproducing drawings',\n",
       "       'Etching and engraving; third state of three',\n",
       "       'Commercial color lithograph',\n",
       "       'Engraving; first state of two (Lieure)',\n",
       "       'Etching; second state of two (Lieure)',\n",
       "       'Lithography, hand-colored', 'Photolithograph',\n",
       "       'Earthenware; incised decoration through a white slip and coloring under a transparent glaze.',\n",
       "       'Cotton; painted', 'Plaster; cast',\n",
       "       'Ink, opaque watercolor, and gold on paper',\n",
       "       'Black chalk, pen and brown ink, heightened with white.',\n",
       "       'Colorless glass', 'White and pot-metal glass with vitreous paint',\n",
       "       'Marble', 'Colorless glass, silver stain, vitreous paint',\n",
       "       'Graphite on paper', 'Glass', 'Watercolor and graphite on paper',\n",
       "       'Ink, watercolor, metallic paint, and graphite on paper',\n",
       "       'Pottery', 'Limestone, ink, paint',\n",
       "       'Limestone, organic material, paint, malachite', 'Pottery, paint',\n",
       "       'Wood', 'Grasses', 'Pottery and ink, paint', 'Granite',\n",
       "       'Commercial printing in color', 'Albumen print (glossy finish)',\n",
       "       'Chiaroscuro woodcut from four blocks printed in orange',\n",
       "       'Etching and engraving', 'Color lithograph', 'Drypoint',\n",
       "       'Albumen photograph', 'Woodcut',\n",
       "       'Hand-colored lithograph with tint stone', 'Glass, ceramic',\n",
       "       'Etching and stipple', 'Daguerreotype', 'Commercial Lithographs',\n",
       "       'Graphite and red crayon  on wove paper with perforated linen tape adhered to left edge for binding',\n",
       "       'Photo-relief and letterpress on buff paper', 'Painted metal',\n",
       "       'Hand-colored etching', 'Design: Lithography', 'Printed matchbook',\n",
       "       'Lithograph on newsprint; third state of three (Delteil)',\n",
       "       'Bone china', 'Commercial Color Lithograph',\n",
       "       'Sugar-lift aquatint with roulette'], dtype=object)"
      ]
     },
     "execution_count": 71,
     "metadata": {},
     "output_type": "execute_result"
    }
   ],
   "source": [
    "req_data['Medium'].unique()"
   ]
  },
  {
   "cell_type": "code",
   "execution_count": null,
   "metadata": {},
   "outputs": [],
   "source": []
  },
  {
   "cell_type": "code",
   "execution_count": 72,
   "metadata": {},
   "outputs": [
    {
     "data": {
      "text/html": [
       "<div>\n",
       "<style scoped>\n",
       "    .dataframe tbody tr th:only-of-type {\n",
       "        vertical-align: middle;\n",
       "    }\n",
       "\n",
       "    .dataframe tbody tr th {\n",
       "        vertical-align: top;\n",
       "    }\n",
       "\n",
       "    .dataframe thead th {\n",
       "        text-align: right;\n",
       "    }\n",
       "</style>\n",
       "<table border=\"1\" class=\"dataframe\">\n",
       "  <thead>\n",
       "    <tr style=\"text-align: right;\">\n",
       "      <th></th>\n",
       "      <th>Object ID</th>\n",
       "      <th>Department</th>\n",
       "      <th>Object Name</th>\n",
       "      <th>Title</th>\n",
       "      <th>Culture</th>\n",
       "      <th>Artist Nationality</th>\n",
       "      <th>Object Begin Date</th>\n",
       "      <th>Object End Date</th>\n",
       "      <th>Medium</th>\n",
       "      <th>Credit Line</th>\n",
       "      <th>Country</th>\n",
       "    </tr>\n",
       "  </thead>\n",
       "  <tbody>\n",
       "    <tr>\n",
       "      <th>28</th>\n",
       "      <td>96100</td>\n",
       "      <td>Costume Institute</td>\n",
       "      <td>Evening dress</td>\n",
       "      <td>Evening dress</td>\n",
       "      <td>French</td>\n",
       "      <td>French, born Italy</td>\n",
       "      <td>101966</td>\n",
       "      <td>101967</td>\n",
       "      <td>NaN</td>\n",
       "      <td>Gift of Mrs. William Rand, 1975</td>\n",
       "      <td>NaN</td>\n",
       "    </tr>\n",
       "    <tr>\n",
       "      <th>91</th>\n",
       "      <td>353752</td>\n",
       "      <td>Drawings and Prints</td>\n",
       "      <td>Book</td>\n",
       "      <td>Plates in Missel de Notre-Dame de France</td>\n",
       "      <td>NaN</td>\n",
       "      <td>French</td>\n",
       "      <td>101899</td>\n",
       "      <td>101899</td>\n",
       "      <td>NaN</td>\n",
       "      <td>The Elisha Whittelsey Collection, The Elisha W...</td>\n",
       "      <td>NaN</td>\n",
       "    </tr>\n",
       "    <tr>\n",
       "      <th>169</th>\n",
       "      <td>679516</td>\n",
       "      <td>Photographs</td>\n",
       "      <td>Album</td>\n",
       "      <td>[Album]</td>\n",
       "      <td>NaN</td>\n",
       "      <td>NaN</td>\n",
       "      <td>101860</td>\n",
       "      <td>101879</td>\n",
       "      <td>NaN</td>\n",
       "      <td>Gift of Eva Kasiska, 1947</td>\n",
       "      <td>NaN</td>\n",
       "    </tr>\n",
       "  </tbody>\n",
       "</table>\n",
       "</div>"
      ],
      "text/plain": [
       "     Object ID           Department    Object Name  \\\n",
       "28       96100    Costume Institute  Evening dress   \n",
       "91      353752  Drawings and Prints           Book   \n",
       "169     679516          Photographs          Album   \n",
       "\n",
       "                                        Title Culture  Artist Nationality  \\\n",
       "28                              Evening dress  French  French, born Italy   \n",
       "91   Plates in Missel de Notre-Dame de France     NaN              French   \n",
       "169                                   [Album]     NaN                 NaN   \n",
       "\n",
       "     Object Begin Date  Object End Date Medium  \\\n",
       "28              101966           101967    NaN   \n",
       "91              101899           101899    NaN   \n",
       "169             101860           101879    NaN   \n",
       "\n",
       "                                           Credit Line Country  \n",
       "28                     Gift of Mrs. William Rand, 1975     NaN  \n",
       "91   The Elisha Whittelsey Collection, The Elisha W...     NaN  \n",
       "169                          Gift of Eva Kasiska, 1947     NaN  "
      ]
     },
     "execution_count": 72,
     "metadata": {},
     "output_type": "execute_result"
    }
   ],
   "source": [
    "req_data[req_data['Medium'].isnull()]"
   ]
  },
  {
   "cell_type": "markdown",
   "metadata": {},
   "source": [
    "#### THE MISSING VALUES IN THE 'Medium' COLUMN STILL REMAIN"
   ]
  },
  {
   "cell_type": "code",
   "execution_count": 73,
   "metadata": {},
   "outputs": [
    {
     "data": {
      "text/plain": [
       "Object ID               0\n",
       "Department              0\n",
       "Object Name             0\n",
       "Title                   0\n",
       "Culture               119\n",
       "Artist Nationality    116\n",
       "Object Begin Date       0\n",
       "Object End Date         0\n",
       "Medium                  3\n",
       "Credit Line             0\n",
       "Country               172\n",
       "dtype: int64"
      ]
     },
     "execution_count": 73,
     "metadata": {},
     "output_type": "execute_result"
    }
   ],
   "source": [
    "req_data.isna().sum()"
   ]
  },
  {
   "cell_type": "code",
   "execution_count": null,
   "metadata": {},
   "outputs": [],
   "source": []
  },
  {
   "cell_type": "code",
   "execution_count": null,
   "metadata": {},
   "outputs": [],
   "source": []
  },
  {
   "cell_type": "markdown",
   "metadata": {},
   "source": [
    "## DEALING WITH THE 'Credit Line' COLUMN"
   ]
  },
  {
   "cell_type": "markdown",
   "metadata": {},
   "source": [
    "This column has no missing values. We however, run the empty space replacement code, and the strip() function on each one of these values to ensure consistency"
   ]
  },
  {
   "cell_type": "markdown",
   "metadata": {},
   "source": [
    "Again, we have no scope of combining individual levels of the column as each object is credited to a particular individual/institution and it varies from object to object. As such, there can be no common grouping"
   ]
  },
  {
   "cell_type": "code",
   "execution_count": 74,
   "metadata": {},
   "outputs": [
    {
     "data": {
      "text/plain": [
       "array(['Friends of the American Wing Fund, 1962', 'Rogers Fund, 1913',\n",
       "       'Rogers Fund, 1933', 'Gift of Mr. and Mrs. Franklin Chace, 1969',\n",
       "       'Fletcher Fund, 2006',\n",
       "       'The Collection of Giovanni P. Morosini, presented by his daughter Giulia, 1932',\n",
       "       'The Howard Mansfield Collection, Gift of Howard Mansfield, 1936',\n",
       "       'Gift of Bashford Dean, 1923',\n",
       "       'Bashford Dean Memorial Collection, Funds from various donors, 1929',\n",
       "       'Bashford Dean Memorial Collection, Gift of Edward S. Harkness, 1929',\n",
       "       'H. O. Havemeyer Collection, Bequest of Mrs. H. O. Havemeyer, 1929',\n",
       "       'Gift of Rutherfurd Stuyvesant, 1891',\n",
       "       'Bequest of John M. Crawford Jr., 1988',\n",
       "       'Gift of Samuel T. Peters, 1913',\n",
       "       'Samuel Eilenberg Collection, Bequest of Samuel Eilenberg, 1998',\n",
       "       'Charles Stewart Smith Collection, Gift of Mrs. Charles Stewart Smith, Charles Stewart Smith Jr., and Howard Caswell Smith, in memory of Charles Stewart Smith, 1914',\n",
       "       'Rogers Fund, 1922',\n",
       "       'The Howard Mansfield Collection, Purchase, Rogers Fund, 1936',\n",
       "       'Edward C. Moore Collection, Bequest of Edward C. Moore, 1891',\n",
       "       'Rogers Fund, 1909',\n",
       "       'The Lin Yutang Family Collection, Gift of Richard M. Lai, Jill Lai Miller, and Larry C. Lai, in memory of Taiyi Lin Lai, 2005',\n",
       "       'Gift of Cynthia Hazen Polsky, 2011',\n",
       "       'Gift of Linda A. Rosenthal, 1993', 'Gift of Holly Solomon, 1999',\n",
       "       'Gift of Calvin Klein, Inc., 1998',\n",
       "       'Gift of Muriel Kallis Newman, 2002',\n",
       "       'Gift of Mrs. William Rand, 1975', 'Museum Accession',\n",
       "       'Gift of Mary S. Ryan, 1981',\n",
       "       'Gift of Beth and Herbert Levine, 1977',\n",
       "       'Gift of Mrs. Stowe C. Phelps, 1980',\n",
       "       'Gift of Miss Irene Lewisohn and Alice Lewisohn Crowley, 1939',\n",
       "       'Purchase, Richard Martin Bequest and Friends of The Costume Institute Gifts, 2006',\n",
       "       'Gift of Martin F. Price, 2017',\n",
       "       'Catharine Breyer Van Bomel Foundation Fund, 2008',\n",
       "       'Brooklyn Museum Costume Collection at The Metropolitan Museum of Art, Gift of the Brooklyn Museum, 2009; Gift of Louise M. Coleman, 1941',\n",
       "       'Brooklyn Museum Costume Collection at The Metropolitan Museum of Art, Gift of the Brooklyn Museum, 2009; Gift of George Arents in memory of Annie Walter Arents, 1949',\n",
       "       'Brooklyn Museum Costume Collection at The Metropolitan Museum of Art, Gift of the Brooklyn Museum, 2009; Gift of The Jason and Peggy Westerfield Collection, 1969',\n",
       "       'Brooklyn Museum Costume Collection at The Metropolitan Museum of Art, Gift of the Brooklyn Museum, 2009; Gift of Colonel and Mrs. Horace Figuers, 1973',\n",
       "       'Brooklyn Museum Costume Collection at The Metropolitan Museum of Art, Gift of the Brooklyn Museum, 2009; Gift of Mrs. Albert Ogden in memory of Sheldon Stewart, 1964',\n",
       "       'Gift of R. Stuyvesant, 1893', 'Gift of J. Pierpont Morgan, 1906',\n",
       "       'Gift of Mrs. Robert W. de Forest, 1920',\n",
       "       'Samuel D. Lee Fund, 1939',\n",
       "       'Bequest of Catherine D. Wentworth, 1948',\n",
       "       'Gift of Gustavus A. Pfeiffer, 1953',\n",
       "       'Gift of Irwin Untermyer, 1964',\n",
       "       'Gift of Sir William H. Redding, in memory of his wife, 1907',\n",
       "       'Purchase by subscription, 1909',\n",
       "       'Gift of Ann Payne Blumenthal, 1936',\n",
       "       'Gift of Mrs. Janet S. Kaffenburgh in memory of her grandmother Mrs. Joseph Garson of Rochester, N.Y., 1976',\n",
       "       'Gift of Martin and Roberta Lerner, 2009',\n",
       "       'The Cesnola Collection, Purchased by subscription, 1874–76',\n",
       "       'Purchase, 1896', 'Gift of Henry S. Washington, 1919',\n",
       "       'Bequest of Richard B. Seager, 1926',\n",
       "       'Gift of Lucien Goldschmidt, 1981', 'Gift of the artist, 1983',\n",
       "       'Gift of Paul F. Walter, in memory of Christopher Hemphill, 1987',\n",
       "       'Purchase, The Horace W. Goldsmith Foundation Gift, through Joyce and Robert Menschel, 1989',\n",
       "       'Gift of Clarence McK. Lewis, 1954',\n",
       "       'Gift of Charles Bregler, 1947', 'Walker Evans Archive, 1994',\n",
       "       'Gilman Collection, Purchase, Sam Salz Foundation Gift, 2005',\n",
       "       'The Michael C. Rockefeller Memorial Collection; Gift of Nelson A. Rockefeller and Mrs. Mary C. Rockefeller, 1965',\n",
       "       'The Michael C. Rockefeller Memorial Collection, Bequest of Nelson A. Rockefeller, 1979',\n",
       "       'Gift of Lita Osmundsen, 1992',\n",
       "       'Bequest of Arthur M. Bullowa, 1993  ',\n",
       "       'Bequest of John B. Elliott, 1997', 'Rogers Fund, 1938',\n",
       "       'Purchase, Schimmel Foundation Inc. Gift, 1965',\n",
       "       'Gift of Sheldon and Barbara Breitbart, 1985',\n",
       "       'Gift of Bessie Potter Vonnoh, 1941', 'Rogers Fund, 1964',\n",
       "       'Harris Brisbane Dick Fund, 1927',\n",
       "       'Harris Brisbane Dick Fund, 1926',\n",
       "       'A. Hyatt Mayor Purchase Fund, Marjorie Phelps Starr Bequest, 1987',\n",
       "       'Anonymous Gift, 1941', 'Gift of Lincoln Kirstein, 1964',\n",
       "       'The Elisha Whittelsey Collection, The Elisha Whittelsey Fund, 1960',\n",
       "       'Gift of Lincoln Kirstein, 1986',\n",
       "       'The Elisha Whittelsey Collection, The Elisha Whittelsey Fund, 1963',\n",
       "       'The Elisha Whittelsey Collection, The Elisha Whittelsey Fund, 1962',\n",
       "       'The Elisha Whittelsey Collection, The Elisha Whittelsey Fund, 1966',\n",
       "       'Gift of Janos Scholz and Anne Bigelow Scholz, in memory of Flying Officer Walter Bigelow Rosen, RCAF, 1949',\n",
       "       'Purchase, Joseph Pulitzer Bequest, 1917',\n",
       "       'Gift of Mrs. David Keppel, 1960', 'Mrs. Regina Slatkin, 1963',\n",
       "       'Gift of Cornelius Vanderbilt, 1880',\n",
       "       'Purchase, Emily Crane Chadborne Bequest, 1972',\n",
       "       'Gift of Mrs. Hugo Elliot, 1941', 'Rogers Fund, 1952',\n",
       "       'Gift of William Brewster, 1923',\n",
       "       'Gift of the Royal Institute of British Architects, 1961',\n",
       "       'John B. Turner Fund, 2011', 'Purchase, C. G. Boerner Gift, 2011',\n",
       "       'Gift of the Work Projects Administration, Allocation Unit, Chicago, 1943',\n",
       "       'The Elisha Whittelsey Collection, The Elisha Whittelsey Fund, 1951',\n",
       "       'The Jefferson R. Burdick Collection, Gift of Jefferson R. Burdick',\n",
       "       'Bequest of Phyllis Massar, 2011', 'Gift of Sarah Lazarus, 1891',\n",
       "       'Gift of Harry G. Friedman, 1959', 'Robert B. Dodson Fund, 1931',\n",
       "       'Gift of Georgiana W. Sargent, in memory of John Osborne Sargent, 1924',\n",
       "       'Gift of Robert D. Brewster, 1951', 'Rogers Fund, 1926',\n",
       "       'Rogers Fund, 1937',\n",
       "       'Purchase, Louis V. Bell Fund and The Vincent Astor Foundation Gift, 1974',\n",
       "       'Robert Lehman Collection, 1975',\n",
       "       'Gift of Dr. Bashford Dean, 1923',\n",
       "       'Gift of Lawrence J. Majewski, 1963',\n",
       "       'The Cloisters Collection, 1982', 'The Cloisters Collection, 1925',\n",
       "       'The Cloisters Collection, 1932',\n",
       "       'Gift of Mr. and Mrs. Meyer Schapiro, 1983',\n",
       "       'Purchase, Theodore R. Gamble Jr. Gift, in honor of his mother, Mrs. Theodore Robert Gamble, 1988',\n",
       "       'Purchase, Lila Acheson Wallace Gift, 1994',\n",
       "       'Gift of Peter T. Joseph, 1995',\n",
       "       'Alfred Stieglitz Collection, 1949',\n",
       "       'Gift of Albert M. Lythgoe, 1917',\n",
       "       'Gift of Theodore M. Davis, 1909', 'Rogers Fund, 1907',\n",
       "       'Rogers Fund, 1936', 'Rogers Fund, 1931', 'Rogers Fund, 1917',\n",
       "       'Rogers Fund and Edward S. Harkness Gift, 1920',\n",
       "       'Gift of Dry Dock Savings Bank, 1973',\n",
       "       'Gift of Lucy Chauncey, in memory of her father, Henry Chauncey, 1935',\n",
       "       'Anonymous Gift, 2014', 'Gift of Susan Dwight Bliss, 1958',\n",
       "       'Museum Accession, transferred from the Library',\n",
       "       'Purchase, Jade Lau Gift, 2015', 'Gift of Carl Zigrosser, 1930',\n",
       "       'Rogers Fund, 1921',\n",
       "       'The Edward W. C. Arnold Collection of New York Prints, Maps and Pictures, Bequest of Edward W. C. Arnold, 1954',\n",
       "       'Purchase, Alfred Stieglitz Society Gifts, 2015',\n",
       "       'Gift of Eva Kasiska, 1947',\n",
       "       'The Elisha Whittelsey Collection, The Elisha Whittelsey Fund, 1952',\n",
       "       'Gift of Dietrich von Bothmer, Distinguished Research Curator, Greek and Roman Art, 2011',\n",
       "       'Gift of Clarence H. Mackay, Archer M. Huntington, Stephen H. P. Pell and Bashford Dean, 1928',\n",
       "       'Harris Brisbane Dick Fund, 1917',\n",
       "       'Purchase, Philippe de Montebello Fund, Mr. and Mrs. John A. Moran Gift, in memory of Louise Chisholm Moran, Joyce F. Menschel and Annette de la Renta Gifts, and funds from various donors, 2016 (2016.97)',\n",
       "       'Harris Brisbane Dick Fund, 1947',\n",
       "       'The Elisha Whittelsey Collection, The Elisha Whittelsey Fund, 1946',\n",
       "       'The Elisha Whittelsey Collection, The Elisha Whittelsey Fund, 1959',\n",
       "       'Harris Brisbane Dick Fund, 1932',\n",
       "       'Harris Brisbane Dick Fund, 1936',\n",
       "       'Gift of Helene Fortunoff and Robert Grossman, 2017',\n",
       "       'Gift of George R. Goldner, in honor of Stewart Goldner, 2016',\n",
       "       'Gift of Jerry S. Flum, 1980', 'Bequest of Grace Pugh, 1985',\n",
       "       'Gift of Henry Levien, 1967'], dtype=object)"
      ]
     },
     "execution_count": 74,
     "metadata": {},
     "output_type": "execute_result"
    }
   ],
   "source": [
    "req_data['Credit Line'].unique()"
   ]
  },
  {
   "cell_type": "markdown",
   "metadata": {},
   "source": [
    "Replacing empty spaces with Nan values"
   ]
  },
  {
   "cell_type": "code",
   "execution_count": 75,
   "metadata": {},
   "outputs": [],
   "source": [
    "req_data['Credit Line'] = req_data['Credit Line'].replace(r'^\\s*$', np.nan, regex=True)"
   ]
  },
  {
   "cell_type": "markdown",
   "metadata": {},
   "source": [
    "Trimming whitespaces"
   ]
  },
  {
   "cell_type": "code",
   "execution_count": 76,
   "metadata": {},
   "outputs": [
    {
     "name": "stderr",
     "output_type": "stream",
     "text": [
      "<ipython-input-76-0e87e88022e7>:3: SettingWithCopyWarning: \n",
      "A value is trying to be set on a copy of a slice from a DataFrame\n",
      "\n",
      "See the caveats in the documentation: https://pandas.pydata.org/pandas-docs/stable/user_guide/indexing.html#returning-a-view-versus-a-copy\n",
      "  req_data['Credit Line'][i] = req_data['Credit Line'][i].strip()\n"
     ]
    }
   ],
   "source": [
    "for i in range(req_data.shape[0]):\n",
    "    if not req_data['Credit Line'][i] != req_data['Credit Line'][i]:\n",
    "        req_data['Credit Line'][i] = req_data['Credit Line'][i].strip()"
   ]
  },
  {
   "cell_type": "code",
   "execution_count": null,
   "metadata": {},
   "outputs": [],
   "source": []
  },
  {
   "cell_type": "code",
   "execution_count": 77,
   "metadata": {},
   "outputs": [
    {
     "data": {
      "text/plain": [
       "Object ID               0\n",
       "Department              0\n",
       "Object Name             0\n",
       "Title                   0\n",
       "Culture               119\n",
       "Artist Nationality    116\n",
       "Object Begin Date       0\n",
       "Object End Date         0\n",
       "Medium                  3\n",
       "Credit Line             0\n",
       "Country               172\n",
       "dtype: int64"
      ]
     },
     "execution_count": 77,
     "metadata": {},
     "output_type": "execute_result"
    }
   ],
   "source": [
    "req_data.isna().sum()"
   ]
  },
  {
   "cell_type": "code",
   "execution_count": null,
   "metadata": {},
   "outputs": [],
   "source": []
  },
  {
   "cell_type": "code",
   "execution_count": null,
   "metadata": {},
   "outputs": [],
   "source": []
  },
  {
   "cell_type": "markdown",
   "metadata": {},
   "source": [
    "## DEALING WITH 'Country' COLUMN"
   ]
  },
  {
   "cell_type": "code",
   "execution_count": 78,
   "metadata": {},
   "outputs": [
    {
     "data": {
      "text/plain": [
       "array(['United States', 'Netherlands', nan, 'Indonesia', 'Mexico',\n",
       "       'Costa Rica', 'Papua New Guinea', 'Peru', 'Egypt', 'India', 'Iran',\n",
       "       'present-day Uzbekistan', 'France', 'present-day France'],\n",
       "      dtype=object)"
      ]
     },
     "execution_count": 78,
     "metadata": {},
     "output_type": "execute_result"
    }
   ],
   "source": [
    "req_data['Country'].unique()"
   ]
  },
  {
   "cell_type": "markdown",
   "metadata": {},
   "source": [
    "Again, we make use of the Museum API to impute missing values in this column.\n",
    "\n",
    "We also track those objects that are not listed in the museum's web page\n"
   ]
  },
  {
   "cell_type": "code",
   "execution_count": 79,
   "metadata": {},
   "outputs": [
    {
     "name": "stderr",
     "output_type": "stream",
     "text": [
      "<ipython-input-79-4d5c59558743>:11: SettingWithCopyWarning: \n",
      "A value is trying to be set on a copy of a slice from a DataFrame\n",
      "\n",
      "See the caveats in the documentation: https://pandas.pydata.org/pandas-docs/stable/user_guide/indexing.html#returning-a-view-versus-a-copy\n",
      "  req_data['Country'][idx] = parse_json['country']\n"
     ]
    }
   ],
   "source": [
    "catch_country = []\n",
    "for i in req_data[req_data['Country'].isnull()]['Object ID']:\n",
    "    \n",
    "    idx = req_data.index[req_data['Object ID'] == i][0]\n",
    "    url = 'https://collectionapi.metmuseum.org/public/collection/v1/objects/' + str(i)\n",
    "    response_API = requests.get(url)\n",
    "    data = response_API.text\n",
    "    parse_json = json.loads(data)\n",
    "    \n",
    "    try:\n",
    "        req_data['Country'][idx] = parse_json['country']\n",
    "    \n",
    "    except:\n",
    "        catch_country.append(i)\n",
    "    \n",
    "    else:\n",
    "        continue"
   ]
  },
  {
   "cell_type": "markdown",
   "metadata": {},
   "source": [
    "Replacing any empty spaces written in from the Museum's API with Nan values"
   ]
  },
  {
   "cell_type": "code",
   "execution_count": 80,
   "metadata": {},
   "outputs": [],
   "source": [
    "req_data['Country'] = req_data['Country'].replace(r'^\\s*$', np.nan, regex=True)"
   ]
  },
  {
   "cell_type": "markdown",
   "metadata": {},
   "source": [
    "Trimming whitespaces"
   ]
  },
  {
   "cell_type": "code",
   "execution_count": 81,
   "metadata": {},
   "outputs": [
    {
     "name": "stderr",
     "output_type": "stream",
     "text": [
      "<ipython-input-81-cad4221c72ca>:3: SettingWithCopyWarning: \n",
      "A value is trying to be set on a copy of a slice from a DataFrame\n",
      "\n",
      "See the caveats in the documentation: https://pandas.pydata.org/pandas-docs/stable/user_guide/indexing.html#returning-a-view-versus-a-copy\n",
      "  req_data['Country'][i] = req_data['Country'][i].strip()\n"
     ]
    }
   ],
   "source": [
    "for i in range(req_data.shape[0]):\n",
    "    if not req_data['Country'][i] != req_data['Country'][i]:\n",
    "        req_data['Country'][i] = req_data['Country'][i].strip()"
   ]
  },
  {
   "cell_type": "markdown",
   "metadata": {},
   "source": [
    "#### WE NOTICE THAT SOME OF THE MISSING VALUES IN THIS COLUMN WERE IMPUTED - THE NUMBER DROPPED FROM 172 TO 159"
   ]
  },
  {
   "cell_type": "code",
   "execution_count": 82,
   "metadata": {},
   "outputs": [
    {
     "data": {
      "text/plain": [
       "Object ID               0\n",
       "Department              0\n",
       "Object Name             0\n",
       "Title                   0\n",
       "Culture               119\n",
       "Artist Nationality    116\n",
       "Object Begin Date       0\n",
       "Object End Date         0\n",
       "Medium                  3\n",
       "Credit Line             0\n",
       "Country               159\n",
       "dtype: int64"
      ]
     },
     "execution_count": 82,
     "metadata": {},
     "output_type": "execute_result"
    }
   ],
   "source": [
    "req_data.isna().sum()"
   ]
  },
  {
   "cell_type": "code",
   "execution_count": null,
   "metadata": {},
   "outputs": [],
   "source": []
  },
  {
   "cell_type": "code",
   "execution_count": null,
   "metadata": {},
   "outputs": [],
   "source": []
  },
  {
   "cell_type": "markdown",
   "metadata": {},
   "source": [
    "## WE STILL HAVE A SIGNIFICANT NUMBER OF RECORDS WITH MISSING VALUES"
   ]
  },
  {
   "cell_type": "markdown",
   "metadata": {},
   "source": [
    "With no other way to impute this missing data, we look at the dataset itself to give us some pointers"
   ]
  },
  {
   "cell_type": "markdown",
   "metadata": {},
   "source": [
    "'Culture' and 'Country' are quite similar to each other - \n",
    "\n",
    "* Culture records the culture to which each object belongs to\n",
    "\n",
    "* Country records the country where the object was found."
   ]
  },
  {
   "cell_type": "markdown",
   "metadata": {},
   "source": [
    "It is highly likely that most of the times the country where an object is found happens to be the culture that the object was created in/by."
   ]
  },
  {
   "cell_type": "markdown",
   "metadata": {},
   "source": [
    "<B>This is a reasonable argument to :\n",
    "    * impute missing values in culture with the corresponding country values\n",
    "    * impute missing values in country with the corresponding culture values"
   ]
  },
  {
   "cell_type": "code",
   "execution_count": null,
   "metadata": {},
   "outputs": [],
   "source": []
  },
  {
   "cell_type": "markdown",
   "metadata": {},
   "source": [
    "* <B>We notice that a majority of the records (97) don't have any values in both the Culture and Country columns.</B>\n",
    "* <B>Therefore, the only option is to delete them.</B>"
   ]
  },
  {
   "cell_type": "code",
   "execution_count": 83,
   "metadata": {
    "scrolled": true
   },
   "outputs": [
    {
     "data": {
      "text/html": [
       "<div>\n",
       "<style scoped>\n",
       "    .dataframe tbody tr th:only-of-type {\n",
       "        vertical-align: middle;\n",
       "    }\n",
       "\n",
       "    .dataframe tbody tr th {\n",
       "        vertical-align: top;\n",
       "    }\n",
       "\n",
       "    .dataframe thead th {\n",
       "        text-align: right;\n",
       "    }\n",
       "</style>\n",
       "<table border=\"1\" class=\"dataframe\">\n",
       "  <thead>\n",
       "    <tr style=\"text-align: right;\">\n",
       "      <th></th>\n",
       "      <th>Object ID</th>\n",
       "      <th>Department</th>\n",
       "      <th>Object Name</th>\n",
       "      <th>Title</th>\n",
       "      <th>Culture</th>\n",
       "      <th>Artist Nationality</th>\n",
       "      <th>Object Begin Date</th>\n",
       "      <th>Object End Date</th>\n",
       "      <th>Medium</th>\n",
       "      <th>Credit Line</th>\n",
       "      <th>Country</th>\n",
       "    </tr>\n",
       "  </thead>\n",
       "  <tbody>\n",
       "    <tr>\n",
       "      <th>62</th>\n",
       "      <td>262991</td>\n",
       "      <td>Photographs</td>\n",
       "      <td>Photograph</td>\n",
       "      <td>[Detail of Vanitas Figures Carved on the Choir...</td>\n",
       "      <td>NaN</td>\n",
       "      <td>NaN</td>\n",
       "      <td>101860</td>\n",
       "      <td>101869</td>\n",
       "      <td>Albumen silver print from glass negative</td>\n",
       "      <td>Gift of Lucien Goldschmidt, 1981</td>\n",
       "      <td>NaN</td>\n",
       "    </tr>\n",
       "    <tr>\n",
       "      <th>63</th>\n",
       "      <td>263514</td>\n",
       "      <td>Photographs</td>\n",
       "      <td>Photograph</td>\n",
       "      <td>Robert Motherwell</td>\n",
       "      <td>NaN</td>\n",
       "      <td>American</td>\n",
       "      <td>101981</td>\n",
       "      <td>101981</td>\n",
       "      <td>Gelatin silver print</td>\n",
       "      <td>Gift of the artist, 1983</td>\n",
       "      <td>NaN</td>\n",
       "    </tr>\n",
       "    <tr>\n",
       "      <th>64</th>\n",
       "      <td>265758</td>\n",
       "      <td>Photographs</td>\n",
       "      <td>Photograph</td>\n",
       "      <td>[Graffiti on Backstage Door of the School of A...</td>\n",
       "      <td>NaN</td>\n",
       "      <td>American</td>\n",
       "      <td>101945</td>\n",
       "      <td>101945</td>\n",
       "      <td>Gelatin silver print</td>\n",
       "      <td>Gift of Paul F. Walter, in memory of Christoph...</td>\n",
       "      <td>NaN</td>\n",
       "    </tr>\n",
       "    <tr>\n",
       "      <th>65</th>\n",
       "      <td>266167</td>\n",
       "      <td>Photographs</td>\n",
       "      <td>Photograph</td>\n",
       "      <td>[Study of Australian Grapes]</td>\n",
       "      <td>NaN</td>\n",
       "      <td>NaN</td>\n",
       "      <td>101858</td>\n",
       "      <td>101862</td>\n",
       "      <td>Albumen silver print from glass negative</td>\n",
       "      <td>Purchase, The Horace W. Goldsmith Foundation G...</td>\n",
       "      <td>NaN</td>\n",
       "    </tr>\n",
       "    <tr>\n",
       "      <th>66</th>\n",
       "      <td>269735</td>\n",
       "      <td>Photographs</td>\n",
       "      <td>Photograph</td>\n",
       "      <td>Sous bois</td>\n",
       "      <td>NaN</td>\n",
       "      <td>Belgian</td>\n",
       "      <td>101922</td>\n",
       "      <td>101922</td>\n",
       "      <td>Bromoil print</td>\n",
       "      <td>Gift of Clarence McK. Lewis, 1954</td>\n",
       "      <td>NaN</td>\n",
       "    </tr>\n",
       "    <tr>\n",
       "      <th>...</th>\n",
       "      <td>...</td>\n",
       "      <td>...</td>\n",
       "      <td>...</td>\n",
       "      <td>...</td>\n",
       "      <td>...</td>\n",
       "      <td>...</td>\n",
       "      <td>...</td>\n",
       "      <td>...</td>\n",
       "      <td>...</td>\n",
       "      <td>...</td>\n",
       "      <td>...</td>\n",
       "    </tr>\n",
       "    <tr>\n",
       "      <th>198</th>\n",
       "      <td>779306</td>\n",
       "      <td>Drawings and Prints</td>\n",
       "      <td>Trade card</td>\n",
       "      <td>Packard-Tourist, from the \"Antique Autos\" seri...</td>\n",
       "      <td>NaN</td>\n",
       "      <td>NaN</td>\n",
       "      <td>101953</td>\n",
       "      <td>101953</td>\n",
       "      <td>Commercial color lithograph</td>\n",
       "      <td>The Jefferson R. Burdick Collection, Gift of J...</td>\n",
       "      <td>NaN</td>\n",
       "    </tr>\n",
       "    <tr>\n",
       "      <th>199</th>\n",
       "      <td>785013</td>\n",
       "      <td>Drawings and Prints</td>\n",
       "      <td>Print; ephemera</td>\n",
       "      <td>Norwegian Air Force In Canada Patrol Bomber (N...</td>\n",
       "      <td>NaN</td>\n",
       "      <td>NaN</td>\n",
       "      <td>101942</td>\n",
       "      <td>101942</td>\n",
       "      <td>Commercial color lithograph</td>\n",
       "      <td>The Jefferson R. Burdick Collection, Gift of J...</td>\n",
       "      <td>NaN</td>\n",
       "    </tr>\n",
       "    <tr>\n",
       "      <th>200</th>\n",
       "      <td>813925</td>\n",
       "      <td>Drawings and Prints</td>\n",
       "      <td>Print</td>\n",
       "      <td>Stonehenge</td>\n",
       "      <td>NaN</td>\n",
       "      <td>NaN</td>\n",
       "      <td>101979</td>\n",
       "      <td>101979</td>\n",
       "      <td>Sugar-lift aquatint with roulette</td>\n",
       "      <td>Gift of Jerry S. Flum, 1980</td>\n",
       "      <td>NaN</td>\n",
       "    </tr>\n",
       "    <tr>\n",
       "      <th>201</th>\n",
       "      <td>820618</td>\n",
       "      <td>Drawings and Prints</td>\n",
       "      <td>Print</td>\n",
       "      <td>Psyche, holding the flask of beauty being tran...</td>\n",
       "      <td>NaN</td>\n",
       "      <td>NaN</td>\n",
       "      <td>101525</td>\n",
       "      <td>101535</td>\n",
       "      <td>Engraving</td>\n",
       "      <td>Bequest of Grace Pugh, 1985</td>\n",
       "      <td>NaN</td>\n",
       "    </tr>\n",
       "    <tr>\n",
       "      <th>202</th>\n",
       "      <td>824428</td>\n",
       "      <td>Drawings and Prints</td>\n",
       "      <td>Print</td>\n",
       "      <td>Landscape and Cattle</td>\n",
       "      <td>NaN</td>\n",
       "      <td>NaN</td>\n",
       "      <td>101875</td>\n",
       "      <td>101885</td>\n",
       "      <td>Etching</td>\n",
       "      <td>Gift of Henry Levien, 1967</td>\n",
       "      <td>NaN</td>\n",
       "    </tr>\n",
       "  </tbody>\n",
       "</table>\n",
       "<p>97 rows × 11 columns</p>\n",
       "</div>"
      ],
      "text/plain": [
       "     Object ID           Department      Object Name  \\\n",
       "62      262991          Photographs       Photograph   \n",
       "63      263514          Photographs       Photograph   \n",
       "64      265758          Photographs       Photograph   \n",
       "65      266167          Photographs       Photograph   \n",
       "66      269735          Photographs       Photograph   \n",
       "..         ...                  ...              ...   \n",
       "198     779306  Drawings and Prints       Trade card   \n",
       "199     785013  Drawings and Prints  Print; ephemera   \n",
       "200     813925  Drawings and Prints            Print   \n",
       "201     820618  Drawings and Prints            Print   \n",
       "202     824428  Drawings and Prints            Print   \n",
       "\n",
       "                                                 Title Culture  \\\n",
       "62   [Detail of Vanitas Figures Carved on the Choir...     NaN   \n",
       "63                                   Robert Motherwell     NaN   \n",
       "64   [Graffiti on Backstage Door of the School of A...     NaN   \n",
       "65                        [Study of Australian Grapes]     NaN   \n",
       "66                                           Sous bois     NaN   \n",
       "..                                                 ...     ...   \n",
       "198  Packard-Tourist, from the \"Antique Autos\" seri...     NaN   \n",
       "199  Norwegian Air Force In Canada Patrol Bomber (N...     NaN   \n",
       "200                                         Stonehenge     NaN   \n",
       "201  Psyche, holding the flask of beauty being tran...     NaN   \n",
       "202                               Landscape and Cattle     NaN   \n",
       "\n",
       "    Artist Nationality  Object Begin Date  Object End Date  \\\n",
       "62                 NaN             101860           101869   \n",
       "63            American             101981           101981   \n",
       "64            American             101945           101945   \n",
       "65                 NaN             101858           101862   \n",
       "66             Belgian             101922           101922   \n",
       "..                 ...                ...              ...   \n",
       "198                NaN             101953           101953   \n",
       "199                NaN             101942           101942   \n",
       "200                NaN             101979           101979   \n",
       "201                NaN             101525           101535   \n",
       "202                NaN             101875           101885   \n",
       "\n",
       "                                       Medium  \\\n",
       "62   Albumen silver print from glass negative   \n",
       "63                       Gelatin silver print   \n",
       "64                       Gelatin silver print   \n",
       "65   Albumen silver print from glass negative   \n",
       "66                              Bromoil print   \n",
       "..                                        ...   \n",
       "198               Commercial color lithograph   \n",
       "199               Commercial color lithograph   \n",
       "200         Sugar-lift aquatint with roulette   \n",
       "201                                 Engraving   \n",
       "202                                   Etching   \n",
       "\n",
       "                                           Credit Line Country  \n",
       "62                    Gift of Lucien Goldschmidt, 1981     NaN  \n",
       "63                            Gift of the artist, 1983     NaN  \n",
       "64   Gift of Paul F. Walter, in memory of Christoph...     NaN  \n",
       "65   Purchase, The Horace W. Goldsmith Foundation G...     NaN  \n",
       "66                   Gift of Clarence McK. Lewis, 1954     NaN  \n",
       "..                                                 ...     ...  \n",
       "198  The Jefferson R. Burdick Collection, Gift of J...     NaN  \n",
       "199  The Jefferson R. Burdick Collection, Gift of J...     NaN  \n",
       "200                        Gift of Jerry S. Flum, 1980     NaN  \n",
       "201                        Bequest of Grace Pugh, 1985     NaN  \n",
       "202                         Gift of Henry Levien, 1967     NaN  \n",
       "\n",
       "[97 rows x 11 columns]"
      ]
     },
     "execution_count": 83,
     "metadata": {},
     "output_type": "execute_result"
    }
   ],
   "source": [
    "req_data[(req_data['Culture'].isnull()) & (req_data['Country'].isnull())]"
   ]
  },
  {
   "cell_type": "code",
   "execution_count": null,
   "metadata": {},
   "outputs": [],
   "source": []
  },
  {
   "cell_type": "markdown",
   "metadata": {},
   "source": [
    "<B>But first, we impute the culture with country values and country with culture</B>"
   ]
  },
  {
   "cell_type": "code",
   "execution_count": 84,
   "metadata": {},
   "outputs": [
    {
     "name": "stderr",
     "output_type": "stream",
     "text": [
      "<ipython-input-84-ec7d775f6354>:5: SettingWithCopyWarning: \n",
      "A value is trying to be set on a copy of a slice from a DataFrame\n",
      "\n",
      "See the caveats in the documentation: https://pandas.pydata.org/pandas-docs/stable/user_guide/indexing.html#returning-a-view-versus-a-copy\n",
      "  req_data['Culture'][idx] = req_data['Country'][idx]\n",
      "<ipython-input-84-ec7d775f6354>:15: SettingWithCopyWarning: \n",
      "A value is trying to be set on a copy of a slice from a DataFrame\n",
      "\n",
      "See the caveats in the documentation: https://pandas.pydata.org/pandas-docs/stable/user_guide/indexing.html#returning-a-view-versus-a-copy\n",
      "  req_data['Country'][idx] = req_data['Culture'][idx]\n"
     ]
    }
   ],
   "source": [
    "for i in req_data[req_data['Culture'].isnull()]['Object ID']:\n",
    "    \n",
    "    idx = req_data.index[req_data['Object ID'] == i][0]\n",
    "    \n",
    "    req_data['Culture'][idx] = req_data['Country'][idx]\n",
    "\n",
    "    \n",
    "\n",
    "    \n",
    "\n",
    "for i in req_data[req_data['Country'].isnull()]['Object ID']:\n",
    "    \n",
    "    idx = req_data.index[req_data['Object ID'] == i][0]\n",
    "    \n",
    "    req_data['Country'][idx] = req_data['Culture'][idx]"
   ]
  },
  {
   "cell_type": "markdown",
   "metadata": {},
   "source": [
    "<B>Checking if such an imputation introduces any irregularities in the 'CULTURE' Column</B>"
   ]
  },
  {
   "cell_type": "code",
   "execution_count": 85,
   "metadata": {},
   "outputs": [
    {
     "data": {
      "text/plain": [
       "array(['American', 'Dutch', 'Japanese', 'German', 'Spanish', 'China',\n",
       "       'Thailand', 'India (Guler, Punjab Hills)', 'British', 'Italian',\n",
       "       'European', 'French', 'Romanian', 'Greek', 'Cypriot', 'Minoan',\n",
       "       nan, 'Asmat people', 'Aztec', 'Atlantic Watershed',\n",
       "       'Abelam people', 'Quechua', 'Mexican', 'Timor', 'Iran', 'France',\n",
       "       'England', 'Russia', 'Egypt', 'India', 'present-day Uzbekistan',\n",
       "       'Byzantine', 'Catalan'], dtype=object)"
      ]
     },
     "execution_count": 85,
     "metadata": {},
     "output_type": "execute_result"
    }
   ],
   "source": [
    "req_data['Culture'].unique()"
   ]
  },
  {
   "cell_type": "markdown",
   "metadata": {},
   "source": [
    "<B> Addressing these irregularities </B>"
   ]
  },
  {
   "cell_type": "code",
   "execution_count": 86,
   "metadata": {},
   "outputs": [
    {
     "name": "stderr",
     "output_type": "stream",
     "text": [
      "<ipython-input-86-812e2b0fa65d>:6: SettingWithCopyWarning: \n",
      "A value is trying to be set on a copy of a slice from a DataFrame\n",
      "\n",
      "See the caveats in the documentation: https://pandas.pydata.org/pandas-docs/stable/user_guide/indexing.html#returning-a-view-versus-a-copy\n",
      "  req_data['Culture'][idx] = 'India'\n",
      "<ipython-input-86-812e2b0fa65d>:15: SettingWithCopyWarning: \n",
      "A value is trying to be set on a copy of a slice from a DataFrame\n",
      "\n",
      "See the caveats in the documentation: https://pandas.pydata.org/pandas-docs/stable/user_guide/indexing.html#returning-a-view-versus-a-copy\n",
      "  req_data['Culture'][idx] = 'French'\n",
      "<ipython-input-86-812e2b0fa65d>:24: SettingWithCopyWarning: \n",
      "A value is trying to be set on a copy of a slice from a DataFrame\n",
      "\n",
      "See the caveats in the documentation: https://pandas.pydata.org/pandas-docs/stable/user_guide/indexing.html#returning-a-view-versus-a-copy\n",
      "  req_data['Culture'][idx] = 'British'\n"
     ]
    }
   ],
   "source": [
    "for i in req_data[(req_data['Culture'] == 'India (Guler, Punjab Hills)') | (req_data['Culture'] == 'India')]['Object ID']:\n",
    "    \n",
    "    \n",
    "    idx = req_data.index[req_data['Object ID'] == i][0]\n",
    "    \n",
    "    req_data['Culture'][idx] = 'India'\n",
    "\n",
    "    \n",
    "\n",
    "for i in req_data[(req_data['Culture'] == 'French') | (req_data['Culture'] == 'France')]['Object ID']:\n",
    "    \n",
    "    \n",
    "    idx = req_data.index[req_data['Object ID'] == i][0]\n",
    "    \n",
    "    req_data['Culture'][idx] = 'French'\n",
    "    \n",
    "    \n",
    "    \n",
    "for i in req_data[(req_data['Culture'] == 'England') | (req_data['Culture'] == 'British')]['Object ID']:\n",
    "    \n",
    "    \n",
    "    idx = req_data.index[req_data['Object ID'] == i][0]\n",
    "    \n",
    "    req_data['Culture'][idx] = 'British'"
   ]
  },
  {
   "cell_type": "markdown",
   "metadata": {},
   "source": [
    "<B> The column 'Culture' is clean now </B>"
   ]
  },
  {
   "cell_type": "code",
   "execution_count": 87,
   "metadata": {},
   "outputs": [
    {
     "data": {
      "text/plain": [
       "array(['American', 'Dutch', 'Japanese', 'German', 'Spanish', 'China',\n",
       "       'Thailand', 'India', 'British', 'Italian', 'European', 'French',\n",
       "       'Romanian', 'Greek', 'Cypriot', 'Minoan', nan, 'Asmat people',\n",
       "       'Aztec', 'Atlantic Watershed', 'Abelam people', 'Quechua',\n",
       "       'Mexican', 'Timor', 'Iran', 'Russia', 'Egypt',\n",
       "       'present-day Uzbekistan', 'Byzantine', 'Catalan'], dtype=object)"
      ]
     },
     "execution_count": 87,
     "metadata": {},
     "output_type": "execute_result"
    }
   ],
   "source": [
    "req_data['Culture'].unique()"
   ]
  },
  {
   "cell_type": "code",
   "execution_count": null,
   "metadata": {},
   "outputs": [],
   "source": []
  },
  {
   "cell_type": "code",
   "execution_count": null,
   "metadata": {},
   "outputs": [],
   "source": []
  },
  {
   "cell_type": "markdown",
   "metadata": {},
   "source": [
    "<B>Checking if such an imputation introduces any irregularities in the 'COUNTRY' Column</B>"
   ]
  },
  {
   "cell_type": "code",
   "execution_count": 88,
   "metadata": {},
   "outputs": [
    {
     "data": {
      "text/plain": [
       "array(['United States', 'Netherlands', 'American', 'Japan', 'Germany',\n",
       "       'possibly Spain', 'China', 'Thailand', 'Japanese',\n",
       "       'India (Guler, Punjab Hills)', 'British', 'Italian', 'European',\n",
       "       'French', nan, 'Romanian', 'Greek', 'German', 'Spanish', 'Cypriot',\n",
       "       'Minoan', 'Indonesia', 'Mexico', 'Costa Rica', 'Papua New Guinea',\n",
       "       'Peru', 'Iran', 'France', 'England', 'Russia', 'Egypt', 'India',\n",
       "       'present-day Uzbekistan', 'Byzantine', 'present-day France',\n",
       "       'Dutch'], dtype=object)"
      ]
     },
     "execution_count": 88,
     "metadata": {},
     "output_type": "execute_result"
    }
   ],
   "source": [
    "req_data['Country'].unique()"
   ]
  },
  {
   "cell_type": "markdown",
   "metadata": {},
   "source": [
    "<B> Addressing these irregularities </B>"
   ]
  },
  {
   "cell_type": "code",
   "execution_count": 89,
   "metadata": {},
   "outputs": [
    {
     "name": "stderr",
     "output_type": "stream",
     "text": [
      "<ipython-input-89-dd3ea75dff09>:6: SettingWithCopyWarning: \n",
      "A value is trying to be set on a copy of a slice from a DataFrame\n",
      "\n",
      "See the caveats in the documentation: https://pandas.pydata.org/pandas-docs/stable/user_guide/indexing.html#returning-a-view-versus-a-copy\n",
      "  req_data['Country'][idx] = 'India'\n",
      "<ipython-input-89-dd3ea75dff09>:16: SettingWithCopyWarning: \n",
      "A value is trying to be set on a copy of a slice from a DataFrame\n",
      "\n",
      "See the caveats in the documentation: https://pandas.pydata.org/pandas-docs/stable/user_guide/indexing.html#returning-a-view-versus-a-copy\n",
      "  req_data['Country'][idx] = 'France'\n",
      "<ipython-input-89-dd3ea75dff09>:25: SettingWithCopyWarning: \n",
      "A value is trying to be set on a copy of a slice from a DataFrame\n",
      "\n",
      "See the caveats in the documentation: https://pandas.pydata.org/pandas-docs/stable/user_guide/indexing.html#returning-a-view-versus-a-copy\n",
      "  req_data['Country'][idx] = 'British'\n",
      "<ipython-input-89-dd3ea75dff09>:35: SettingWithCopyWarning: \n",
      "A value is trying to be set on a copy of a slice from a DataFrame\n",
      "\n",
      "See the caveats in the documentation: https://pandas.pydata.org/pandas-docs/stable/user_guide/indexing.html#returning-a-view-versus-a-copy\n",
      "  req_data['Country'][idx] = 'Japan'\n",
      "<ipython-input-89-dd3ea75dff09>:46: SettingWithCopyWarning: \n",
      "A value is trying to be set on a copy of a slice from a DataFrame\n",
      "\n",
      "See the caveats in the documentation: https://pandas.pydata.org/pandas-docs/stable/user_guide/indexing.html#returning-a-view-versus-a-copy\n",
      "  req_data['Country'][idx] = 'United States'\n",
      "<ipython-input-89-dd3ea75dff09>:58: SettingWithCopyWarning: \n",
      "A value is trying to be set on a copy of a slice from a DataFrame\n",
      "\n",
      "See the caveats in the documentation: https://pandas.pydata.org/pandas-docs/stable/user_guide/indexing.html#returning-a-view-versus-a-copy\n",
      "  req_data['Country'][idx] = 'Dutch'\n",
      "<ipython-input-89-dd3ea75dff09>:69: SettingWithCopyWarning: \n",
      "A value is trying to be set on a copy of a slice from a DataFrame\n",
      "\n",
      "See the caveats in the documentation: https://pandas.pydata.org/pandas-docs/stable/user_guide/indexing.html#returning-a-view-versus-a-copy\n",
      "  req_data['Country'][idx] = 'Germany'\n",
      "<ipython-input-89-dd3ea75dff09>:80: SettingWithCopyWarning: \n",
      "A value is trying to be set on a copy of a slice from a DataFrame\n",
      "\n",
      "See the caveats in the documentation: https://pandas.pydata.org/pandas-docs/stable/user_guide/indexing.html#returning-a-view-versus-a-copy\n",
      "  req_data['Country'][idx] = 'Spain'\n"
     ]
    }
   ],
   "source": [
    "for i in req_data[(req_data['Country'] == 'India (Guler, Punjab Hills)') | (req_data['Country'] == 'India')]['Object ID']:\n",
    "    \n",
    "    \n",
    "    idx = req_data.index[req_data['Object ID'] == i][0]\n",
    "    \n",
    "    req_data['Country'][idx] = 'India'\n",
    "\n",
    "    \n",
    "\n",
    "for i in req_data[(req_data['Country'] == 'French') | (req_data['Country'] == 'France') | \n",
    "                 (req_data['Country'] == 'present-day France')]['Object ID']:\n",
    "    \n",
    "    \n",
    "    idx = req_data.index[req_data['Object ID'] == i][0]\n",
    "    \n",
    "    req_data['Country'][idx] = 'France'\n",
    "    \n",
    "    \n",
    "    \n",
    "for i in req_data[(req_data['Country'] == 'England') | (req_data['Country'] == 'British')]['Object ID']:\n",
    "    \n",
    "    \n",
    "    idx = req_data.index[req_data['Object ID'] == i][0]\n",
    "    \n",
    "    req_data['Country'][idx] = 'British'\n",
    "    \n",
    "    \n",
    "    \n",
    "    \n",
    "for i in req_data[(req_data['Country'] == 'Japan') | (req_data['Country'] == 'Japanese')]['Object ID']:\n",
    "    \n",
    "    \n",
    "    idx = req_data.index[req_data['Object ID'] == i][0]\n",
    "    \n",
    "    req_data['Country'][idx] = 'Japan'\n",
    "    \n",
    "    \n",
    "    \n",
    "    \n",
    "    \n",
    "for i in req_data[(req_data['Country'] == 'United States') | (req_data['Country'] == 'American')]['Object ID']:\n",
    "    \n",
    "    \n",
    "    idx = req_data.index[req_data['Object ID'] == i][0]\n",
    "    \n",
    "    req_data['Country'][idx] = 'United States'\n",
    "    \n",
    "    \n",
    "    \n",
    "    \n",
    "    \n",
    "    \n",
    "for i in req_data[(req_data['Country'] == 'Netherlands') | (req_data['Country'] == 'Dutch')]['Object ID']:\n",
    "    \n",
    "    \n",
    "    idx = req_data.index[req_data['Object ID'] == i][0]\n",
    "    \n",
    "    req_data['Country'][idx] = 'Dutch'\n",
    "    \n",
    "    \n",
    "    \n",
    "    \n",
    "    \n",
    "for i in req_data[(req_data['Country'] == 'Germany') | (req_data['Country'] == 'German')]['Object ID']:\n",
    "    \n",
    "    \n",
    "    idx = req_data.index[req_data['Object ID'] == i][0]\n",
    "    \n",
    "    req_data['Country'][idx] = 'Germany'\n",
    "    \n",
    "    \n",
    "    \n",
    "    \n",
    "\n",
    "for i in req_data[(req_data['Country'] == 'Spanish') | (req_data['Country'] == 'possibly Spain')]['Object ID']:\n",
    "    \n",
    "    \n",
    "    idx = req_data.index[req_data['Object ID'] == i][0]\n",
    "    \n",
    "    req_data['Country'][idx] = 'Spain'"
   ]
  },
  {
   "cell_type": "markdown",
   "metadata": {},
   "source": [
    "<B> The column COUNTRY is clean now.</B>"
   ]
  },
  {
   "cell_type": "code",
   "execution_count": 90,
   "metadata": {},
   "outputs": [
    {
     "data": {
      "text/plain": [
       "array(['United States', 'Dutch', 'Japan', 'Germany', 'Spain', 'China',\n",
       "       'Thailand', 'India', 'British', 'Italian', 'European', 'France',\n",
       "       nan, 'Romanian', 'Greek', 'Cypriot', 'Minoan', 'Indonesia',\n",
       "       'Mexico', 'Costa Rica', 'Papua New Guinea', 'Peru', 'Iran',\n",
       "       'Russia', 'Egypt', 'present-day Uzbekistan', 'Byzantine'],\n",
       "      dtype=object)"
      ]
     },
     "execution_count": 90,
     "metadata": {},
     "output_type": "execute_result"
    }
   ],
   "source": [
    "req_data['Country'].unique()"
   ]
  },
  {
   "cell_type": "code",
   "execution_count": null,
   "metadata": {},
   "outputs": [],
   "source": []
  },
  {
   "cell_type": "markdown",
   "metadata": {},
   "source": [
    "## DESPITE SUCH AN IMPUTATION, WE STILL HAVE MISSING VALUES"
   ]
  },
  {
   "cell_type": "code",
   "execution_count": 91,
   "metadata": {},
   "outputs": [
    {
     "data": {
      "text/plain": [
       "Object ID               0\n",
       "Department              0\n",
       "Object Name             0\n",
       "Title                   0\n",
       "Culture                98\n",
       "Artist Nationality    116\n",
       "Object Begin Date       0\n",
       "Object End Date         0\n",
       "Medium                  3\n",
       "Credit Line             0\n",
       "Country                98\n",
       "dtype: int64"
      ]
     },
     "execution_count": 91,
     "metadata": {},
     "output_type": "execute_result"
    }
   ],
   "source": [
    "req_data.isna().sum()"
   ]
  },
  {
   "cell_type": "code",
   "execution_count": null,
   "metadata": {},
   "outputs": [],
   "source": []
  },
  {
   "cell_type": "markdown",
   "metadata": {},
   "source": [
    "## The column 'Artist Nationality' cannot be imputed in a similar fashion."
   ]
  },
  {
   "cell_type": "markdown",
   "metadata": {},
   "source": [
    "This is because there is a <B>significant variability associated with the person who makes the finding and the place of the finding</B>"
   ]
  },
  {
   "cell_type": "markdown",
   "metadata": {},
   "source": [
    "Imputing an Artist's nationality based on the culture/country of the finding could wildly corrupt the data."
   ]
  },
  {
   "cell_type": "markdown",
   "metadata": {},
   "source": [
    "Hence, <B>The only option is to delete all the records that still have missing values</B>"
   ]
  },
  {
   "cell_type": "markdown",
   "metadata": {},
   "source": [
    "<B>But first, we make a note of all the records that will be deleted - to ensure that we have a log of all the datapoints removed"
   ]
  },
  {
   "cell_type": "code",
   "execution_count": 92,
   "metadata": {},
   "outputs": [],
   "source": [
    "removed_rows = list(req_data[req_data.isnull().any(axis = 1)].index)"
   ]
  },
  {
   "cell_type": "code",
   "execution_count": 93,
   "metadata": {
    "collapsed": true
   },
   "outputs": [
    {
     "data": {
      "text/plain": [
       "[0,\n",
       " 1,\n",
       " 2,\n",
       " 3,\n",
       " 4,\n",
       " 5,\n",
       " 6,\n",
       " 7,\n",
       " 8,\n",
       " 9,\n",
       " 10,\n",
       " 11,\n",
       " 13,\n",
       " 14,\n",
       " 18,\n",
       " 19,\n",
       " 20,\n",
       " 22,\n",
       " 27,\n",
       " 28,\n",
       " 29,\n",
       " 31,\n",
       " 33,\n",
       " 34,\n",
       " 36,\n",
       " 38,\n",
       " 39,\n",
       " 40,\n",
       " 43,\n",
       " 44,\n",
       " 45,\n",
       " 47,\n",
       " 48,\n",
       " 49,\n",
       " 50,\n",
       " 51,\n",
       " 52,\n",
       " 53,\n",
       " 54,\n",
       " 55,\n",
       " 56,\n",
       " 57,\n",
       " 58,\n",
       " 59,\n",
       " 60,\n",
       " 61,\n",
       " 62,\n",
       " 63,\n",
       " 64,\n",
       " 65,\n",
       " 66,\n",
       " 67,\n",
       " 68,\n",
       " 69,\n",
       " 70,\n",
       " 71,\n",
       " 72,\n",
       " 73,\n",
       " 74,\n",
       " 75,\n",
       " 76,\n",
       " 77,\n",
       " 78,\n",
       " 79,\n",
       " 80,\n",
       " 81,\n",
       " 82,\n",
       " 83,\n",
       " 84,\n",
       " 85,\n",
       " 87,\n",
       " 89,\n",
       " 90,\n",
       " 91,\n",
       " 93,\n",
       " 94,\n",
       " 95,\n",
       " 96,\n",
       " 97,\n",
       " 98,\n",
       " 99,\n",
       " 100,\n",
       " 102,\n",
       " 103,\n",
       " 104,\n",
       " 105,\n",
       " 106,\n",
       " 107,\n",
       " 108,\n",
       " 109,\n",
       " 110,\n",
       " 111,\n",
       " 112,\n",
       " 113,\n",
       " 114,\n",
       " 115,\n",
       " 116,\n",
       " 117,\n",
       " 118,\n",
       " 119,\n",
       " 120,\n",
       " 121,\n",
       " 123,\n",
       " 124,\n",
       " 125,\n",
       " 126,\n",
       " 127,\n",
       " 128,\n",
       " 129,\n",
       " 130,\n",
       " 131,\n",
       " 132,\n",
       " 133,\n",
       " 134,\n",
       " 135,\n",
       " 136,\n",
       " 137,\n",
       " 138,\n",
       " 139,\n",
       " 140,\n",
       " 141,\n",
       " 142,\n",
       " 143,\n",
       " 144,\n",
       " 145,\n",
       " 146,\n",
       " 147,\n",
       " 148,\n",
       " 149,\n",
       " 150,\n",
       " 151,\n",
       " 152,\n",
       " 153,\n",
       " 154,\n",
       " 155,\n",
       " 156,\n",
       " 157,\n",
       " 158,\n",
       " 159,\n",
       " 161,\n",
       " 162,\n",
       " 163,\n",
       " 164,\n",
       " 165,\n",
       " 166,\n",
       " 167,\n",
       " 168,\n",
       " 169,\n",
       " 170,\n",
       " 171,\n",
       " 172,\n",
       " 173,\n",
       " 174,\n",
       " 175,\n",
       " 176,\n",
       " 177,\n",
       " 178,\n",
       " 179,\n",
       " 180,\n",
       " 181,\n",
       " 182,\n",
       " 183,\n",
       " 184,\n",
       " 185,\n",
       " 186,\n",
       " 187,\n",
       " 188,\n",
       " 189,\n",
       " 190,\n",
       " 191,\n",
       " 192,\n",
       " 193,\n",
       " 194,\n",
       " 195,\n",
       " 196,\n",
       " 197,\n",
       " 198,\n",
       " 199,\n",
       " 200,\n",
       " 201,\n",
       " 202]"
      ]
     },
     "execution_count": 93,
     "metadata": {},
     "output_type": "execute_result"
    }
   ],
   "source": [
    "removed_rows"
   ]
  },
  {
   "cell_type": "code",
   "execution_count": null,
   "metadata": {},
   "outputs": [],
   "source": []
  },
  {
   "cell_type": "markdown",
   "metadata": {},
   "source": [
    "<B> Finally, we remove all rows with Nan values, and only keep fully valid records"
   ]
  },
  {
   "cell_type": "code",
   "execution_count": 94,
   "metadata": {},
   "outputs": [],
   "source": [
    "finale = req_data.drop(removed_rows)"
   ]
  },
  {
   "cell_type": "code",
   "execution_count": 95,
   "metadata": {
    "scrolled": true
   },
   "outputs": [
    {
     "data": {
      "text/html": [
       "<div>\n",
       "<style scoped>\n",
       "    .dataframe tbody tr th:only-of-type {\n",
       "        vertical-align: middle;\n",
       "    }\n",
       "\n",
       "    .dataframe tbody tr th {\n",
       "        vertical-align: top;\n",
       "    }\n",
       "\n",
       "    .dataframe thead th {\n",
       "        text-align: right;\n",
       "    }\n",
       "</style>\n",
       "<table border=\"1\" class=\"dataframe\">\n",
       "  <thead>\n",
       "    <tr style=\"text-align: right;\">\n",
       "      <th></th>\n",
       "      <th>Object ID</th>\n",
       "      <th>Department</th>\n",
       "      <th>Object Name</th>\n",
       "      <th>Title</th>\n",
       "      <th>Culture</th>\n",
       "      <th>Artist Nationality</th>\n",
       "      <th>Object Begin Date</th>\n",
       "      <th>Object End Date</th>\n",
       "      <th>Medium</th>\n",
       "      <th>Credit Line</th>\n",
       "      <th>Country</th>\n",
       "    </tr>\n",
       "  </thead>\n",
       "  <tbody>\n",
       "    <tr>\n",
       "      <th>12</th>\n",
       "      <td>39917</td>\n",
       "      <td>Asian Art</td>\n",
       "      <td>Hanging scroll mounted as handscroll</td>\n",
       "      <td>Bamboo</td>\n",
       "      <td>China</td>\n",
       "      <td>Chinese</td>\n",
       "      <td>101037</td>\n",
       "      <td>101101</td>\n",
       "      <td>Hanging scroll mounted as a handscroll; ink on...</td>\n",
       "      <td>Bequest of John M. Crawford Jr., 1988</td>\n",
       "      <td>China</td>\n",
       "    </tr>\n",
       "    <tr>\n",
       "      <th>15</th>\n",
       "      <td>54547</td>\n",
       "      <td>Asian Art</td>\n",
       "      <td>Print</td>\n",
       "      <td>Furuichi Dance (No. 2 of a Set of Four)</td>\n",
       "      <td>Japanese</td>\n",
       "      <td>Japanese</td>\n",
       "      <td>101800</td>\n",
       "      <td>101899</td>\n",
       "      <td>Polychrome woodblock print (surimono); ink and...</td>\n",
       "      <td>H. O. Havemeyer Collection, Bequest of Mrs. H....</td>\n",
       "      <td>Japan</td>\n",
       "    </tr>\n",
       "    <tr>\n",
       "      <th>16</th>\n",
       "      <td>54626</td>\n",
       "      <td>Asian Art</td>\n",
       "      <td>Album leaf</td>\n",
       "      <td>Cat Catching a Frog</td>\n",
       "      <td>Japanese</td>\n",
       "      <td>Japanese</td>\n",
       "      <td>101877</td>\n",
       "      <td>101897</td>\n",
       "      <td>Album leaf; ink and color on silk</td>\n",
       "      <td>Charles Stewart Smith Collection, Gift of Mrs....</td>\n",
       "      <td>Japan</td>\n",
       "    </tr>\n",
       "    <tr>\n",
       "      <th>17</th>\n",
       "      <td>55442</td>\n",
       "      <td>Asian Art</td>\n",
       "      <td>Print</td>\n",
       "      <td>Moonlight View of Suihiro Bridge, Tempozan</td>\n",
       "      <td>Japanese</td>\n",
       "      <td>Japanese</td>\n",
       "      <td>101838</td>\n",
       "      <td>101838</td>\n",
       "      <td>Polychrome woodblock print; ink and color on p...</td>\n",
       "      <td>Rogers Fund, 1922</td>\n",
       "      <td>Japan</td>\n",
       "    </tr>\n",
       "    <tr>\n",
       "      <th>21</th>\n",
       "      <td>72803</td>\n",
       "      <td>Asian Art</td>\n",
       "      <td>Hanging scroll</td>\n",
       "      <td>近代  蟬竹圖      軸|Bamboo and Cicada</td>\n",
       "      <td>China</td>\n",
       "      <td>Chinese</td>\n",
       "      <td>101966</td>\n",
       "      <td>101966</td>\n",
       "      <td>Hanging scroll; ink and color on paper</td>\n",
       "      <td>The Lin Yutang Family Collection, Gift of Rich...</td>\n",
       "      <td>China</td>\n",
       "    </tr>\n",
       "    <tr>\n",
       "      <th>23</th>\n",
       "      <td>80735</td>\n",
       "      <td>Costume Institute</td>\n",
       "      <td>Belt</td>\n",
       "      <td>Belt</td>\n",
       "      <td>Japanese</td>\n",
       "      <td>Japanese</td>\n",
       "      <td>101983</td>\n",
       "      <td>101987</td>\n",
       "      <td>leather, metal</td>\n",
       "      <td>Gift of Linda A. Rosenthal, 1993</td>\n",
       "      <td>Japan</td>\n",
       "    </tr>\n",
       "    <tr>\n",
       "      <th>24</th>\n",
       "      <td>81291</td>\n",
       "      <td>Costume Institute</td>\n",
       "      <td>Pumps</td>\n",
       "      <td>Pumps</td>\n",
       "      <td>British</td>\n",
       "      <td>British</td>\n",
       "      <td>101980</td>\n",
       "      <td>101989</td>\n",
       "      <td>leather</td>\n",
       "      <td>Gift of Holly Solomon, 1999</td>\n",
       "      <td>British</td>\n",
       "    </tr>\n",
       "    <tr>\n",
       "      <th>25</th>\n",
       "      <td>81451</td>\n",
       "      <td>Costume Institute</td>\n",
       "      <td>Evening dress</td>\n",
       "      <td>Evening dress</td>\n",
       "      <td>American</td>\n",
       "      <td>American</td>\n",
       "      <td>101983</td>\n",
       "      <td>101984</td>\n",
       "      <td>rayon</td>\n",
       "      <td>Gift of Calvin Klein, Inc., 1998</td>\n",
       "      <td>United States</td>\n",
       "    </tr>\n",
       "    <tr>\n",
       "      <th>26</th>\n",
       "      <td>83780</td>\n",
       "      <td>Costume Institute</td>\n",
       "      <td>Shoes</td>\n",
       "      <td>Shoes</td>\n",
       "      <td>Italian</td>\n",
       "      <td>Italian</td>\n",
       "      <td>101983</td>\n",
       "      <td>101989</td>\n",
       "      <td>synthetic</td>\n",
       "      <td>Gift of Muriel Kallis Newman, 2002</td>\n",
       "      <td>Italian</td>\n",
       "    </tr>\n",
       "    <tr>\n",
       "      <th>30</th>\n",
       "      <td>100359</td>\n",
       "      <td>Costume Institute</td>\n",
       "      <td>Hat</td>\n",
       "      <td>Hat</td>\n",
       "      <td>French</td>\n",
       "      <td>French</td>\n",
       "      <td>101949</td>\n",
       "      <td>101949</td>\n",
       "      <td>wool, cotton</td>\n",
       "      <td>Gift of Mary S. Ryan, 1981</td>\n",
       "      <td>France</td>\n",
       "    </tr>\n",
       "    <tr>\n",
       "      <th>32</th>\n",
       "      <td>114490</td>\n",
       "      <td>Costume Institute</td>\n",
       "      <td>Mules</td>\n",
       "      <td>Mules</td>\n",
       "      <td>American</td>\n",
       "      <td>American</td>\n",
       "      <td>101959</td>\n",
       "      <td>101959</td>\n",
       "      <td>leather, wood, metal glass</td>\n",
       "      <td>Gift of Beth and Herbert Levine, 1977</td>\n",
       "      <td>United States</td>\n",
       "    </tr>\n",
       "    <tr>\n",
       "      <th>35</th>\n",
       "      <td>129839</td>\n",
       "      <td>Costume Institute</td>\n",
       "      <td>Ensemble</td>\n",
       "      <td>Ensemble</td>\n",
       "      <td>British</td>\n",
       "      <td>British</td>\n",
       "      <td>101976</td>\n",
       "      <td>101980</td>\n",
       "      <td>a) leather; b) leather, metal</td>\n",
       "      <td>Purchase, Richard Martin Bequest and Friends o...</td>\n",
       "      <td>British</td>\n",
       "    </tr>\n",
       "    <tr>\n",
       "      <th>37</th>\n",
       "      <td>146150</td>\n",
       "      <td>Costume Institute</td>\n",
       "      <td>Jacket</td>\n",
       "      <td>Jacket</td>\n",
       "      <td>American</td>\n",
       "      <td>American</td>\n",
       "      <td>102003</td>\n",
       "      <td>102004</td>\n",
       "      <td>leather, wool</td>\n",
       "      <td>Catharine Breyer Van Bomel Foundation Fund, 2008</td>\n",
       "      <td>United States</td>\n",
       "    </tr>\n",
       "    <tr>\n",
       "      <th>41</th>\n",
       "      <td>170041</td>\n",
       "      <td>Costume Institute</td>\n",
       "      <td>Evening shoes</td>\n",
       "      <td>Evening shoes</td>\n",
       "      <td>American</td>\n",
       "      <td>American</td>\n",
       "      <td>101938</td>\n",
       "      <td>101943</td>\n",
       "      <td>Leather, metallic</td>\n",
       "      <td>Brooklyn Museum Costume Collection at The Metr...</td>\n",
       "      <td>United States</td>\n",
       "    </tr>\n",
       "    <tr>\n",
       "      <th>42</th>\n",
       "      <td>174460</td>\n",
       "      <td>Costume Institute</td>\n",
       "      <td>Ensemble</td>\n",
       "      <td>Ensemble</td>\n",
       "      <td>American</td>\n",
       "      <td>American</td>\n",
       "      <td>101950</td>\n",
       "      <td>101950</td>\n",
       "      <td>Wool</td>\n",
       "      <td>Brooklyn Museum Costume Collection at The Metr...</td>\n",
       "      <td>United States</td>\n",
       "    </tr>\n",
       "    <tr>\n",
       "      <th>46</th>\n",
       "      <td>198408</td>\n",
       "      <td>European Sculpture and Decorative Arts</td>\n",
       "      <td>Plaque</td>\n",
       "      <td>Marriage of Peleus and Thetis</td>\n",
       "      <td>Italian</td>\n",
       "      <td>Italian</td>\n",
       "      <td>101570</td>\n",
       "      <td>101580</td>\n",
       "      <td>Bronze</td>\n",
       "      <td>Samuel D. Lee Fund, 1939</td>\n",
       "      <td>Italian</td>\n",
       "    </tr>\n",
       "    <tr>\n",
       "      <th>86</th>\n",
       "      <td>345964</td>\n",
       "      <td>Drawings and Prints</td>\n",
       "      <td>Book</td>\n",
       "      <td>Meubles Modernes</td>\n",
       "      <td>French</td>\n",
       "      <td>French</td>\n",
       "      <td>101875</td>\n",
       "      <td>101890</td>\n",
       "      <td>Chromolithography</td>\n",
       "      <td>A. Hyatt Mayor Purchase Fund, Marjorie Phelps ...</td>\n",
       "      <td>France</td>\n",
       "    </tr>\n",
       "    <tr>\n",
       "      <th>88</th>\n",
       "      <td>347789</td>\n",
       "      <td>Drawings and Prints</td>\n",
       "      <td>Book</td>\n",
       "      <td>The Comical History of Lord Flutter, Lord Spin...</td>\n",
       "      <td>British</td>\n",
       "      <td>British</td>\n",
       "      <td>101800</td>\n",
       "      <td>101900</td>\n",
       "      <td>Wood engraving, hand colored</td>\n",
       "      <td>Gift of Lincoln Kirstein, 1964</td>\n",
       "      <td>British</td>\n",
       "    </tr>\n",
       "    <tr>\n",
       "      <th>92</th>\n",
       "      <td>355115</td>\n",
       "      <td>Drawings and Prints</td>\n",
       "      <td>Book</td>\n",
       "      <td>Exposition Lorraine. L'École de Nancy au Musée...</td>\n",
       "      <td>French</td>\n",
       "      <td>French</td>\n",
       "      <td>101900</td>\n",
       "      <td>101910</td>\n",
       "      <td>Heliotype print</td>\n",
       "      <td>The Elisha Whittelsey Collection, The Elisha W...</td>\n",
       "      <td>France</td>\n",
       "    </tr>\n",
       "    <tr>\n",
       "      <th>101</th>\n",
       "      <td>377953</td>\n",
       "      <td>Drawings and Prints</td>\n",
       "      <td>Book</td>\n",
       "      <td>L'Art de bâtir des maisons de Campagne</td>\n",
       "      <td>French</td>\n",
       "      <td>French</td>\n",
       "      <td>101743</td>\n",
       "      <td>101743</td>\n",
       "      <td>Printed book with engraved illustrations</td>\n",
       "      <td>Rogers Fund, 1952</td>\n",
       "      <td>France</td>\n",
       "    </tr>\n",
       "    <tr>\n",
       "      <th>122</th>\n",
       "      <td>431102</td>\n",
       "      <td>Drawings and Prints</td>\n",
       "      <td>Print</td>\n",
       "      <td>Vues de St. Petersbourg</td>\n",
       "      <td>Russia</td>\n",
       "      <td>French</td>\n",
       "      <td>101840</td>\n",
       "      <td>101840</td>\n",
       "      <td>Lithography, hand-colored</td>\n",
       "      <td>Gift of Robert D. Brewster, 1951</td>\n",
       "      <td>Russia</td>\n",
       "    </tr>\n",
       "    <tr>\n",
       "      <th>160</th>\n",
       "      <td>646748</td>\n",
       "      <td>Drawings and Prints</td>\n",
       "      <td>Print</td>\n",
       "      <td>Mary, Queen of Scots at the execution block (f...</td>\n",
       "      <td>British</td>\n",
       "      <td>British, Scottish</td>\n",
       "      <td>101795</td>\n",
       "      <td>101795</td>\n",
       "      <td>Etching and engraving</td>\n",
       "      <td>Gift of Susan Dwight Bliss, 1958</td>\n",
       "      <td>British</td>\n",
       "    </tr>\n",
       "  </tbody>\n",
       "</table>\n",
       "</div>"
      ],
      "text/plain": [
       "     Object ID                              Department  \\\n",
       "12       39917                               Asian Art   \n",
       "15       54547                               Asian Art   \n",
       "16       54626                               Asian Art   \n",
       "17       55442                               Asian Art   \n",
       "21       72803                               Asian Art   \n",
       "23       80735                       Costume Institute   \n",
       "24       81291                       Costume Institute   \n",
       "25       81451                       Costume Institute   \n",
       "26       83780                       Costume Institute   \n",
       "30      100359                       Costume Institute   \n",
       "32      114490                       Costume Institute   \n",
       "35      129839                       Costume Institute   \n",
       "37      146150                       Costume Institute   \n",
       "41      170041                       Costume Institute   \n",
       "42      174460                       Costume Institute   \n",
       "46      198408  European Sculpture and Decorative Arts   \n",
       "86      345964                     Drawings and Prints   \n",
       "88      347789                     Drawings and Prints   \n",
       "92      355115                     Drawings and Prints   \n",
       "101     377953                     Drawings and Prints   \n",
       "122     431102                     Drawings and Prints   \n",
       "160     646748                     Drawings and Prints   \n",
       "\n",
       "                              Object Name  \\\n",
       "12   Hanging scroll mounted as handscroll   \n",
       "15                                  Print   \n",
       "16                             Album leaf   \n",
       "17                                  Print   \n",
       "21                         Hanging scroll   \n",
       "23                                   Belt   \n",
       "24                                  Pumps   \n",
       "25                          Evening dress   \n",
       "26                                  Shoes   \n",
       "30                                    Hat   \n",
       "32                                  Mules   \n",
       "35                               Ensemble   \n",
       "37                                 Jacket   \n",
       "41                          Evening shoes   \n",
       "42                               Ensemble   \n",
       "46                                 Plaque   \n",
       "86                                   Book   \n",
       "88                                   Book   \n",
       "92                                   Book   \n",
       "101                                  Book   \n",
       "122                                 Print   \n",
       "160                                 Print   \n",
       "\n",
       "                                                 Title   Culture  \\\n",
       "12                                              Bamboo     China   \n",
       "15             Furuichi Dance (No. 2 of a Set of Four)  Japanese   \n",
       "16                                 Cat Catching a Frog  Japanese   \n",
       "17          Moonlight View of Suihiro Bridge, Tempozan  Japanese   \n",
       "21                    近代  蟬竹圖      軸|Bamboo and Cicada     China   \n",
       "23                                                Belt  Japanese   \n",
       "24                                               Pumps   British   \n",
       "25                                       Evening dress  American   \n",
       "26                                               Shoes   Italian   \n",
       "30                                                 Hat    French   \n",
       "32                                               Mules  American   \n",
       "35                                            Ensemble   British   \n",
       "37                                              Jacket  American   \n",
       "41                                       Evening shoes  American   \n",
       "42                                            Ensemble  American   \n",
       "46                       Marriage of Peleus and Thetis   Italian   \n",
       "86                                    Meubles Modernes    French   \n",
       "88   The Comical History of Lord Flutter, Lord Spin...   British   \n",
       "92   Exposition Lorraine. L'École de Nancy au Musée...    French   \n",
       "101             L'Art de bâtir des maisons de Campagne    French   \n",
       "122                            Vues de St. Petersbourg    Russia   \n",
       "160  Mary, Queen of Scots at the execution block (f...   British   \n",
       "\n",
       "    Artist Nationality  Object Begin Date  Object End Date  \\\n",
       "12             Chinese             101037           101101   \n",
       "15            Japanese             101800           101899   \n",
       "16            Japanese             101877           101897   \n",
       "17            Japanese             101838           101838   \n",
       "21             Chinese             101966           101966   \n",
       "23            Japanese             101983           101987   \n",
       "24             British             101980           101989   \n",
       "25            American             101983           101984   \n",
       "26             Italian             101983           101989   \n",
       "30              French             101949           101949   \n",
       "32            American             101959           101959   \n",
       "35             British             101976           101980   \n",
       "37            American             102003           102004   \n",
       "41            American             101938           101943   \n",
       "42            American             101950           101950   \n",
       "46             Italian             101570           101580   \n",
       "86              French             101875           101890   \n",
       "88             British             101800           101900   \n",
       "92              French             101900           101910   \n",
       "101             French             101743           101743   \n",
       "122             French             101840           101840   \n",
       "160  British, Scottish             101795           101795   \n",
       "\n",
       "                                                Medium  \\\n",
       "12   Hanging scroll mounted as a handscroll; ink on...   \n",
       "15   Polychrome woodblock print (surimono); ink and...   \n",
       "16                   Album leaf; ink and color on silk   \n",
       "17   Polychrome woodblock print; ink and color on p...   \n",
       "21              Hanging scroll; ink and color on paper   \n",
       "23                                      leather, metal   \n",
       "24                                             leather   \n",
       "25                                               rayon   \n",
       "26                                           synthetic   \n",
       "30                                        wool, cotton   \n",
       "32                          leather, wood, metal glass   \n",
       "35                       a) leather; b) leather, metal   \n",
       "37                                       leather, wool   \n",
       "41                                   Leather, metallic   \n",
       "42                                                Wool   \n",
       "46                                              Bronze   \n",
       "86                                   Chromolithography   \n",
       "88                        Wood engraving, hand colored   \n",
       "92                                     Heliotype print   \n",
       "101           Printed book with engraved illustrations   \n",
       "122                          Lithography, hand-colored   \n",
       "160                              Etching and engraving   \n",
       "\n",
       "                                           Credit Line        Country  \n",
       "12               Bequest of John M. Crawford Jr., 1988          China  \n",
       "15   H. O. Havemeyer Collection, Bequest of Mrs. H....          Japan  \n",
       "16   Charles Stewart Smith Collection, Gift of Mrs....          Japan  \n",
       "17                                   Rogers Fund, 1922          Japan  \n",
       "21   The Lin Yutang Family Collection, Gift of Rich...          China  \n",
       "23                    Gift of Linda A. Rosenthal, 1993          Japan  \n",
       "24                         Gift of Holly Solomon, 1999        British  \n",
       "25                    Gift of Calvin Klein, Inc., 1998  United States  \n",
       "26                  Gift of Muriel Kallis Newman, 2002        Italian  \n",
       "30                          Gift of Mary S. Ryan, 1981         France  \n",
       "32               Gift of Beth and Herbert Levine, 1977  United States  \n",
       "35   Purchase, Richard Martin Bequest and Friends o...        British  \n",
       "37    Catharine Breyer Van Bomel Foundation Fund, 2008  United States  \n",
       "41   Brooklyn Museum Costume Collection at The Metr...  United States  \n",
       "42   Brooklyn Museum Costume Collection at The Metr...  United States  \n",
       "46                            Samuel D. Lee Fund, 1939        Italian  \n",
       "86   A. Hyatt Mayor Purchase Fund, Marjorie Phelps ...         France  \n",
       "88                      Gift of Lincoln Kirstein, 1964        British  \n",
       "92   The Elisha Whittelsey Collection, The Elisha W...         France  \n",
       "101                                  Rogers Fund, 1952         France  \n",
       "122                   Gift of Robert D. Brewster, 1951         Russia  \n",
       "160                   Gift of Susan Dwight Bliss, 1958        British  "
      ]
     },
     "execution_count": 95,
     "metadata": {},
     "output_type": "execute_result"
    }
   ],
   "source": [
    "finale"
   ]
  },
  {
   "cell_type": "code",
   "execution_count": null,
   "metadata": {},
   "outputs": [],
   "source": []
  },
  {
   "cell_type": "code",
   "execution_count": 96,
   "metadata": {},
   "outputs": [],
   "source": [
    "finale.to_csv('clean_data.csv', index = False)"
   ]
  },
  {
   "cell_type": "code",
   "execution_count": null,
   "metadata": {},
   "outputs": [],
   "source": []
  },
  {
   "cell_type": "code",
   "execution_count": 98,
   "metadata": {},
   "outputs": [
    {
     "data": {
      "text/plain": [
       "22"
      ]
     },
     "execution_count": 98,
     "metadata": {},
     "output_type": "execute_result"
    }
   ],
   "source": [
    "finale.shape[0]"
   ]
  },
  {
   "cell_type": "code",
   "execution_count": null,
   "metadata": {},
   "outputs": [],
   "source": []
  },
  {
   "cell_type": "code",
   "execution_count": 99,
   "metadata": {},
   "outputs": [
    {
     "data": {
      "text/plain": [
       "array(['China', 'Japan', 'British', 'United States', 'Italian', 'France',\n",
       "       'Russia'], dtype=object)"
      ]
     },
     "execution_count": 99,
     "metadata": {},
     "output_type": "execute_result"
    }
   ],
   "source": [
    "finale['Country'].unique()"
   ]
  }
 ],
 "metadata": {
  "kernelspec": {
   "display_name": "Python 3",
   "language": "python",
   "name": "python3"
  },
  "language_info": {
   "codemirror_mode": {
    "name": "ipython",
    "version": 3
   },
   "file_extension": ".py",
   "mimetype": "text/x-python",
   "name": "python",
   "nbconvert_exporter": "python",
   "pygments_lexer": "ipython3",
   "version": "3.8.3"
  }
 },
 "nbformat": 4,
 "nbformat_minor": 4
}
